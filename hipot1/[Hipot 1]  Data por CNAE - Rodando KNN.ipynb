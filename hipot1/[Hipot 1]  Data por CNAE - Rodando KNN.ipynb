{
 "cells": [
  {
   "cell_type": "code",
   "execution_count": 6,
   "metadata": {},
   "outputs": [
    {
     "name": "stdout",
     "output_type": "stream",
     "text": [
      "(1548, 8)\n",
      "                                2 a 5h    5 a 8h   8 a 11h  11 a 14h  \\\n",
      "empresa                                                                \n",
      "21404ebaa0106ca20ae283c89271  0.010272  0.053073  0.110380  0.188593   \n",
      "510766392a95afd41c6bd526381a  0.005251  0.080865  0.169922  0.179584   \n",
      "8ef4d40b852168ea8e3bbc4c89a0  0.050384  0.100244  0.145921  0.141039   \n",
      "\n",
      "                              14 a 17h  17 a 20h  20 a 23h   23 a 2h  \n",
      "empresa                                                               \n",
      "21404ebaa0106ca20ae283c89271  0.159038  0.248603  0.158137  0.071905  \n",
      "510766392a95afd41c6bd526381a  0.177694  0.187566  0.161521  0.037597  \n",
      "8ef4d40b852168ea8e3bbc4c89a0  0.154114  0.170328  0.146618  0.091353  \n"
     ]
    }
   ],
   "source": [
    "# Importanto CSV de frequencias gerado pelo outro notebook\n",
    "\n",
    "import pandas as pd\n",
    "\n",
    "frequencia_transacoes_por_empresa = pd.read_csv(\"frequencia_transacoes_por_empresa.csv\", index_col = 0)\n",
    "\n",
    "print(frequencia_transacoes_por_empresa.shape)\n",
    "print(frequencia_transacoes_por_empresa.head(3))"
   ]
  },
  {
   "cell_type": "code",
   "execution_count": null,
   "metadata": {},
   "outputs": [],
   "source": []
  }
 ],
 "metadata": {
  "kernelspec": {
   "display_name": "Python 3",
   "language": "python",
   "name": "python3"
  },
  "language_info": {
   "codemirror_mode": {
    "name": "ipython",
    "version": 3
   },
   "file_extension": ".py",
   "mimetype": "text/x-python",
   "name": "python",
   "nbconvert_exporter": "python",
   "pygments_lexer": "ipython3",
   "version": "3.7.3"
  }
 },
 "nbformat": 4,
 "nbformat_minor": 2
}

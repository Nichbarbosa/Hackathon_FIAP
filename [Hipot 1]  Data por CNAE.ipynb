{
 "cells": [
  {
   "cell_type": "code",
   "execution_count": null,
   "metadata": {},
   "outputs": [],
   "source": [
    "#[Hipótese 1] Data por CNAE"
   ]
  },
  {
   "cell_type": "code",
   "execution_count": null,
   "metadata": {},
   "outputs": [],
   "source": [
    "# Maior movimentação, elencar o maior grupo de tipos de empresa.\n",
    "# 1. Criar faixas de horário de 3 em 3 horas com transações efetuadas nesse horário - por empresa.\n",
    "# 2. Plotar histograma de faixa de horário de transação. 1 gráfico por CNAE (não empresa).\n",
    "# 3. Verificar a possibilidade de clusterização utilizando KNN caso gráfico de um CNAE seja muito divergente \n",
    "#    (sem faixa de horários muito contrastantes), verificando se cabem clusters de clientes, dado horário de transações.\n",
    "\n",
    "# Faixas de horário:\n",
    "# 02 h as 05 h\n",
    "# 05 h as 08 h\n",
    "# 08 h as 11 h\n",
    "# 11 h as 14 h\n",
    "# 14 h as 17 h\n",
    "# 17 h as 20 h\n",
    "# 20 h as 23 h\n",
    "# 23 h as 02 h"
   ]
  },
  {
   "cell_type": "code",
   "execution_count": null,
   "metadata": {},
   "outputs": [],
   "source": []
  }
 ],
 "metadata": {
  "kernelspec": {
   "display_name": "Python 3",
   "language": "python",
   "name": "python3"
  },
  "language_info": {
   "codemirror_mode": {
    "name": "ipython",
    "version": 3
   },
   "file_extension": ".py",
   "mimetype": "text/x-python",
   "name": "python",
   "nbconvert_exporter": "python",
   "pygments_lexer": "ipython3",
   "version": "3.7.3"
  }
 },
 "nbformat": 4,
 "nbformat_minor": 2
}

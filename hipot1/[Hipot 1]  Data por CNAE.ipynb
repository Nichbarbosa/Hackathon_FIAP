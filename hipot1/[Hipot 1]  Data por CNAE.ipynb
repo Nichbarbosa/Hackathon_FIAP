{
 "cells": [
  {
   "cell_type": "code",
   "execution_count": null,
   "metadata": {},
   "outputs": [],
   "source": [
    "#[Hipótese 1] Data por CNAE"
   ]
  },
  {
   "cell_type": "code",
   "execution_count": null,
   "metadata": {},
   "outputs": [],
   "source": [
    "# Maior movimentação, elencar o maior grupo de tipos de empresa.\n",
    "# 1. Criar faixas de horário de 3 em 3 horas com transações efetuadas nesse horário - por empresa.\n",
    "# 2. Plotar histograma de faixa de horário de transação. 1 gráfico por CNAE (não empresa).\n",
    "# 3. Verificar a possibilidade de clusterização utilizando KNN caso gráfico de um CNAE seja muito divergente \n",
    "#    (sem faixa de horários muito contrastantes), verificando se cabem clusters de clientes, dado horário de transações.\n",
    "\n",
    "# Faixas de horário:\n",
    "# 02 h as 05 h\n",
    "# 05 h as 08 h\n",
    "# 08 h as 11 h\n",
    "# 11 h as 14 h\n",
    "# 14 h as 17 h\n",
    "# 17 h as 20 h\n",
    "# 20 h as 23 h\n",
    "# 23 h as 02 h"
   ]
  },
  {
   "cell_type": "code",
   "execution_count": 28,
   "metadata": {},
   "outputs": [
    {
     "name": "stdout",
     "output_type": "stream",
     "text": [
      "(1499999, 8)\n"
     ]
    }
   ],
   "source": [
    "# importar arquivo como csv\n",
    "\n",
    "import pandas as pd\n",
    "\n",
    "combined_csv = pd.read_csv(\"../combined_csv.csv\", skiprows = 1, names =[\"1\",\"2\",\"3\",\"4\",\"5\",\"6\",\"7\",\"8\"])\n",
    "\n",
    "print(combined_csv.shape)"
   ]
  },
  {
   "cell_type": "code",
   "execution_count": 42,
   "metadata": {},
   "outputs": [
    {
     "name": "stdout",
     "output_type": "stream",
     "text": [
      "                                                   1  \\\n",
      "0  6139646137356433363237396637323937336161383832...   \n",
      "1  6139646137356433363237396637323937336161383832...   \n",
      "2  6139646137356433363237396637323937336161383832...   \n",
      "3  6139646137356433363237396637323937336161383832...   \n",
      "4  6139646137356433363237396637323937336161383832...   \n",
      "5  6139646137356433363237396637323937336161383832...   \n",
      "6  6139646137356433363237396637323937336161383832...   \n",
      "7  6139646137356433363237396637323937336161383832...   \n",
      "8  6139646137356433363237396637323937336161383832...   \n",
      "9  6139646137356433363237396637323937336161383832...   \n",
      "\n",
      "                              2  \\\n",
      "0  21404ebaa0106ca20ae283c89271   \n",
      "1  510766392a95afd41c6bd526381a   \n",
      "2  21404ebaa0106ca20ae283c89271   \n",
      "3  8ef4d40b852168ea8e3bbc4c89a0   \n",
      "4  8ef4d40b852168ea8e3bbc4c89a0   \n",
      "5  617b9dcd2479b7e85da7a90b56c4   \n",
      "6  5dc07a1ef6f3839d858729107f26   \n",
      "7  617b9dcd2479b7e85da7a90b56c4   \n",
      "8  300e3558d7460c7091bc096e848f   \n",
      "9  7b5053d48239177a54d8d754b925   \n",
      "\n",
      "                                                   3                   4  \\\n",
      "0  3630643234373336643037313439636562303565393630... 2018-11-19 16:40:45   \n",
      "1  3261383131366661633864353433656333303337646536... 2018-12-07 09:56:37   \n",
      "2  6364633832333939393439623930373034393366626462... 2018-10-18 08:29:47   \n",
      "3  3231383536386136336562643333306531303434343463... 2018-10-15 09:18:55   \n",
      "4  3864633636396239353161643761343839323436653162... 2018-10-07 00:41:16   \n",
      "5  3937343137653032373961623764666330383562353961... 2018-12-12 05:41:29   \n",
      "6  3236666463616132663035333035313735626237653438... 2018-10-28 07:20:23   \n",
      "7  3035393137396530623437363332303665663936306334... 2018-11-02 12:49:56   \n",
      "8  3166613166663233633237376535373261653262653931... 2018-11-11 14:30:41   \n",
      "9  3234336336636336663166613534303536303739343830... 2018-11-19 11:28:04   \n",
      "\n",
      "         5                        6    7    8  \n",
      "0  100.005           gasolina comum  NaN  NaN  \n",
      "1  50.0008   filtro pel 107 tec fil  NaN  NaN  \n",
      "2  10.0514           gasolina comum  NaN  NaN  \n",
      "3  180.004           gasolina comum  NaN  NaN  \n",
      "4  19.9623           gasolina comum  NaN  NaN  \n",
      "5  10.0057           gasolina comum  NaN  NaN  \n",
      "6      5.5        isqueiro bic maxi  NaN  NaN  \n",
      "7  9.38196           gasolina comum  NaN  NaN  \n",
      "8        6   agua leve c/gás 1,5 ml  NaN  NaN  \n",
      "9    4.031  pao francês diversos kg  NaN  NaN  \n"
     ]
    }
   ],
   "source": [
    "# tratamento de data e hora\n",
    "\n",
    "from datetime import datetime\n",
    "\n",
    "data_e_hora_parsed = pd.to_datetime(combined_csv.loc[:, \"4\"], format=\"%Y-%m-%dT%H:%M:%S.000Z\",errors=\"coerce\")\n",
    "\n",
    "combined_csv[\"4\"] = data_e_hora_parsed\n",
    "\n",
    "print(combined_csv.head(10))"
   ]
  },
  {
   "cell_type": "code",
   "execution_count": 56,
   "metadata": {},
   "outputs": [
    {
     "name": "stdout",
     "output_type": "stream",
     "text": [
      "                                                         1  \\\n",
      "1079232                                            Consumo   \n",
      "1079233  O Gorgonzola Serrabella Tradicional apresenta ...   \n",
      "1079234                             Formas de apresentação   \n",
      "1079235                           Forma cilíndrica de 3 Kg   \n",
      "1079236                                                -\\t   \n",
      "1079237                                      Ficha técnica   \n",
      "1079238                                        Massa: Crua   \n",
      "1079239                                Sabor: Pronunciado\"   \n",
      "1304430                                            Consumo   \n",
      "1304431  O Gorgonzola Serrabella Tradicional apresenta ...   \n",
      "1304432                             Formas de apresentação   \n",
      "1304433                           Forma cilíndrica de 3 Kg   \n",
      "1304434                                                -\\t   \n",
      "1304435                                      Ficha técnica   \n",
      "1304436                                        Massa: Crua   \n",
      "1304437                                Sabor: Pronunciado\"   \n",
      "1493387                               Tela: Mini Corações    \n",
      "1493388                                 Cor: Azul Marinho    \n",
      "1493389                                    Aroma: Morango\"   \n",
      "\n",
      "                                                         2  \\\n",
      "1079232                                                NaN   \n",
      "1079233   levemente quebradiça; seu sabor é acentuado e...   \n",
      "1079234                                                NaN   \n",
      "1079235                   cunhas de 250 g ou cartelas de 1   \n",
      "1079236                                                NaN   \n",
      "1079237                                                NaN   \n",
      "1079238           maturada por fungo Penicillium roquefort   \n",
      "1079239  3865343936393861366665666463376363383530656263...   \n",
      "1304430                                                NaN   \n",
      "1304431   levemente quebradiça; seu sabor é acentuado e...   \n",
      "1304432                                                NaN   \n",
      "1304433                   cunhas de 250 g ou cartelas de 1   \n",
      "1304434                                                NaN   \n",
      "1304435                                                NaN   \n",
      "1304436           maturada por fungo Penicillium roquefort   \n",
      "1304437  3161626339316264373761623931643133313765373939...   \n",
      "1493387                                                NaN   \n",
      "1493388                                                NaN   \n",
      "1493389  3264383032613763326131653863326564326130623736...   \n",
      "\n",
      "                                                         3   4            5  \\\n",
      "1079232                                                NaN NaT          NaN   \n",
      "1079233   sendo muito utilizado na culinária. Já o Gorg... NaT   Pinot Noir   \n",
      "1079234                                                NaN NaT          NaN   \n",
      "1079235                                 5 Kg (Tradicional) NaT          NaN   \n",
      "1079236                                                NaN NaT          NaN   \n",
      "1079237                                                NaN NaT          NaN   \n",
      "1079238                                                NaN NaT          NaN   \n",
      "1079239                                                NaN NaT          NaN   \n",
      "1304430                                                NaN NaT          NaN   \n",
      "1304431   sendo muito utilizado na culinária. Já o Gorg... NaT   Pinot Noir   \n",
      "1304432                                                NaN NaT          NaN   \n",
      "1304433                                 5 Kg (Tradicional) NaT          NaN   \n",
      "1304434                                                NaN NaT          NaN   \n",
      "1304435                                                NaN NaT          NaN   \n",
      "1304436                                                NaN NaT          NaN   \n",
      "1304437                                                NaN NaT          NaN   \n",
      "1493387                                                NaN NaT          NaN   \n",
      "1493388                                                NaN NaT          NaN   \n",
      "1493389                                                NaN NaT          NaN   \n",
      "\n",
      "                                                        6    7    8  \n",
      "1079232                                               NaN  NaN  NaN  \n",
      "1079233   Barolo) são uma boa sugestão de acompanhamento.  NaN  NaN  \n",
      "1079234                                               NaN  NaN  NaN  \n",
      "1079235                                               NaN  NaN  NaN  \n",
      "1079236                                               NaN  NaN  NaN  \n",
      "1079237                                               NaN  NaN  NaN  \n",
      "1079238                                               NaN  NaN  NaN  \n",
      "1079239                                               NaN  NaN  NaN  \n",
      "1304430                                               NaN  NaN  NaN  \n",
      "1304431   Barolo) são uma boa sugestão de acompanhamento.  NaN  NaN  \n",
      "1304432                                               NaN  NaN  NaN  \n",
      "1304433                                               NaN  NaN  NaN  \n",
      "1304434                                               NaN  NaN  NaN  \n",
      "1304435                                               NaN  NaN  NaN  \n",
      "1304436                                               NaN  NaN  NaN  \n",
      "1304437                                               NaN  NaN  NaN  \n",
      "1493387                                               NaN  NaN  NaN  \n",
      "1493388                                               NaN  NaN  NaN  \n",
      "1493389                                               NaN  NaN  NaN  \n",
      "(1499980, 8)\n"
     ]
    }
   ],
   "source": [
    "# limpeza dos campos NaN\n",
    "\n",
    "df_datas_corretas = combined_csv[combined_csv[\"4\"].notnull()] \n",
    "df_datas_incorretas = combined_csv[combined_csv[\"4\"].isnull()]\n",
    "\n",
    "print(df_datas_corretas.shape)"
   ]
  },
  {
   "cell_type": "code",
   "execution_count": null,
   "metadata": {},
   "outputs": [],
   "source": []
  }
 ],
 "metadata": {
  "kernelspec": {
   "display_name": "Python 3",
   "language": "python",
   "name": "python3"
  },
  "language_info": {
   "codemirror_mode": {
    "name": "ipython",
    "version": 3
   },
   "file_extension": ".py",
   "mimetype": "text/x-python",
   "name": "python",
   "nbconvert_exporter": "python",
   "pygments_lexer": "ipython3",
   "version": "3.7.3"
  }
 },
 "nbformat": 4,
 "nbformat_minor": 2
}

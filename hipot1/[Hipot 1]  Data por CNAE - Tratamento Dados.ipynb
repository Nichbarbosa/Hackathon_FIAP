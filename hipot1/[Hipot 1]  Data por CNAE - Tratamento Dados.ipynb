{
 "cells": [
  {
   "cell_type": "code",
   "execution_count": 1,
   "metadata": {},
   "outputs": [],
   "source": [
    "#[Hipótese 1] Data por CNAE"
   ]
  },
  {
   "cell_type": "code",
   "execution_count": 2,
   "metadata": {},
   "outputs": [],
   "source": [
    "# Maior movimentação, elencar o maior grupo de tipos de empresa.\n",
    "# 1. Criar faixas de horário de 3 em 3 horas com transações efetuadas nesse horário - por empresa.\n",
    "# 2. Plotar histograma de faixa de horário de transação. 1 gráfico por CNAE (não empresa).\n",
    "# 3. Verificar a possibilidade de clusterização utilizando KNN caso gráfico de um CNAE seja muito divergente \n",
    "#    (sem faixa de horários muito contrastantes), verificando se cabem clusters de clientes, dado horário de transações.\n",
    "\n",
    "# Faixas de horário:\n",
    "# 02 h as 05 h\n",
    "# 05 h as 08 h\n",
    "# 08 h as 11 h\n",
    "# 11 h as 14 h\n",
    "# 14 h as 17 h\n",
    "# 17 h as 20 h\n",
    "# 20 h as 23 h\n",
    "# 23 h as 02 h"
   ]
  },
  {
   "cell_type": "code",
   "execution_count": 3,
   "metadata": {},
   "outputs": [
    {
     "name": "stderr",
     "output_type": "stream",
     "text": [
      "D:\\Anaconda\\lib\\site-packages\\IPython\\core\\interactiveshell.py:3049: DtypeWarning: Columns (4) have mixed types. Specify dtype option on import or set low_memory=False.\n",
      "  interactivity=interactivity, compiler=compiler, result=result)\n"
     ]
    },
    {
     "name": "stdout",
     "output_type": "stream",
     "text": [
      "(1499999, 8)\n"
     ]
    }
   ],
   "source": [
    "# importar arquivo como csv\n",
    "\n",
    "import pandas as pd\n",
    "\n",
    "combined_csv = pd.read_csv(\"../combined_csv.csv\", skiprows = 1, names =[\"dominio\",\"empresa\",\"3\",\"datahora\",\"5\",\"6\",\"7\",\"8\"])\n",
    "\n",
    "print(combined_csv.shape)"
   ]
  },
  {
   "cell_type": "code",
   "execution_count": 4,
   "metadata": {},
   "outputs": [],
   "source": [
    "# removendo colunas desnecessarias\n",
    "\n",
    "combined_csv.drop(\"3\", inplace=True, axis=1)\n",
    "combined_csv.drop(\"5\", inplace=True, axis=1)\n",
    "combined_csv.drop(\"6\", inplace=True, axis=1)\n",
    "combined_csv.drop(\"7\", inplace=True, axis=1)\n",
    "combined_csv.drop(\"8\", inplace=True, axis=1)"
   ]
  },
  {
   "cell_type": "code",
   "execution_count": 5,
   "metadata": {},
   "outputs": [
    {
     "name": "stdout",
     "output_type": "stream",
     "text": [
      "                                             dominio  \\\n",
      "0  6139646137356433363237396637323937336161383832...   \n",
      "1  6139646137356433363237396637323937336161383832...   \n",
      "2  6139646137356433363237396637323937336161383832...   \n",
      "3  6139646137356433363237396637323937336161383832...   \n",
      "\n",
      "                        empresa            datahora  \n",
      "0  21404ebaa0106ca20ae283c89271 2018-11-19 16:40:45  \n",
      "1  510766392a95afd41c6bd526381a 2018-12-07 09:56:37  \n",
      "2  21404ebaa0106ca20ae283c89271 2018-10-18 08:29:47  \n",
      "3  8ef4d40b852168ea8e3bbc4c89a0 2018-10-15 09:18:55  \n"
     ]
    }
   ],
   "source": [
    "# tratamento de data e hora\n",
    "\n",
    "from datetime import datetime\n",
    "\n",
    "data_e_hora_parsed = pd.to_datetime(combined_csv.loc[:, \"datahora\"], format=\"%Y-%m-%dT%H:%M:%S.000Z\",errors=\"coerce\")\n",
    "\n",
    "combined_csv[\"datahora\"] = data_e_hora_parsed\n",
    "\n",
    "print(combined_csv.head(4))"
   ]
  },
  {
   "cell_type": "code",
   "execution_count": 6,
   "metadata": {
    "scrolled": true
   },
   "outputs": [
    {
     "name": "stdout",
     "output_type": "stream",
     "text": [
      "(1499980, 3)\n",
      "                                             dominio  \\\n",
      "0  6139646137356433363237396637323937336161383832...   \n",
      "1  6139646137356433363237396637323937336161383832...   \n",
      "2  6139646137356433363237396637323937336161383832...   \n",
      "3  6139646137356433363237396637323937336161383832...   \n",
      "\n",
      "                        empresa            datahora  \n",
      "0  21404ebaa0106ca20ae283c89271 2018-11-19 16:40:45  \n",
      "1  510766392a95afd41c6bd526381a 2018-12-07 09:56:37  \n",
      "2  21404ebaa0106ca20ae283c89271 2018-10-18 08:29:47  \n",
      "3  8ef4d40b852168ea8e3bbc4c89a0 2018-10-15 09:18:55  \n"
     ]
    }
   ],
   "source": [
    "# limpeza dos campos NaT\n",
    "\n",
    "df_datas_corretas = combined_csv[combined_csv[\"datahora\"].notnull()] \n",
    "df_datas_incorretas = combined_csv[combined_csv[\"datahora\"].isnull()]\n",
    "\n",
    "print(df_datas_corretas.shape)\n",
    "print(df_datas_corretas.head(4))"
   ]
  },
  {
   "cell_type": "code",
   "execution_count": 7,
   "metadata": {
    "scrolled": true
   },
   "outputs": [
    {
     "name": "stdout",
     "output_type": "stream",
     "text": [
      "(1499980, 3)\n",
      "                                             dominio  \\\n",
      "0  6139646137356433363237396637323937336161383832...   \n",
      "1  6139646137356433363237396637323937336161383832...   \n",
      "2  6139646137356433363237396637323937336161383832...   \n",
      "3  6139646137356433363237396637323937336161383832...   \n",
      "\n",
      "                        empresa  hora  \n",
      "0  21404ebaa0106ca20ae283c89271    16  \n",
      "1  510766392a95afd41c6bd526381a     9  \n",
      "2  21404ebaa0106ca20ae283c89271     8  \n",
      "3  8ef4d40b852168ea8e3bbc4c89a0     9  \n"
     ]
    },
    {
     "name": "stderr",
     "output_type": "stream",
     "text": [
      "D:\\Anaconda\\lib\\site-packages\\ipykernel_launcher.py:5: SettingWithCopyWarning: \n",
      "A value is trying to be set on a copy of a slice from a DataFrame.\n",
      "Try using .loc[row_indexer,col_indexer] = value instead\n",
      "\n",
      "See the caveats in the documentation: http://pandas.pydata.org/pandas-docs/stable/indexing.html#indexing-view-versus-copy\n",
      "  \"\"\"\n",
      "D:\\Anaconda\\lib\\site-packages\\pandas\\core\\frame.py:3940: SettingWithCopyWarning: \n",
      "A value is trying to be set on a copy of a slice from a DataFrame\n",
      "\n",
      "See the caveats in the documentation: http://pandas.pydata.org/pandas-docs/stable/indexing.html#indexing-view-versus-copy\n",
      "  errors=errors)\n"
     ]
    }
   ],
   "source": [
    "# transformando em horário\n",
    "\n",
    "df_horarios_transacoes = df_datas_corretas[\"datahora\"].dt.hour\n",
    "\n",
    "df_datas_corretas[\"hora\"] = df_horarios_transacoes\n",
    "\n",
    "df_datas_corretas.drop(\"datahora\", inplace=True, axis=1)\n",
    "\n",
    "print(df_datas_corretas.shape)\n",
    "print(df_datas_corretas.head(4))"
   ]
  },
  {
   "cell_type": "code",
   "execution_count": 30,
   "metadata": {
    "scrolled": true
   },
   "outputs": [
    {
     "name": "stdout",
     "output_type": "stream",
     "text": [
      "                             0h 1h 2h 3h 4h 5h 6h 7h 8h 9h  ... 16h 17h 18h  \\\n",
      "21404ebaa0106ca20ae283c89271  0  0  0  0  0  0  0  0  0  0  ...   0   0   0   \n",
      "510766392a95afd41c6bd526381a  0  0  0  0  0  0  0  0  0  0  ...   0   0   0   \n",
      "8ef4d40b852168ea8e3bbc4c89a0  0  0  0  0  0  0  0  0  0  0  ...   0   0   0   \n",
      "\n",
      "                             19h 20h 21h 22h 23h Total Erros  \n",
      "21404ebaa0106ca20ae283c89271   0   0   0   0   0     0     0  \n",
      "510766392a95afd41c6bd526381a   0   0   0   0   0     0     0  \n",
      "8ef4d40b852168ea8e3bbc4c89a0   0   0   0   0   0     0     0  \n",
      "\n",
      "[3 rows x 26 columns]\n"
     ]
    }
   ],
   "source": [
    "# Agrupando as empresas e criando um dataframe de horário por cada transação\n",
    "\n",
    "empresas = df_datas_corretas.empresa.unique()\n",
    "\n",
    "COLUNAS = [\n",
    "    '0h',\n",
    "    '1h',\n",
    "    '2h',\n",
    "    '3h',\n",
    "    '4h',\n",
    "    '5h',\n",
    "    '6h',\n",
    "    '7h',\n",
    "    '8h',\n",
    "    '9h',\n",
    "    '10h',\n",
    "    '11h',\n",
    "    '12h',\n",
    "    '13h',\n",
    "    '14h',\n",
    "    '15h',\n",
    "    '16h',\n",
    "    '17h',\n",
    "    '18h',\n",
    "    '19h',\n",
    "    '20h',\n",
    "    '21h',\n",
    "    '22h',\n",
    "    '23h',\n",
    "    'Total',\n",
    "    'Erros'\n",
    "]\n",
    "\n",
    "frequencia_horario_empresas = pd.DataFrame(columns=COLUNAS,index=empresas)\n",
    "\n",
    "for col in frequencia_horario_empresas.columns:\n",
    "    frequencia_horario_empresas[col].values[:] = 0\n",
    "    \n",
    "print(frequencia_horario_empresas.head(3))"
   ]
  },
  {
   "cell_type": "code",
   "execution_count": 31,
   "metadata": {},
   "outputs": [
    {
     "name": "stdout",
     "output_type": "stream",
     "text": [
      "0\n",
      "100000\n",
      "200000\n",
      "300000\n",
      "400000\n",
      "500000\n",
      "600000\n",
      "700000\n",
      "800000\n",
      "900000\n",
      "1000000\n",
      "1100000\n",
      "1200000\n",
      "1300000\n",
      "1400000\n"
     ]
    }
   ],
   "source": [
    "# populando o dataframe de frequencias de horario por empresa\n",
    "\n",
    "for index, row in df_datas_corretas.iterrows():\n",
    "    if index % 100000 == 0:\n",
    "        print(index)\n",
    "    if row[\"hora\"] == 0:\n",
    "        frequencia_horario_empresas.loc[row[\"empresa\"], \"0h\"] += 1\n",
    "    elif row[\"hora\"] == 1:\n",
    "        frequencia_horario_empresas.loc[row[\"empresa\"], \"1h\"] += 1\n",
    "    elif row[\"hora\"] == 2:\n",
    "        frequencia_horario_empresas.loc[row[\"empresa\"], \"2h\"] += 1\n",
    "    elif row[\"hora\"] == 3:\n",
    "        frequencia_horario_empresas.loc[row[\"empresa\"], \"3h\"] += 1\n",
    "    elif row[\"hora\"] == 4:\n",
    "        frequencia_horario_empresas.loc[row[\"empresa\"], \"4h\"] += 1\n",
    "    elif row[\"hora\"] == 5:\n",
    "        frequencia_horario_empresas.loc[row[\"empresa\"], \"5h\"] += 1\n",
    "    elif row[\"hora\"] == 6:\n",
    "        frequencia_horario_empresas.loc[row[\"empresa\"], \"6h\"] += 1\n",
    "    elif row[\"hora\"] == 7:\n",
    "        frequencia_horario_empresas.loc[row[\"empresa\"], \"7h\"] += 1\n",
    "    elif row[\"hora\"] == 8:\n",
    "        frequencia_horario_empresas.loc[row[\"empresa\"], \"8h\"] += 1\n",
    "    elif row[\"hora\"] == 9:\n",
    "        frequencia_horario_empresas.loc[row[\"empresa\"], \"9h\"] += 1\n",
    "    elif row[\"hora\"] == 10:\n",
    "        frequencia_horario_empresas.loc[row[\"empresa\"], \"10h\"] += 1\n",
    "    elif row[\"hora\"] == 11:\n",
    "        frequencia_horario_empresas.loc[row[\"empresa\"], \"11h\"] += 1\n",
    "    elif row[\"hora\"] == 12:\n",
    "        frequencia_horario_empresas.loc[row[\"empresa\"], \"12h\"] += 1\n",
    "    elif row[\"hora\"] == 13:\n",
    "        frequencia_horario_empresas.loc[row[\"empresa\"], \"13h\"] += 1\n",
    "    elif row[\"hora\"] == 14:\n",
    "        frequencia_horario_empresas.loc[row[\"empresa\"], \"14h\"] += 1\n",
    "    elif row[\"hora\"] == 15:\n",
    "        frequencia_horario_empresas.loc[row[\"empresa\"], \"15h\"] += 1\n",
    "    elif row[\"hora\"] == 16:\n",
    "        frequencia_horario_empresas.loc[row[\"empresa\"], \"16h\"] += 1\n",
    "    elif row[\"hora\"] == 17:\n",
    "        frequencia_horario_empresas.loc[row[\"empresa\"], \"17h\"] += 1\n",
    "    elif row[\"hora\"] == 18:\n",
    "        frequencia_horario_empresas.loc[row[\"empresa\"], \"18h\"] += 1\n",
    "    elif row[\"hora\"] == 19:\n",
    "        frequencia_horario_empresas.loc[row[\"empresa\"], \"19h\"] += 1\n",
    "    elif row[\"hora\"] == 20:\n",
    "        frequencia_horario_empresas.loc[row[\"empresa\"], \"20h\"] += 1\n",
    "    elif row[\"hora\"] == 21:\n",
    "        frequencia_horario_empresas.loc[row[\"empresa\"], \"21h\"] += 1\n",
    "    elif row[\"hora\"] == 22:\n",
    "        frequencia_horario_empresas.loc[row[\"empresa\"], \"22h\"] += 1\n",
    "    elif row[\"hora\"] == 23:\n",
    "        frequencia_horario_empresas.loc[row[\"empresa\"], \"23h\"] += 1\n",
    "    else:\n",
    "        frequencia_horario_empresas.loc[row[\"empresa\"], \"Erros\"] += 1\n",
    "        \n",
    "    frequencia_horario_empresas.loc[row[\"empresa\"], \"Total\"] += 1\n",
    "        "
   ]
  },
  {
   "cell_type": "code",
   "execution_count": 32,
   "metadata": {
    "scrolled": false
   },
   "outputs": [
    {
     "name": "stdout",
     "output_type": "stream",
     "text": [
      "                               0h  1h  2h  3h  4h  5h   6h   7h   8h   9h  \\\n",
      "21404ebaa0106ca20ae283c89271  190  34  44  32  38  95  242  252  219  379   \n",
      "510766392a95afd41c6bd526381a   29  26   8   8   9   7  141  237  259  272   \n",
      "\n",
      "                              ...  16h  17h   18h  19h  20h  21h  22h  23h  \\\n",
      "21404ebaa0106ca20ae283c89271  ...  606  805  1018  936  784  507  464  574   \n",
      "510766392a95afd41c6bd526381a  ...  268  285   320  288  301  281  187  124   \n",
      "\n",
      "                              Total  Erros  \n",
      "21404ebaa0106ca20ae283c89271  11098      0  \n",
      "510766392a95afd41c6bd526381a   4761      0  \n",
      "\n",
      "[2 rows x 26 columns]\n",
      "1499980\n",
      "0\n"
     ]
    }
   ],
   "source": [
    "# Checando se resultado bate com valor total\n",
    "\n",
    "print(frequencia_horario_empresas.head(2))\n",
    "\n",
    "total = 0\n",
    "erros = 0\n",
    "\n",
    "for index, row in frequencia_horario_empresas.iterrows():\n",
    "    total += row[\"Total\"]\n",
    "    erros += row[\"Erros\"]\n",
    "    \n",
    "print(total)\n",
    "print(erros)"
   ]
  },
  {
   "cell_type": "code",
   "execution_count": 33,
   "metadata": {},
   "outputs": [
    {
     "name": "stdout",
     "output_type": "stream",
     "text": [
      "(1548, 25)\n"
     ]
    }
   ],
   "source": [
    "# Exportando arquivo de frequencias\n",
    "\n",
    "frequencia_horario_empresas.drop(\"Erros\", inplace=True, axis=1)\n",
    "\n",
    "export_csv = frequencia_horario_empresas.to_csv (r'frequencia_transacoes_por_empresa.csv', index_label = \"empresa\")\n",
    "\n",
    "print(frequencia_horario_empresas.shape)"
   ]
  },
  {
   "cell_type": "code",
   "execution_count": 35,
   "metadata": {
    "scrolled": true
   },
   "outputs": [
    {
     "name": "stdout",
     "output_type": "stream",
     "text": [
      "                               0h   1h   2h  3h   4h   5h   6h   7h   8h   9h  \\\n",
      "21404ebaa0106ca20ae283c89271  190   34   44  32   38   95  242  252  219  379   \n",
      "510766392a95afd41c6bd526381a   29   26    8   8    9    7  141  237  259  272   \n",
      "8ef4d40b852168ea8e3bbc4c89a0  177  166  108  75  106  127  186  262  261  284   \n",
      "617b9dcd2479b7e85da7a90b56c4   23   16   20  15   18   47   63   92  125  135   \n",
      "5dc07a1ef6f3839d858729107f26    0    0    0   0    0    1   41  132  110  110   \n",
      "\n",
      "                              ...  15h  16h  17h   18h  19h  20h  21h  22h  \\\n",
      "21404ebaa0106ca20ae283c89271  ...  603  606  805  1018  936  784  507  464   \n",
      "510766392a95afd41c6bd526381a  ...  292  268  285   320  288  301  281  187   \n",
      "8ef4d40b852168ea8e3bbc4c89a0  ...  285  325  316   318  343  315  260  266   \n",
      "617b9dcd2479b7e85da7a90b56c4  ...  135  122  175   153  152  146  115   70   \n",
      "5dc07a1ef6f3839d858729107f26  ...  105   93  136   129  122   69   57    9   \n",
      "\n",
      "                              23h  Total  \n",
      "21404ebaa0106ca20ae283c89271  574  11098  \n",
      "510766392a95afd41c6bd526381a  124   4761  \n",
      "8ef4d40b852168ea8e3bbc4c89a0  181   5736  \n",
      "617b9dcd2479b7e85da7a90b56c4   69   2487  \n",
      "5dc07a1ef6f3839d858729107f26    0   1618  \n",
      "\n",
      "[5 rows x 25 columns]\n",
      "                                    0h        1h        2h        3h  \\\n",
      "21404ebaa0106ca20ae283c89271  0.017120  0.003064  0.003965  0.002883   \n",
      "510766392a95afd41c6bd526381a  0.006091  0.005461  0.001680  0.001680   \n",
      "8ef4d40b852168ea8e3bbc4c89a0  0.030858  0.028940  0.018828  0.013075   \n",
      "617b9dcd2479b7e85da7a90b56c4  0.009248  0.006433  0.008042  0.006031   \n",
      "5dc07a1ef6f3839d858729107f26  0.000000  0.000000  0.000000  0.000000   \n",
      "\n",
      "                                    4h        5h        6h        7h  \\\n",
      "21404ebaa0106ca20ae283c89271  0.003424  0.008560  0.021806  0.022707   \n",
      "510766392a95afd41c6bd526381a  0.001890  0.001470  0.029616  0.049779   \n",
      "8ef4d40b852168ea8e3bbc4c89a0  0.018480  0.022141  0.032427  0.045676   \n",
      "617b9dcd2479b7e85da7a90b56c4  0.007238  0.018898  0.025332  0.036992   \n",
      "5dc07a1ef6f3839d858729107f26  0.000000  0.000618  0.025340  0.081582   \n",
      "\n",
      "                                    8h        9h  ...       15h       16h  \\\n",
      "21404ebaa0106ca20ae283c89271  0.019733  0.034150  ...  0.054334  0.054604   \n",
      "510766392a95afd41c6bd526381a  0.054400  0.057131  ...  0.061332  0.056291   \n",
      "8ef4d40b852168ea8e3bbc4c89a0  0.045502  0.049512  ...  0.049686  0.056660   \n",
      "617b9dcd2479b7e85da7a90b56c4  0.050261  0.054282  ...  0.054282  0.049055   \n",
      "5dc07a1ef6f3839d858729107f26  0.067985  0.067985  ...  0.064895  0.057478   \n",
      "\n",
      "                                   17h       18h       19h       20h  \\\n",
      "21404ebaa0106ca20ae283c89271  0.072536  0.091728  0.084340  0.070643   \n",
      "510766392a95afd41c6bd526381a  0.059861  0.067213  0.060491  0.063222   \n",
      "8ef4d40b852168ea8e3bbc4c89a0  0.055091  0.055439  0.059798  0.054916   \n",
      "617b9dcd2479b7e85da7a90b56c4  0.070366  0.061520  0.061118  0.058705   \n",
      "5dc07a1ef6f3839d858729107f26  0.084054  0.079728  0.075402  0.042645   \n",
      "\n",
      "                                   21h       22h       23h  Total  \n",
      "21404ebaa0106ca20ae283c89271  0.045684  0.041809  0.051721  11098  \n",
      "510766392a95afd41c6bd526381a  0.059021  0.039277  0.026045   4761  \n",
      "8ef4d40b852168ea8e3bbc4c89a0  0.045328  0.046374  0.031555   5736  \n",
      "617b9dcd2479b7e85da7a90b56c4  0.046240  0.028146  0.027744   2487  \n",
      "5dc07a1ef6f3839d858729107f26  0.035229  0.005562  0.000000   1618  \n",
      "\n",
      "[5 rows x 25 columns]\n"
     ]
    }
   ],
   "source": [
    "# Fazendo o cálculo de % de transações por faixa de horário\n",
    "\n",
    "porcentagem_frequencia_empresas = frequencia_horario_empresas.copy()\n",
    "\n",
    "for index, row in frequencia_horario_empresas.iterrows():\n",
    "    porcentagem_frequencia_empresas.loc[index,[\"0h\"]]  = row[\"0h\"]  / row[\"Total\"]\n",
    "    porcentagem_frequencia_empresas.loc[index,[\"1h\"]]  = row[\"1h\"]  / row[\"Total\"]\n",
    "    porcentagem_frequencia_empresas.loc[index,[\"2h\"]]  = row[\"2h\"]  / row[\"Total\"]\n",
    "    porcentagem_frequencia_empresas.loc[index,[\"3h\"]]  = row[\"3h\"]  / row[\"Total\"]\n",
    "    porcentagem_frequencia_empresas.loc[index,[\"4h\"]]  = row[\"4h\"]  / row[\"Total\"]\n",
    "    porcentagem_frequencia_empresas.loc[index,[\"5h\"]]  = row[\"5h\"]  / row[\"Total\"]\n",
    "    porcentagem_frequencia_empresas.loc[index,[\"6h\"]]  = row[\"6h\"]  / row[\"Total\"]\n",
    "    porcentagem_frequencia_empresas.loc[index,[\"7h\"]]  = row[\"7h\"]  / row[\"Total\"]\n",
    "    porcentagem_frequencia_empresas.loc[index,[\"8h\"]]  = row[\"8h\"]  / row[\"Total\"]\n",
    "    porcentagem_frequencia_empresas.loc[index,[\"9h\"]]  = row[\"9h\"]  / row[\"Total\"]\n",
    "    porcentagem_frequencia_empresas.loc[index,[\"10h\"]] = row[\"10h\"] / row[\"Total\"]\n",
    "    porcentagem_frequencia_empresas.loc[index,[\"11h\"]] = row[\"11h\"] / row[\"Total\"]\n",
    "    porcentagem_frequencia_empresas.loc[index,[\"12h\"]] = row[\"12h\"] / row[\"Total\"]\n",
    "    porcentagem_frequencia_empresas.loc[index,[\"13h\"]] = row[\"13h\"] / row[\"Total\"]\n",
    "    porcentagem_frequencia_empresas.loc[index,[\"14h\"]] = row[\"14h\"] / row[\"Total\"]\n",
    "    porcentagem_frequencia_empresas.loc[index,[\"15h\"]] = row[\"15h\"] / row[\"Total\"]\n",
    "    porcentagem_frequencia_empresas.loc[index,[\"16h\"]] = row[\"16h\"] / row[\"Total\"]\n",
    "    porcentagem_frequencia_empresas.loc[index,[\"17h\"]] = row[\"17h\"] / row[\"Total\"]\n",
    "    porcentagem_frequencia_empresas.loc[index,[\"18h\"]] = row[\"18h\"] / row[\"Total\"]\n",
    "    porcentagem_frequencia_empresas.loc[index,[\"19h\"]] = row[\"19h\"] / row[\"Total\"]\n",
    "    porcentagem_frequencia_empresas.loc[index,[\"20h\"]] = row[\"20h\"] / row[\"Total\"]\n",
    "    porcentagem_frequencia_empresas.loc[index,[\"21h\"]] = row[\"21h\"] / row[\"Total\"]\n",
    "    porcentagem_frequencia_empresas.loc[index,[\"22h\"]] = row[\"22h\"] / row[\"Total\"]\n",
    "    porcentagem_frequencia_empresas.loc[index,[\"23h\"]] = row[\"23h\"] / row[\"Total\"]\n",
    "\n",
    "print(frequencia_horario_empresas.head(5))\n",
    "print(porcentagem_frequencia_empresas.head(5))"
   ]
  },
  {
   "cell_type": "code",
   "execution_count": 36,
   "metadata": {},
   "outputs": [
    {
     "name": "stdout",
     "output_type": "stream",
     "text": [
      "(1548, 25)\n"
     ]
    }
   ],
   "source": [
    "# Exportando arquivo de porcentagens\n",
    "\n",
    "export_csv = porcentagem_frequencia_empresas.to_csv (r'porcentagem_transacoes_por_empresa.csv', index_label = \"empresa\")\n",
    "\n",
    "print(porcentagem_frequencia_empresas.shape)"
   ]
  },
  {
   "cell_type": "code",
   "execution_count": null,
   "metadata": {},
   "outputs": [],
   "source": []
  }
 ],
 "metadata": {
  "kernelspec": {
   "display_name": "Python 3",
   "language": "python",
   "name": "python3"
  },
  "language_info": {
   "codemirror_mode": {
    "name": "ipython",
    "version": 3
   },
   "file_extension": ".py",
   "mimetype": "text/x-python",
   "name": "python",
   "nbconvert_exporter": "python",
   "pygments_lexer": "ipython3",
   "version": "3.7.2"
  }
 },
 "nbformat": 4,
 "nbformat_minor": 2
}

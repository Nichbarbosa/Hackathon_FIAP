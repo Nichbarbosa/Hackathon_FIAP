{
 "cells": [
  {
   "cell_type": "code",
   "execution_count": 1,
   "metadata": {},
   "outputs": [],
   "source": [
    "#[Hipótese 1] Data por CNAE"
   ]
  },
  {
   "cell_type": "code",
   "execution_count": 2,
   "metadata": {},
   "outputs": [],
   "source": [
    "# Maior movimentação, elencar o maior grupo de tipos de empresa.\n",
    "# 1. Criar faixas de horário de 3 em 3 horas com transações efetuadas nesse horário - por empresa.\n",
    "# 2. Plotar histograma de faixa de horário de transação. 1 gráfico por CNAE (não empresa).\n",
    "# 3. Verificar a possibilidade de clusterização utilizando KNN caso gráfico de um CNAE seja muito divergente \n",
    "#    (sem faixa de horários muito contrastantes), verificando se cabem clusters de clientes, dado horário de transações.\n",
    "\n",
    "# Faixas de horário:\n",
    "# 02 h as 05 h\n",
    "# 05 h as 08 h\n",
    "# 08 h as 11 h\n",
    "# 11 h as 14 h\n",
    "# 14 h as 17 h\n",
    "# 17 h as 20 h\n",
    "# 20 h as 23 h\n",
    "# 23 h as 02 h"
   ]
  },
  {
   "cell_type": "code",
   "execution_count": 3,
   "metadata": {},
   "outputs": [
    {
     "name": "stderr",
     "output_type": "stream",
     "text": [
      "D:\\Anaconda\\lib\\site-packages\\IPython\\core\\interactiveshell.py:3049: DtypeWarning: Columns (4) have mixed types. Specify dtype option on import or set low_memory=False.\n",
      "  interactivity=interactivity, compiler=compiler, result=result)\n"
     ]
    },
    {
     "name": "stdout",
     "output_type": "stream",
     "text": [
      "(1499999, 8)\n"
     ]
    }
   ],
   "source": [
    "# importar arquivo como csv\n",
    "\n",
    "import pandas as pd\n",
    "\n",
    "combined_csv = pd.read_csv(\"../combined_csv.csv\", skiprows = 1, names =[\"dominio\",\"empresa\",\"3\",\"datahora\",\"5\",\"6\",\"7\",\"8\"])\n",
    "\n",
    "print(combined_csv.shape)"
   ]
  },
  {
   "cell_type": "code",
   "execution_count": 4,
   "metadata": {},
   "outputs": [],
   "source": [
    "# removendo colunas desnecessarias\n",
    "\n",
    "combined_csv.drop(\"3\", inplace=True, axis=1)\n",
    "combined_csv.drop(\"5\", inplace=True, axis=1)\n",
    "combined_csv.drop(\"6\", inplace=True, axis=1)\n",
    "combined_csv.drop(\"7\", inplace=True, axis=1)\n",
    "combined_csv.drop(\"8\", inplace=True, axis=1)"
   ]
  },
  {
   "cell_type": "code",
   "execution_count": 5,
   "metadata": {},
   "outputs": [
    {
     "name": "stdout",
     "output_type": "stream",
     "text": [
      "                                             dominio  \\\n",
      "0  6139646137356433363237396637323937336161383832...   \n",
      "1  6139646137356433363237396637323937336161383832...   \n",
      "2  6139646137356433363237396637323937336161383832...   \n",
      "3  6139646137356433363237396637323937336161383832...   \n",
      "\n",
      "                        empresa            datahora  \n",
      "0  21404ebaa0106ca20ae283c89271 2018-11-19 16:40:45  \n",
      "1  510766392a95afd41c6bd526381a 2018-12-07 09:56:37  \n",
      "2  21404ebaa0106ca20ae283c89271 2018-10-18 08:29:47  \n",
      "3  8ef4d40b852168ea8e3bbc4c89a0 2018-10-15 09:18:55  \n"
     ]
    }
   ],
   "source": [
    "# tratamento de data e hora\n",
    "\n",
    "from datetime import datetime\n",
    "\n",
    "data_e_hora_parsed = pd.to_datetime(combined_csv.loc[:, \"datahora\"], format=\"%Y-%m-%dT%H:%M:%S.000Z\",errors=\"coerce\")\n",
    "\n",
    "combined_csv[\"datahora\"] = data_e_hora_parsed\n",
    "\n",
    "print(combined_csv.head(4))"
   ]
  },
  {
   "cell_type": "code",
   "execution_count": 6,
   "metadata": {
    "scrolled": true
   },
   "outputs": [
    {
     "name": "stdout",
     "output_type": "stream",
     "text": [
      "(1499980, 3)\n",
      "                                             dominio  \\\n",
      "0  6139646137356433363237396637323937336161383832...   \n",
      "1  6139646137356433363237396637323937336161383832...   \n",
      "2  6139646137356433363237396637323937336161383832...   \n",
      "3  6139646137356433363237396637323937336161383832...   \n",
      "\n",
      "                        empresa            datahora  \n",
      "0  21404ebaa0106ca20ae283c89271 2018-11-19 16:40:45  \n",
      "1  510766392a95afd41c6bd526381a 2018-12-07 09:56:37  \n",
      "2  21404ebaa0106ca20ae283c89271 2018-10-18 08:29:47  \n",
      "3  8ef4d40b852168ea8e3bbc4c89a0 2018-10-15 09:18:55  \n"
     ]
    }
   ],
   "source": [
    "# limpeza dos campos NaT\n",
    "\n",
    "df_datas_corretas = combined_csv[combined_csv[\"datahora\"].notnull()] \n",
    "df_datas_incorretas = combined_csv[combined_csv[\"datahora\"].isnull()]\n",
    "\n",
    "print(df_datas_corretas.shape)\n",
    "print(df_datas_corretas.head(4))"
   ]
  },
  {
   "cell_type": "code",
   "execution_count": 7,
   "metadata": {
    "scrolled": true
   },
   "outputs": [
    {
     "name": "stdout",
     "output_type": "stream",
     "text": [
      "(1499980, 3)\n",
      "                                             dominio  \\\n",
      "0  6139646137356433363237396637323937336161383832...   \n",
      "1  6139646137356433363237396637323937336161383832...   \n",
      "2  6139646137356433363237396637323937336161383832...   \n",
      "3  6139646137356433363237396637323937336161383832...   \n",
      "\n",
      "                        empresa  hora  \n",
      "0  21404ebaa0106ca20ae283c89271    16  \n",
      "1  510766392a95afd41c6bd526381a     9  \n",
      "2  21404ebaa0106ca20ae283c89271     8  \n",
      "3  8ef4d40b852168ea8e3bbc4c89a0     9  \n"
     ]
    },
    {
     "name": "stderr",
     "output_type": "stream",
     "text": [
      "D:\\Anaconda\\lib\\site-packages\\ipykernel_launcher.py:5: SettingWithCopyWarning: \n",
      "A value is trying to be set on a copy of a slice from a DataFrame.\n",
      "Try using .loc[row_indexer,col_indexer] = value instead\n",
      "\n",
      "See the caveats in the documentation: http://pandas.pydata.org/pandas-docs/stable/indexing.html#indexing-view-versus-copy\n",
      "  \"\"\"\n",
      "D:\\Anaconda\\lib\\site-packages\\pandas\\core\\frame.py:3940: SettingWithCopyWarning: \n",
      "A value is trying to be set on a copy of a slice from a DataFrame\n",
      "\n",
      "See the caveats in the documentation: http://pandas.pydata.org/pandas-docs/stable/indexing.html#indexing-view-versus-copy\n",
      "  errors=errors)\n"
     ]
    }
   ],
   "source": [
    "# transformando em horário\n",
    "\n",
    "df_horarios_transacoes = df_datas_corretas[\"datahora\"].dt.hour\n",
    "\n",
    "df_datas_corretas[\"hora\"] = df_horarios_transacoes\n",
    "\n",
    "df_datas_corretas.drop(\"datahora\", inplace=True, axis=1)\n",
    "\n",
    "print(df_datas_corretas.shape)\n",
    "print(df_datas_corretas.head(4))"
   ]
  },
  {
   "cell_type": "code",
   "execution_count": 19,
   "metadata": {
    "scrolled": true
   },
   "outputs": [
    {
     "name": "stdout",
     "output_type": "stream",
     "text": [
      "                             2 a 5h 5 a 8h 8 a 11h 11 a 14h 14 a 17h 17 a 20h  \\\n",
      "21404ebaa0106ca20ae283c89271      0      0       0        0        0        0   \n",
      "510766392a95afd41c6bd526381a      0      0       0        0        0        0   \n",
      "8ef4d40b852168ea8e3bbc4c89a0      0      0       0        0        0        0   \n",
      "\n",
      "                             20 a 23h 23 a 2h Total  \n",
      "21404ebaa0106ca20ae283c89271        0       0     0  \n",
      "510766392a95afd41c6bd526381a        0       0     0  \n",
      "8ef4d40b852168ea8e3bbc4c89a0        0       0     0  \n"
     ]
    }
   ],
   "source": [
    "# Agrupando as empresas e criando um dataframe de horário por cada transação\n",
    "\n",
    "empresas = df_datas_corretas.empresa.unique()\n",
    "\n",
    "COLUNAS = [\n",
    "    '2 a 5h',\n",
    "    '5 a 8h',\n",
    "    '8 a 11h',\n",
    "    '11 a 14h',\n",
    "    '14 a 17h',\n",
    "    '17 a 20h',\n",
    "    '20 a 23h',\n",
    "    '23 a 2h',\n",
    "    'Total'\n",
    "]\n",
    "\n",
    "frequencia_horario_empresas = pd.DataFrame(columns=COLUNAS,index=empresas)\n",
    "for col in frequencia_horario_empresas.columns:\n",
    "    frequencia_horario_empresas[col].values[:] = 0\n",
    "    \n",
    "print(frequencia_horario_empresas.head(3))"
   ]
  },
  {
   "cell_type": "code",
   "execution_count": 20,
   "metadata": {},
   "outputs": [
    {
     "name": "stdout",
     "output_type": "stream",
     "text": [
      "0\n",
      "100000\n",
      "200000\n",
      "300000\n",
      "400000\n",
      "500000\n",
      "600000\n",
      "700000\n",
      "800000\n",
      "900000\n",
      "1000000\n",
      "1100000\n",
      "1200000\n",
      "1300000\n",
      "1400000\n"
     ]
    }
   ],
   "source": [
    "# populando o dataframe de frequencias de horario por empresa\n",
    "\n",
    "for index, row in df_datas_corretas.iterrows():\n",
    "    if index % 100000 == 0:\n",
    "        print(index)\n",
    "    if row[\"hora\"] < 2:\n",
    "        frequencia_horario_empresas.loc[row[\"empresa\"], \"23 a 2h\"] += 1\n",
    "    elif row[\"hora\"] < 5:\n",
    "        frequencia_horario_empresas.loc[row[\"empresa\"], \"2 a 5h\"] += 1\n",
    "    elif row[\"hora\"] < 8:\n",
    "        frequencia_horario_empresas.loc[row[\"empresa\"], \"5 a 8h\"] += 1\n",
    "    elif row[\"hora\"] < 11:\n",
    "        frequencia_horario_empresas.loc[row[\"empresa\"], \"8 a 11h\"] += 1\n",
    "    elif row[\"hora\"] < 14:\n",
    "        frequencia_horario_empresas.loc[row[\"empresa\"], \"11 a 14h\"] += 1\n",
    "    elif row[\"hora\"] < 17:\n",
    "        frequencia_horario_empresas.loc[row[\"empresa\"], \"14 a 17h\"] += 1\n",
    "    elif row[\"hora\"] < 20:\n",
    "        frequencia_horario_empresas.loc[row[\"empresa\"], \"17 a 20h\"] += 1\n",
    "    elif row[\"hora\"] < 23:\n",
    "        frequencia_horario_empresas.loc[row[\"empresa\"], \"20 a 23h\"] += 1\n",
    "    else:\n",
    "        frequencia_horario_empresas.loc[row[\"empresa\"], \"23 a 2h\"] += 1\n",
    "        \n",
    "    frequencia_horario_empresas.loc[row[\"empresa\"], \"Total\"] += 1\n",
    "        "
   ]
  },
  {
   "cell_type": "code",
   "execution_count": 22,
   "metadata": {
    "scrolled": false
   },
   "outputs": [
    {
     "name": "stdout",
     "output_type": "stream",
     "text": [
      "                              2 a 5h  5 a 8h  8 a 11h  11 a 14h  14 a 17h  \\\n",
      "21404ebaa0106ca20ae283c89271     114     589     1225      2093      1765   \n",
      "510766392a95afd41c6bd526381a      25     385      809       855       846   \n",
      "8ef4d40b852168ea8e3bbc4c89a0     289     575      837       809       884   \n",
      "617b9dcd2479b7e85da7a90b56c4      53     202      426       482       405   \n",
      "5dc07a1ef6f3839d858729107f26       0     174      317       301       304   \n",
      "\n",
      "                              17 a 20h  20 a 23h  23 a 2h  Total  \n",
      "21404ebaa0106ca20ae283c89271      2759      1755      798  11098  \n",
      "510766392a95afd41c6bd526381a       893       769      179   4761  \n",
      "8ef4d40b852168ea8e3bbc4c89a0       977       841      524   5736  \n",
      "617b9dcd2479b7e85da7a90b56c4       480       331      108   2487  \n",
      "5dc07a1ef6f3839d858729107f26       387       135        0   1618  \n",
      "1499980\n"
     ]
    }
   ],
   "source": [
    "# Checando se resultado bate com valor total\n",
    "\n",
    "print(frequencia_horario_empresas.head(5))\n",
    "\n",
    "total = 0\n",
    "\n",
    "for index, row in frequencia_horario_empresas.iterrows():\n",
    "    total += row[\"Total\"]\n",
    "    \n",
    "print(total)"
   ]
  },
  {
   "cell_type": "code",
   "execution_count": 27,
   "metadata": {},
   "outputs": [
    {
     "name": "stdout",
     "output_type": "stream",
     "text": [
      "                              2 a 5h  5 a 8h  8 a 11h  11 a 14h  14 a 17h  \\\n",
      "21404ebaa0106ca20ae283c89271     114     589     1225      2093      1765   \n",
      "510766392a95afd41c6bd526381a      25     385      809       855       846   \n",
      "8ef4d40b852168ea8e3bbc4c89a0     289     575      837       809       884   \n",
      "617b9dcd2479b7e85da7a90b56c4      53     202      426       482       405   \n",
      "5dc07a1ef6f3839d858729107f26       0     174      317       301       304   \n",
      "\n",
      "                              17 a 20h  20 a 23h  23 a 2h  Total  \n",
      "21404ebaa0106ca20ae283c89271      2759      1755      798  11098  \n",
      "510766392a95afd41c6bd526381a       893       769      179   4761  \n",
      "8ef4d40b852168ea8e3bbc4c89a0       977       841      524   5736  \n",
      "617b9dcd2479b7e85da7a90b56c4       480       331      108   2487  \n",
      "5dc07a1ef6f3839d858729107f26       387       135        0   1618  \n",
      "                                2 a 5h    5 a 8h   8 a 11h  11 a 14h  \\\n",
      "21404ebaa0106ca20ae283c89271  0.010272  0.053073  0.110380  0.188593   \n",
      "510766392a95afd41c6bd526381a  0.005251  0.080865  0.169922  0.179584   \n",
      "8ef4d40b852168ea8e3bbc4c89a0  0.050384  0.100244  0.145921  0.141039   \n",
      "617b9dcd2479b7e85da7a90b56c4  0.021311  0.081222  0.171291  0.193808   \n",
      "5dc07a1ef6f3839d858729107f26  0.000000  0.107540  0.195921  0.186032   \n",
      "\n",
      "                              14 a 17h  17 a 20h  20 a 23h   23 a 2h  Total  \n",
      "21404ebaa0106ca20ae283c89271  0.159038  0.248603  0.158137  0.071905  11098  \n",
      "510766392a95afd41c6bd526381a  0.177694  0.187566  0.161521  0.037597   4761  \n",
      "8ef4d40b852168ea8e3bbc4c89a0  0.154114  0.170328  0.146618  0.091353   5736  \n",
      "617b9dcd2479b7e85da7a90b56c4  0.162847  0.193004  0.133092  0.043426   2487  \n",
      "5dc07a1ef6f3839d858729107f26  0.187886  0.239184  0.083436  0.000000   1618  \n"
     ]
    }
   ],
   "source": [
    "# Fazendo o cálculo de % de transações por faixa de horário\n",
    "\n",
    "porcentagem_frequencia_empresas = frequencia_horario_empresas.copy()\n",
    "\n",
    "for index, row in frequencia_horario_empresas.iterrows():\n",
    "    porcentagem_frequencia_empresas.loc[index,[\"2 a 5h\"]]   = row[\"2 a 5h\"]   / row[\"Total\"]\n",
    "    porcentagem_frequencia_empresas.loc[index,[\"5 a 8h\"]]   = row[\"5 a 8h\"]   / row[\"Total\"]\n",
    "    porcentagem_frequencia_empresas.loc[index,[\"8 a 11h\"]]  = row[\"8 a 11h\"]  / row[\"Total\"]\n",
    "    porcentagem_frequencia_empresas.loc[index,[\"11 a 14h\"]] = row[\"11 a 14h\"] / row[\"Total\"]\n",
    "    porcentagem_frequencia_empresas.loc[index,[\"14 a 17h\"]] = row[\"14 a 17h\"] / row[\"Total\"]\n",
    "    porcentagem_frequencia_empresas.loc[index,[\"17 a 20h\"]] = row[\"17 a 20h\"] / row[\"Total\"]\n",
    "    porcentagem_frequencia_empresas.loc[index,[\"20 a 23h\"]] = row[\"20 a 23h\"] / row[\"Total\"]\n",
    "    porcentagem_frequencia_empresas.loc[index,[\"23 a 2h\"]]  = row[\"23 a 2h\"]  / row[\"Total\"]\n",
    "\n",
    "print(frequencia_horario_empresas.head(5))\n",
    "print(porcentagem_frequencia_empresas.head(5))"
   ]
  },
  {
   "cell_type": "code",
   "execution_count": 28,
   "metadata": {},
   "outputs": [
    {
     "name": "stdout",
     "output_type": "stream",
     "text": [
      "(1548, 9)\n"
     ]
    }
   ],
   "source": [
    "# Exportando arquivo de porcentagens\n",
    "\n",
    "export_csv = porcentagem_frequencia_empresas.to_csv (r'frequencia_transacoes_por_empresa.csv', index_label = \"empresa\")\n",
    "\n",
    "print(porcentagem_frequencia_empresas.shape)"
   ]
  },
  {
   "cell_type": "code",
   "execution_count": null,
   "metadata": {},
   "outputs": [],
   "source": []
  }
 ],
 "metadata": {
  "kernelspec": {
   "display_name": "Python 3",
   "language": "python",
   "name": "python3"
  },
  "language_info": {
   "codemirror_mode": {
    "name": "ipython",
    "version": 3
   },
   "file_extension": ".py",
   "mimetype": "text/x-python",
   "name": "python",
   "nbconvert_exporter": "python",
   "pygments_lexer": "ipython3",
   "version": "3.7.3"
  }
 },
 "nbformat": 4,
 "nbformat_minor": 2
}

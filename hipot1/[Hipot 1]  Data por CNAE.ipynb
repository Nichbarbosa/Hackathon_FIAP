{
 "cells": [
  {
   "cell_type": "code",
   "execution_count": null,
   "metadata": {},
   "outputs": [],
   "source": [
    "#[Hipótese 1] Data por CNAE"
   ]
  },
  {
   "cell_type": "code",
   "execution_count": null,
   "metadata": {},
   "outputs": [],
   "source": [
    "# Maior movimentação, elencar o maior grupo de tipos de empresa.\n",
    "# 1. Criar faixas de horário de 3 em 3 horas com transações efetuadas nesse horário - por empresa.\n",
    "# 2. Plotar histograma de faixa de horário de transação. 1 gráfico por CNAE (não empresa).\n",
    "# 3. Verificar a possibilidade de clusterização utilizando KNN caso gráfico de um CNAE seja muito divergente \n",
    "#    (sem faixa de horários muito contrastantes), verificando se cabem clusters de clientes, dado horário de transações."
   ]
  },
  {
   "cell_type": "code",
   "execution_count": null,
   "metadata": {},
   "outputs": [],
   "source": []
  }
 ],
 "metadata": {
  "kernelspec": {
   "display_name": "Python 3",
   "language": "python",
   "name": "python3"
  },
  "language_info": {
   "codemirror_mode": {
    "name": "ipython",
    "version": 3
   },
   "file_extension": ".py",
   "mimetype": "text/x-python",
   "name": "python",
   "nbconvert_exporter": "python",
   "pygments_lexer": "ipython3",
   "version": "3.7.3"
  }
 },
 "nbformat": 4,
 "nbformat_minor": 2
}

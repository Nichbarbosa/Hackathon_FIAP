{
 "cells": [
  {
   "cell_type": "code",
   "execution_count": null,
   "metadata": {},
   "outputs": [],
   "source": [
    "# Hipotese 2\n",
    "\n",
    "# Frequencia de compra de produtos iguais em locais iguais por cliente"
   ]
  },
  {
   "cell_type": "code",
   "execution_count": 1,
   "metadata": {},
   "outputs": [],
   "source": [
    "import pandas as pd"
   ]
  },
  {
   "cell_type": "code",
   "execution_count": 21,
   "metadata": {},
   "outputs": [],
   "source": [
    "# csv com todas as lojas\n",
    "stores = pd.read_csv(\"../stores_details.csv\")"
   ]
  },
  {
   "cell_type": "code",
   "execution_count": 24,
   "metadata": {},
   "outputs": [],
   "source": [
    "stores = stores[[\"encrypted_cnpj\", \"encrypted_cnpj_prefix\",\"encrypted_5_zipcode\",\"cnae_code\",\"cnae_desc\",\"cheque\", \\\n",
    "                \"debito\", \"deposito\", \"dinheiro\", \"transferencia\"]]"
   ]
  },
  {
   "cell_type": "code",
   "execution_count": 28,
   "metadata": {},
   "outputs": [
    {
     "data": {
      "text/html": [
       "<div>\n",
       "<style scoped>\n",
       "    .dataframe tbody tr th:only-of-type {\n",
       "        vertical-align: middle;\n",
       "    }\n",
       "\n",
       "    .dataframe tbody tr th {\n",
       "        vertical-align: top;\n",
       "    }\n",
       "\n",
       "    .dataframe thead th {\n",
       "        text-align: right;\n",
       "    }\n",
       "</style>\n",
       "<table border=\"1\" class=\"dataframe\">\n",
       "  <thead>\n",
       "    <tr style=\"text-align: right;\">\n",
       "      <th></th>\n",
       "      <th>encrypted_cnpj</th>\n",
       "      <th>encrypted_cnpj_prefix</th>\n",
       "      <th>encrypted_5_zipcode</th>\n",
       "      <th>cnae_code</th>\n",
       "      <th>cnae_desc</th>\n",
       "      <th>cheque</th>\n",
       "      <th>debito</th>\n",
       "      <th>deposito</th>\n",
       "      <th>dinheiro</th>\n",
       "      <th>transferencia</th>\n",
       "    </tr>\n",
       "  </thead>\n",
       "  <tbody>\n",
       "    <tr>\n",
       "      <th>0</th>\n",
       "      <td>9cddb8b88228cd7c4eead0b03bfd</td>\n",
       "      <td>3137373536623834633666646166383863616135343265...</td>\n",
       "      <td>3932333065383138336362386661663061333733303532...</td>\n",
       "      <td>4731800.0</td>\n",
       "      <td>Comércio varejista de combustíveis para veícul...</td>\n",
       "      <td>0.000000</td>\n",
       "      <td>0.334456</td>\n",
       "      <td>0.0</td>\n",
       "      <td>0.000000</td>\n",
       "      <td>0.0</td>\n",
       "    </tr>\n",
       "    <tr>\n",
       "      <th>1</th>\n",
       "      <td>f50e53c6e2570b43d15ec7dfcf92</td>\n",
       "      <td>6466343534303232623763306237306634636139656335...</td>\n",
       "      <td>3238383430613232316466356662333437386364376435...</td>\n",
       "      <td>4731800.0</td>\n",
       "      <td>Comércio varejista de combustíveis para veícul...</td>\n",
       "      <td>0.000000</td>\n",
       "      <td>0.000000</td>\n",
       "      <td>0.0</td>\n",
       "      <td>0.000000</td>\n",
       "      <td>0.0</td>\n",
       "    </tr>\n",
       "    <tr>\n",
       "      <th>2</th>\n",
       "      <td>d217627b20f7ab446b8250149f40</td>\n",
       "      <td>3262633161333664643064653561333031653037333135...</td>\n",
       "      <td>3439633639663932636535653966653033363138653032...</td>\n",
       "      <td>5611203.0</td>\n",
       "      <td>Lanchonetes, casas de chá, de sucos e similares</td>\n",
       "      <td>0.000000</td>\n",
       "      <td>0.018651</td>\n",
       "      <td>0.0</td>\n",
       "      <td>0.970692</td>\n",
       "      <td>0.0</td>\n",
       "    </tr>\n",
       "    <tr>\n",
       "      <th>3</th>\n",
       "      <td>c07be06f611961763b7c190534c0</td>\n",
       "      <td>3834663261623030366630393237646232303061663134...</td>\n",
       "      <td>6131363261313237623637303336393731383266376265...</td>\n",
       "      <td>4731800.0</td>\n",
       "      <td>Comércio varejista de combustíveis para veícul...</td>\n",
       "      <td>0.000000</td>\n",
       "      <td>0.027950</td>\n",
       "      <td>0.0</td>\n",
       "      <td>0.000000</td>\n",
       "      <td>0.0</td>\n",
       "    </tr>\n",
       "    <tr>\n",
       "      <th>4</th>\n",
       "      <td>5dc07a1ef6f3839d858729107f26</td>\n",
       "      <td>6233646339626133346562303833363737343531396131...</td>\n",
       "      <td>6137623963393930383632323434633533326636353637...</td>\n",
       "      <td>4731800.0</td>\n",
       "      <td>Comércio varejista de combustíveis para veícul...</td>\n",
       "      <td>0.055556</td>\n",
       "      <td>0.750000</td>\n",
       "      <td>0.0</td>\n",
       "      <td>0.000000</td>\n",
       "      <td>0.0</td>\n",
       "    </tr>\n",
       "  </tbody>\n",
       "</table>\n",
       "</div>"
      ],
      "text/plain": [
       "                 encrypted_cnpj  \\\n",
       "0  9cddb8b88228cd7c4eead0b03bfd   \n",
       "1  f50e53c6e2570b43d15ec7dfcf92   \n",
       "2  d217627b20f7ab446b8250149f40   \n",
       "3  c07be06f611961763b7c190534c0   \n",
       "4  5dc07a1ef6f3839d858729107f26   \n",
       "\n",
       "                               encrypted_cnpj_prefix  \\\n",
       "0  3137373536623834633666646166383863616135343265...   \n",
       "1  6466343534303232623763306237306634636139656335...   \n",
       "2  3262633161333664643064653561333031653037333135...   \n",
       "3  3834663261623030366630393237646232303061663134...   \n",
       "4  6233646339626133346562303833363737343531396131...   \n",
       "\n",
       "                                 encrypted_5_zipcode  cnae_code  \\\n",
       "0  3932333065383138336362386661663061333733303532...  4731800.0   \n",
       "1  3238383430613232316466356662333437386364376435...  4731800.0   \n",
       "2  3439633639663932636535653966653033363138653032...  5611203.0   \n",
       "3  6131363261313237623637303336393731383266376265...  4731800.0   \n",
       "4  6137623963393930383632323434633533326636353637...  4731800.0   \n",
       "\n",
       "                                           cnae_desc    cheque    debito  \\\n",
       "0  Comércio varejista de combustíveis para veícul...  0.000000  0.334456   \n",
       "1  Comércio varejista de combustíveis para veícul...  0.000000  0.000000   \n",
       "2    Lanchonetes, casas de chá, de sucos e similares  0.000000  0.018651   \n",
       "3  Comércio varejista de combustíveis para veícul...  0.000000  0.027950   \n",
       "4  Comércio varejista de combustíveis para veícul...  0.055556  0.750000   \n",
       "\n",
       "   deposito  dinheiro  transferencia  \n",
       "0       0.0  0.000000            0.0  \n",
       "1       0.0  0.000000            0.0  \n",
       "2       0.0  0.970692            0.0  \n",
       "3       0.0  0.000000            0.0  \n",
       "4       0.0  0.000000            0.0  "
      ]
     },
     "execution_count": 28,
     "metadata": {},
     "output_type": "execute_result"
    }
   ],
   "source": [
    "stores.head()"
   ]
  },
  {
   "cell_type": "code",
   "execution_count": 25,
   "metadata": {},
   "outputs": [
    {
     "name": "stdout",
     "output_type": "stream",
     "text": [
      "          cnae_code       cheque       debito     deposito     dinheiro  \\\n",
      "count  1.626000e+03  1489.000000  1489.000000  1546.000000  1489.000000   \n",
      "mean   5.158836e+06     0.017542     0.243683     0.000020     0.170734   \n",
      "std    8.483577e+05     0.110304     0.318452     0.000440     0.351224   \n",
      "min    0.000000e+00     0.000000     0.000000     0.000000     0.000000   \n",
      "25%    4.731800e+06     0.000000     0.000000     0.000000     0.000000   \n",
      "50%    4.781400e+06     0.000000     0.000000     0.000000     0.000000   \n",
      "75%    5.611203e+06     0.000000     0.570192     0.000000     0.013772   \n",
      "max    9.602502e+06     1.000000     1.000000     0.015873     1.000000   \n",
      "\n",
      "       transferencia  \n",
      "count   1.546000e+03  \n",
      "mean    3.833183e-08  \n",
      "std     1.507177e-06  \n",
      "min     0.000000e+00  \n",
      "25%     0.000000e+00  \n",
      "50%     0.000000e+00  \n",
      "75%     0.000000e+00  \n",
      "max     5.926102e-05  \n"
     ]
    }
   ],
   "source": [
    "print(stores.describe())"
   ]
  },
  {
   "cell_type": "code",
   "execution_count": 27,
   "metadata": {},
   "outputs": [
    {
     "name": "stdout",
     "output_type": "stream",
     "text": [
      "encrypted_cnpj             0\n",
      "encrypted_cnpj_prefix      0\n",
      "encrypted_5_zipcode        4\n",
      "cnae_code                  2\n",
      "cnae_desc                  2\n",
      "cheque                   139\n",
      "debito                   139\n",
      "deposito                  82\n",
      "dinheiro                 139\n",
      "transferencia             82\n",
      "dtype: int64\n"
     ]
    }
   ],
   "source": [
    "print(stores.isnull().sum())"
   ]
  },
  {
   "cell_type": "code",
   "execution_count": 26,
   "metadata": {},
   "outputs": [
    {
     "name": "stdout",
     "output_type": "stream",
     "text": [
      "encrypted_cnpj             0\n",
      "encrypted_cnpj_prefix      0\n",
      "encrypted_5_zipcode        4\n",
      "cnae_code                  2\n",
      "cnae_desc                  2\n",
      "cheque                   139\n",
      "debito                   139\n",
      "deposito                  82\n",
      "dinheiro                 139\n",
      "transferencia             82\n",
      "dtype: int64\n"
     ]
    }
   ],
   "source": [
    "print(stores.isna().sum())"
   ]
  },
  {
   "cell_type": "code",
   "execution_count": null,
   "metadata": {},
   "outputs": [],
   "source": [
    "# CSV com as vendas"
   ]
  },
  {
   "cell_type": "code",
   "execution_count": 31,
   "metadata": {},
   "outputs": [
    {
     "name": "stderr",
     "output_type": "stream",
     "text": [
      "/Users/pamela/anaconda3/lib/python3.7/site-packages/IPython/core/interactiveshell.py:2785: DtypeWarning: Columns (5) have mixed types. Specify dtype option on import or set low_memory=False.\n",
      "  interactivity=interactivity, compiler=compiler, result=result)\n"
     ]
    }
   ],
   "source": [
    "#combined_csv = pd.read_csv(\"../combined.zip\", skiprows = 1, names =[\"dominio\",\"empresa\",\"3\",\"datahora\",\"5\",\"6\",\"7\",\"8\"])\n",
    "combined_csv = pd.read_csv(\"../vendas.ra\", skiprows = 1)"
   ]
  },
  {
   "cell_type": "code",
   "execution_count": 32,
   "metadata": {},
   "outputs": [
    {
     "data": {
      "text/plain": [
       "'\\nencrypted_cnpj,\\nencrypted_cnpj_prefix,\\nencrypted_5_zipcode,\\nencrypted_domain,\\ncnae_code,\\ncnae_desc,\\ncheque,\\ncrediario,\\ncredito,\\ndebito,\\ndeposito,\\ndinheiro,\\ntransferencia'"
      ]
     },
     "execution_count": 32,
     "metadata": {},
     "output_type": "execute_result"
    }
   ],
   "source": [
    "combined_csv\n",
    "'''\n",
    "encrypted_cnpj,\n",
    "encrypted_cnpj_prefix,\n",
    "encrypted_5_zipcode,\n",
    "encrypted_domain,\n",
    "cnae_code,\n",
    "cnae_desc,\n",
    "cheque,\n",
    "crediario,\n",
    "credito,\n",
    "debito,\n",
    "deposito,\n",
    "dinheiro,\n",
    "transferencia'''"
   ]
  },
  {
   "cell_type": "code",
   "execution_count": null,
   "metadata": {},
   "outputs": [],
   "source": []
  }
 ],
 "metadata": {
  "kernelspec": {
   "display_name": "Python 3",
   "language": "python",
   "name": "python3"
  },
  "language_info": {
   "codemirror_mode": {
    "name": "ipython",
    "version": 3
   },
   "file_extension": ".py",
   "mimetype": "text/x-python",
   "name": "python",
   "nbconvert_exporter": "python",
   "pygments_lexer": "ipython3",
   "version": "3.7.2"
  }
 },
 "nbformat": 4,
 "nbformat_minor": 2
}

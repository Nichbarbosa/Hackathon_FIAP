{
 "cells": [
  {
   "cell_type": "code",
   "execution_count": 51,
   "metadata": {},
   "outputs": [
    {
     "name": "stdout",
     "output_type": "stream",
     "text": [
      "(1548, 26)\n",
      "                        empresa        0h        1h        2h        3h  \\\n",
      "0  21404ebaa0106ca20ae283c89271  0.017120  0.003064  0.003965  0.002883   \n",
      "1  510766392a95afd41c6bd526381a  0.006091  0.005461  0.001680  0.001680   \n",
      "\n",
      "         4h       5h        6h        7h        8h  ...       15h       16h  \\\n",
      "0  0.003424  0.00856  0.021806  0.022707  0.019733  ...  0.054334  0.054604   \n",
      "1  0.001890  0.00147  0.029616  0.049779  0.054400  ...  0.061332  0.056291   \n",
      "\n",
      "        17h       18h       19h       20h       21h       22h       23h  Total  \n",
      "0  0.072536  0.091728  0.084340  0.070643  0.045684  0.041809  0.051721  11098  \n",
      "1  0.059861  0.067213  0.060491  0.063222  0.059021  0.039277  0.026045   4761  \n",
      "\n",
      "[2 rows x 26 columns]\n"
     ]
    }
   ],
   "source": [
    "# Importanto CSV de frequencias gerado pelo outro notebook\n",
    "\n",
    "import pandas as pd\n",
    "\n",
    "porcentagem_transacoes_por_empresa = pd.read_csv(\"porcentagem_transacoes_por_empresa.csv\")\n",
    "\n",
    "print(porcentagem_transacoes_por_empresa.shape)\n",
    "print(porcentagem_transacoes_por_empresa.head(2))"
   ]
  },
  {
   "cell_type": "code",
   "execution_count": 52,
   "metadata": {
    "scrolled": true
   },
   "outputs": [
    {
     "name": "stdout",
     "output_type": "stream",
     "text": [
      "(1389, 26)\n",
      "                        empresa        0h        1h        2h        3h  \\\n",
      "0  21404ebaa0106ca20ae283c89271  0.017120  0.003064  0.003965  0.002883   \n",
      "1  510766392a95afd41c6bd526381a  0.006091  0.005461  0.001680  0.001680   \n",
      "\n",
      "         4h       5h        6h        7h        8h  ...       15h       16h  \\\n",
      "0  0.003424  0.00856  0.021806  0.022707  0.019733  ...  0.054334  0.054604   \n",
      "1  0.001890  0.00147  0.029616  0.049779  0.054400  ...  0.061332  0.056291   \n",
      "\n",
      "        17h       18h       19h       20h       21h       22h       23h  Total  \n",
      "0  0.072536  0.091728  0.084340  0.070643  0.045684  0.041809  0.051721  11098  \n",
      "1  0.059861  0.067213  0.060491  0.063222  0.059021  0.039277  0.026045   4761  \n",
      "\n",
      "[2 rows x 26 columns]\n"
     ]
    }
   ],
   "source": [
    "# Retirando empresas que tiveram < 100 transações\n",
    "\n",
    "for index, row in porcentagem_transacoes_por_empresa.iterrows():\n",
    "    if row[\"Total\"] < 100:\n",
    "        porcentagem_transacoes_por_empresa = porcentagem_transacoes_por_empresa.drop(index)\n",
    "        \n",
    "print(porcentagem_transacoes_por_empresa.shape)\n",
    "print(porcentagem_transacoes_por_empresa.head(2))"
   ]
  },
  {
   "cell_type": "code",
   "execution_count": 53,
   "metadata": {},
   "outputs": [],
   "source": [
    "# função para separar dataframe em test e training\n",
    "\n",
    "import random\n",
    "\n",
    "COLUNAS =  [\n",
    "    'empresa',\n",
    "    '0h',\n",
    "    '1h',\n",
    "    '2h',\n",
    "    '3h',\n",
    "    '4h',\n",
    "    '5h',\n",
    "    '6h',\n",
    "    '7h',\n",
    "    '8h',\n",
    "    '9h',\n",
    "    '10h',\n",
    "    '11h',\n",
    "    '12h',\n",
    "    '13h',\n",
    "    '14h',\n",
    "    '15h',\n",
    "    '16h',\n",
    "    '17h',\n",
    "    '18h',\n",
    "    '19h',\n",
    "    '20h',\n",
    "    '21h',\n",
    "    '22h',\n",
    "    '23h',\n",
    "    'Total'\n",
    "]\n",
    "\n",
    "trainingSet=pd.DataFrame(columns=COLUNAS)\n",
    "testSet=pd.DataFrame(columns=COLUNAS)\n",
    "\n",
    "def loadDataframes(dataframe, split, trainingSet , testSet):\n",
    "    trainingIndex = 0\n",
    "    testIndex = 0\n",
    "    for index, row in dataframe.iterrows():\n",
    "        #for y in range(23):\n",
    "        #    row[str(y) + \"h\"] = float(row[str(y) + \"h\"])\n",
    "        if random.random() < split:\n",
    "            trainingSet.loc[trainingIndex] = dataframe.loc[index]\n",
    "            trainingIndex += 1\n",
    "        else:\n",
    "            testSet.loc[testIndex] = dataframe.loc[index]\n",
    "            testIndex += 1"
   ]
  },
  {
   "cell_type": "code",
   "execution_count": 55,
   "metadata": {},
   "outputs": [],
   "source": [
    "# Aplicando a função para separação de test e training\n",
    "\n",
    "loadDataframes(porcentagem_transacoes_por_empresa,0.67,trainingSet,testSet)\n"
   ]
  },
  {
   "cell_type": "code",
   "execution_count": 58,
   "metadata": {},
   "outputs": [
    {
     "name": "stdout",
     "output_type": "stream",
     "text": [
      "(957, 26)\n",
      "(432, 26)\n"
     ]
    }
   ],
   "source": [
    "print(trainingSet.shape)\n",
    "print(testSet.shape)"
   ]
  },
  {
   "cell_type": "code",
   "execution_count": 59,
   "metadata": {},
   "outputs": [],
   "source": [
    "# Calculo de distancias\n",
    "\n",
    "import math\n",
    "\n",
    "def euclideanDistance(instance1, instance2):\n",
    "    distance = 0\n",
    "    distance += pow((instance1[\"0h\"] - instance2[\"0h\"]), 2)\n",
    "    distance += pow((instance1[\"1h\"] - instance2[\"1h\"]), 2)\n",
    "    distance += pow((instance1[\"2h\"] - instance2[\"2h\"]), 2)\n",
    "    distance += pow((instance1[\"3h\"] - instance2[\"3h\"]), 2)\n",
    "    distance += pow((instance1[\"4h\"] - instance2[\"4h\"]), 2)\n",
    "    distance += pow((instance1[\"5h\"] - instance2[\"5h\"]), 2)\n",
    "    distance += pow((instance1[\"6h\"] - instance2[\"6h\"]), 2)\n",
    "    distance += pow((instance1[\"7h\"] - instance2[\"7h\"]), 2)\n",
    "    distance += pow((instance1[\"8h\"] - instance2[\"8h\"]), 2)\n",
    "    distance += pow((instance1[\"9h\"] - instance2[\"9h\"]), 2)\n",
    "    distance += pow((instance1[\"10h\"] - instance2[\"10h\"]), 2)\n",
    "    distance += pow((instance1[\"11h\"] - instance2[\"11h\"]), 2)\n",
    "    distance += pow((instance1[\"12h\"] - instance2[\"12h\"]), 2)\n",
    "    distance += pow((instance1[\"13h\"] - instance2[\"13h\"]), 2)\n",
    "    distance += pow((instance1[\"14h\"] - instance2[\"14h\"]), 2)\n",
    "    distance += pow((instance1[\"15h\"] - instance2[\"15h\"]), 2)\n",
    "    distance += pow((instance1[\"16h\"] - instance2[\"16h\"]), 2)\n",
    "    distance += pow((instance1[\"17h\"] - instance2[\"17h\"]), 2)\n",
    "    distance += pow((instance1[\"18h\"] - instance2[\"18h\"]), 2)\n",
    "    distance += pow((instance1[\"19h\"] - instance2[\"19h\"]), 2)\n",
    "    distance += pow((instance1[\"20h\"] - instance2[\"20h\"]), 2)\n",
    "    distance += pow((instance1[\"21h\"] - instance2[\"21h\"]), 2)\n",
    "    distance += pow((instance1[\"22h\"] - instance2[\"22h\"]), 2)\n",
    "    distance += pow((instance1[\"23h\"] - instance2[\"23h\"]), 2)\n",
    "    return math.sqrt(distance)\n"
   ]
  },
  {
   "cell_type": "code",
   "execution_count": 62,
   "metadata": {},
   "outputs": [
    {
     "name": "stdout",
     "output_type": "stream",
     "text": [
      "0.07330887175451016\n"
     ]
    }
   ],
   "source": [
    "# Testando, se resposta for 0.073309 está ok (feito no excel)\n",
    "\n",
    "print(euclideanDistance(porcentagem_transacoes_por_empresa.loc[0],porcentagem_transacoes_por_empresa.loc[1]))"
   ]
  },
  {
   "cell_type": "code",
   "execution_count": 77,
   "metadata": {},
   "outputs": [],
   "source": [
    "# Calculando os \"vizinhos\"\n",
    "\n",
    "import operator \n",
    "def getNeighbors(trainingSet, testInstance, k):\n",
    "    distances = []\n",
    "    for x in range(len(trainingSet.index)):\n",
    "        dist = euclideanDistance(testInstance, trainingSet.loc[x])\n",
    "        distances.append((trainingSet.loc[x], dist))\n",
    "    distances.sort(key=operator.itemgetter(1))\n",
    "    neighbors = []\n",
    "    for x in range(k):\n",
    "        neighbors.append(distances[x][0])\n",
    "    return neighbors"
   ]
  },
  {
   "cell_type": "code",
   "execution_count": 82,
   "metadata": {
    "scrolled": false
   },
   "outputs": [
    {
     "name": "stdout",
     "output_type": "stream",
     "text": [
      "[empresa    c4fec04f35c4e62af794fc331377\n",
      "0h                           0.00356888\n",
      "1h                           0.00214133\n",
      "2h                                    0\n",
      "3h                          0.000713776\n",
      "4h                          0.000713776\n",
      "5h                           0.00214133\n",
      "6h                            0.0206995\n",
      "7h                            0.0471092\n",
      "8h                            0.0571021\n",
      "9h                            0.0613847\n",
      "10h                           0.0642398\n",
      "11h                           0.0549607\n",
      "12h                           0.0585296\n",
      "13h                           0.0756602\n",
      "14h                           0.0571021\n",
      "15h                           0.0713776\n",
      "16h                           0.0571021\n",
      "17h                           0.0670949\n",
      "18h                           0.0620985\n",
      "19h                           0.0563883\n",
      "20h                           0.0599572\n",
      "21h                           0.0513919\n",
      "22h                           0.0399714\n",
      "23h                            0.028551\n",
      "Total                              1401\n",
      "Name: 145, dtype: object, empresa    03390ba1a5be15099869de8cf39c\n",
      "0h                            0.0141896\n",
      "1h                            0.0120065\n",
      "2h                           0.00927779\n",
      "3h                           0.00782245\n",
      "4h                           0.00636711\n",
      "5h                           0.00873204\n",
      "6h                             0.030744\n",
      "7h                            0.0489358\n",
      "8h                            0.0563944\n",
      "9h                            0.0498454\n",
      "10h                            0.050755\n",
      "11h                            0.050573\n",
      "12h                            0.052938\n",
      "13h                            0.052938\n",
      "14h                            0.059487\n",
      "15h                           0.0647626\n",
      "16h                           0.0567582\n",
      "17h                           0.0605785\n",
      "18h                            0.070584\n",
      "19h                           0.0585774\n",
      "20h                           0.0565763\n",
      "21h                           0.0492996\n",
      "22h                           0.0432963\n",
      "23h                            0.028561\n",
      "Total                              5497\n",
      "Name: 32, dtype: object]\n"
     ]
    }
   ],
   "source": [
    "# Testando vizinhos\n",
    "\n",
    "neighbors = getNeighbors(trainingSet, testSet.loc[0], 2)\n",
    "print(neighbors)"
   ]
  },
  {
   "cell_type": "code",
   "execution_count": 83,
   "metadata": {},
   "outputs": [],
   "source": [
    "# Predizendo a resposta \n",
    "\n",
    "import operator\n",
    "\n",
    "def getResponse(neighbors):\n",
    "    classVotes = {}\n",
    "    for x in range(len(neighbors)):\n",
    "        response = neighbors[x][-1]\n",
    "        if response in classVotes:\n",
    "            classVotes[response] += 1\n",
    "        else:\n",
    "            classVotes[response] = 1\n",
    "    sortedVotes = sorted(classVotes.iteritems(), key=operator.itemgetter(1), reverse=True)\n",
    "    return sortedVotes[0][0]"
   ]
  },
  {
   "cell_type": "code",
   "execution_count": 84,
   "metadata": {},
   "outputs": [],
   "source": [
    "# Pegando a acurácia do modelo\n",
    "\n",
    "def getAccuracy(testSet, predictions):\n",
    "    correct = 0\n",
    "    for x in range(len(testSet.index)):\n",
    "        if testSet[x][-1] is predictions[x]:\n",
    "            correct += 1\n",
    "    return (correct/float(len(testSet.index))) * 100.0\n"
   ]
  },
  {
   "cell_type": "code",
   "execution_count": null,
   "metadata": {},
   "outputs": [],
   "source": []
  }
 ],
 "metadata": {
  "kernelspec": {
   "display_name": "Python 3",
   "language": "python",
   "name": "python3"
  },
  "language_info": {
   "codemirror_mode": {
    "name": "ipython",
    "version": 3
   },
   "file_extension": ".py",
   "mimetype": "text/x-python",
   "name": "python",
   "nbconvert_exporter": "python",
   "pygments_lexer": "ipython3",
   "version": "3.7.3"
  }
 },
 "nbformat": 4,
 "nbformat_minor": 2
}

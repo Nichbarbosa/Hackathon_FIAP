{
 "cells": [
  {
   "cell_type": "code",
   "execution_count": null,
   "metadata": {},
   "outputs": [],
   "source": [
    "# Hipotese 2\n",
    "\n",
    "# Frequencia de compra de produtos iguais em locais iguais por cliente"
   ]
  },
  {
   "cell_type": "code",
   "execution_count": 10,
   "metadata": {},
   "outputs": [],
   "source": [
    "import pandas as pd\n",
    "import os\n",
    "import glob\n",
    "\n",
    "#os.chdir(\"../files/sales\")"
   ]
  },
  {
   "cell_type": "markdown",
   "metadata": {},
   "source": [
    "#### Stores\n",
    "CSV com todas as lojas"
   ]
  },
  {
   "cell_type": "code",
   "execution_count": 15,
   "metadata": {},
   "outputs": [],
   "source": [
    "#stores = pd.read_csv(\"../files/stores/stores_details.csv\")\n",
    "stores = pd.read_csv(\"../stores/stores_details.csv\")\n",
    "\n",
    "stores = stores[[\"encrypted_cnpj\", \"encrypted_cnpj_prefix\",\"encrypted_5_zipcode\",\"cnae_code\",\"cnae_desc\",\"cheque\", \\\n",
    "                \"debito\", \"deposito\", \"dinheiro\", \"transferencia\"]]"
   ]
  },
  {
   "cell_type": "markdown",
   "metadata": {},
   "source": [
    "##### Sales\n",
    "\n",
    "CSV comn todas as vendas\n",
    "\n",
    "Concatena os arquivos de vendas no arquivo vendas.csv\n",
    "\n",
    "Não precisa executar de novo, só abrir o arquivo vendas.csv"
   ]
  },
  {
   "cell_type": "code",
   "execution_count": 16,
   "metadata": {},
   "outputs": [
    {
     "name": "stderr",
     "output_type": "stream",
     "text": [
      "/Users/pamela/anaconda3/lib/python3.7/site-packages/IPython/core/interactiveshell.py:2785: DtypeWarning: Columns (4) have mixed types. Specify dtype option on import or set low_memory=False.\n",
      "  interactivity=interactivity, compiler=compiler, result=result)\n"
     ]
    }
   ],
   "source": [
    "'''\n",
    "extension = 'csv'\n",
    "all_filenames = [i for i in glob.glob('*.{}'.format(extension))]\n",
    "\n",
    "#combine all files in the list\n",
    "vendas = pd.concat([pd.read_csv(f,error_bad_lines=False) for f in all_filenames ])\n",
    "\n",
    "#export to csv\n",
    "vendas.to_csv(\"vendas.csv\", index=False, encoding='utf-8-sig')\n",
    "\n",
    "'''\n",
    "sales = pd.read_csv(\"../sales/vendas.csv\")\n",
    "\n",
    "#sales = vendas\n",
    "sales = sales[[\"encrypted_cnpj\", \"encrypted_saleid\",\"dateTime\",\"productTotal\",\"prod_fullname\",\"encrypted_buyer_cpf\",\"encrypted_buyer_cnpj\"]]\n",
    "\n"
   ]
  },
  {
   "cell_type": "markdown",
   "metadata": {},
   "source": [
    "#### Trabalhando com as Stores"
   ]
  },
  {
   "cell_type": "code",
   "execution_count": 17,
   "metadata": {},
   "outputs": [
    {
     "data": {
      "text/html": [
       "<div>\n",
       "<style scoped>\n",
       "    .dataframe tbody tr th:only-of-type {\n",
       "        vertical-align: middle;\n",
       "    }\n",
       "\n",
       "    .dataframe tbody tr th {\n",
       "        vertical-align: top;\n",
       "    }\n",
       "\n",
       "    .dataframe thead th {\n",
       "        text-align: right;\n",
       "    }\n",
       "</style>\n",
       "<table border=\"1\" class=\"dataframe\">\n",
       "  <thead>\n",
       "    <tr style=\"text-align: right;\">\n",
       "      <th></th>\n",
       "      <th>encrypted_cnpj</th>\n",
       "      <th>encrypted_cnpj_prefix</th>\n",
       "      <th>encrypted_5_zipcode</th>\n",
       "      <th>cnae_code</th>\n",
       "      <th>cnae_desc</th>\n",
       "      <th>cheque</th>\n",
       "      <th>debito</th>\n",
       "      <th>deposito</th>\n",
       "      <th>dinheiro</th>\n",
       "      <th>transferencia</th>\n",
       "    </tr>\n",
       "  </thead>\n",
       "  <tbody>\n",
       "    <tr>\n",
       "      <th>0</th>\n",
       "      <td>9cddb8b88228cd7c4eead0b03bfd</td>\n",
       "      <td>3137373536623834633666646166383863616135343265...</td>\n",
       "      <td>3932333065383138336362386661663061333733303532...</td>\n",
       "      <td>4731800.0</td>\n",
       "      <td>Comércio varejista de combustíveis para veícul...</td>\n",
       "      <td>0.000000</td>\n",
       "      <td>0.334456</td>\n",
       "      <td>0.0</td>\n",
       "      <td>0.000000</td>\n",
       "      <td>0.0</td>\n",
       "    </tr>\n",
       "    <tr>\n",
       "      <th>1</th>\n",
       "      <td>f50e53c6e2570b43d15ec7dfcf92</td>\n",
       "      <td>6466343534303232623763306237306634636139656335...</td>\n",
       "      <td>3238383430613232316466356662333437386364376435...</td>\n",
       "      <td>4731800.0</td>\n",
       "      <td>Comércio varejista de combustíveis para veícul...</td>\n",
       "      <td>0.000000</td>\n",
       "      <td>0.000000</td>\n",
       "      <td>0.0</td>\n",
       "      <td>0.000000</td>\n",
       "      <td>0.0</td>\n",
       "    </tr>\n",
       "    <tr>\n",
       "      <th>2</th>\n",
       "      <td>d217627b20f7ab446b8250149f40</td>\n",
       "      <td>3262633161333664643064653561333031653037333135...</td>\n",
       "      <td>3439633639663932636535653966653033363138653032...</td>\n",
       "      <td>5611203.0</td>\n",
       "      <td>Lanchonetes, casas de chá, de sucos e similares</td>\n",
       "      <td>0.000000</td>\n",
       "      <td>0.018651</td>\n",
       "      <td>0.0</td>\n",
       "      <td>0.970692</td>\n",
       "      <td>0.0</td>\n",
       "    </tr>\n",
       "    <tr>\n",
       "      <th>3</th>\n",
       "      <td>c07be06f611961763b7c190534c0</td>\n",
       "      <td>3834663261623030366630393237646232303061663134...</td>\n",
       "      <td>6131363261313237623637303336393731383266376265...</td>\n",
       "      <td>4731800.0</td>\n",
       "      <td>Comércio varejista de combustíveis para veícul...</td>\n",
       "      <td>0.000000</td>\n",
       "      <td>0.027950</td>\n",
       "      <td>0.0</td>\n",
       "      <td>0.000000</td>\n",
       "      <td>0.0</td>\n",
       "    </tr>\n",
       "    <tr>\n",
       "      <th>4</th>\n",
       "      <td>5dc07a1ef6f3839d858729107f26</td>\n",
       "      <td>6233646339626133346562303833363737343531396131...</td>\n",
       "      <td>6137623963393930383632323434633533326636353637...</td>\n",
       "      <td>4731800.0</td>\n",
       "      <td>Comércio varejista de combustíveis para veícul...</td>\n",
       "      <td>0.055556</td>\n",
       "      <td>0.750000</td>\n",
       "      <td>0.0</td>\n",
       "      <td>0.000000</td>\n",
       "      <td>0.0</td>\n",
       "    </tr>\n",
       "  </tbody>\n",
       "</table>\n",
       "</div>"
      ],
      "text/plain": [
       "                 encrypted_cnpj  \\\n",
       "0  9cddb8b88228cd7c4eead0b03bfd   \n",
       "1  f50e53c6e2570b43d15ec7dfcf92   \n",
       "2  d217627b20f7ab446b8250149f40   \n",
       "3  c07be06f611961763b7c190534c0   \n",
       "4  5dc07a1ef6f3839d858729107f26   \n",
       "\n",
       "                               encrypted_cnpj_prefix  \\\n",
       "0  3137373536623834633666646166383863616135343265...   \n",
       "1  6466343534303232623763306237306634636139656335...   \n",
       "2  3262633161333664643064653561333031653037333135...   \n",
       "3  3834663261623030366630393237646232303061663134...   \n",
       "4  6233646339626133346562303833363737343531396131...   \n",
       "\n",
       "                                 encrypted_5_zipcode  cnae_code  \\\n",
       "0  3932333065383138336362386661663061333733303532...  4731800.0   \n",
       "1  3238383430613232316466356662333437386364376435...  4731800.0   \n",
       "2  3439633639663932636535653966653033363138653032...  5611203.0   \n",
       "3  6131363261313237623637303336393731383266376265...  4731800.0   \n",
       "4  6137623963393930383632323434633533326636353637...  4731800.0   \n",
       "\n",
       "                                           cnae_desc    cheque    debito  \\\n",
       "0  Comércio varejista de combustíveis para veícul...  0.000000  0.334456   \n",
       "1  Comércio varejista de combustíveis para veícul...  0.000000  0.000000   \n",
       "2    Lanchonetes, casas de chá, de sucos e similares  0.000000  0.018651   \n",
       "3  Comércio varejista de combustíveis para veícul...  0.000000  0.027950   \n",
       "4  Comércio varejista de combustíveis para veícul...  0.055556  0.750000   \n",
       "\n",
       "   deposito  dinheiro  transferencia  \n",
       "0       0.0  0.000000            0.0  \n",
       "1       0.0  0.000000            0.0  \n",
       "2       0.0  0.970692            0.0  \n",
       "3       0.0  0.000000            0.0  \n",
       "4       0.0  0.000000            0.0  "
      ]
     },
     "execution_count": 17,
     "metadata": {},
     "output_type": "execute_result"
    }
   ],
   "source": [
    "stores.head()"
   ]
  },
  {
   "cell_type": "code",
   "execution_count": 18,
   "metadata": {},
   "outputs": [
    {
     "name": "stdout",
     "output_type": "stream",
     "text": [
      "          cnae_code       cheque       debito     deposito     dinheiro  \\\n",
      "count  1.626000e+03  1489.000000  1489.000000  1546.000000  1489.000000   \n",
      "mean   5.158836e+06     0.017542     0.243683     0.000020     0.170734   \n",
      "std    8.483577e+05     0.110304     0.318452     0.000440     0.351224   \n",
      "min    0.000000e+00     0.000000     0.000000     0.000000     0.000000   \n",
      "25%    4.731800e+06     0.000000     0.000000     0.000000     0.000000   \n",
      "50%    4.781400e+06     0.000000     0.000000     0.000000     0.000000   \n",
      "75%    5.611203e+06     0.000000     0.570192     0.000000     0.013772   \n",
      "max    9.602502e+06     1.000000     1.000000     0.015873     1.000000   \n",
      "\n",
      "       transferencia  \n",
      "count   1.546000e+03  \n",
      "mean    3.833183e-08  \n",
      "std     1.507177e-06  \n",
      "min     0.000000e+00  \n",
      "25%     0.000000e+00  \n",
      "50%     0.000000e+00  \n",
      "75%     0.000000e+00  \n",
      "max     5.926102e-05  \n"
     ]
    }
   ],
   "source": [
    "print(stores.describe())"
   ]
  },
  {
   "cell_type": "code",
   "execution_count": 19,
   "metadata": {},
   "outputs": [
    {
     "name": "stdout",
     "output_type": "stream",
     "text": [
      "encrypted_cnpj             0\n",
      "encrypted_cnpj_prefix      0\n",
      "encrypted_5_zipcode        4\n",
      "cnae_code                  2\n",
      "cnae_desc                  2\n",
      "cheque                   139\n",
      "debito                   139\n",
      "deposito                  82\n",
      "dinheiro                 139\n",
      "transferencia             82\n",
      "dtype: int64\n"
     ]
    }
   ],
   "source": [
    "print(stores.isnull().sum())"
   ]
  },
  {
   "cell_type": "markdown",
   "metadata": {},
   "source": [
    "#### Trabalhando com as vendas"
   ]
  },
  {
   "cell_type": "code",
   "execution_count": 20,
   "metadata": {},
   "outputs": [
    {
     "data": {
      "text/html": [
       "<div>\n",
       "<style scoped>\n",
       "    .dataframe tbody tr th:only-of-type {\n",
       "        vertical-align: middle;\n",
       "    }\n",
       "\n",
       "    .dataframe tbody tr th {\n",
       "        vertical-align: top;\n",
       "    }\n",
       "\n",
       "    .dataframe thead th {\n",
       "        text-align: right;\n",
       "    }\n",
       "</style>\n",
       "<table border=\"1\" class=\"dataframe\">\n",
       "  <thead>\n",
       "    <tr style=\"text-align: right;\">\n",
       "      <th></th>\n",
       "      <th>encrypted_cnpj</th>\n",
       "      <th>encrypted_saleid</th>\n",
       "      <th>dateTime</th>\n",
       "      <th>productTotal</th>\n",
       "      <th>prod_fullname</th>\n",
       "      <th>encrypted_buyer_cpf</th>\n",
       "      <th>encrypted_buyer_cnpj</th>\n",
       "    </tr>\n",
       "  </thead>\n",
       "  <tbody>\n",
       "    <tr>\n",
       "      <th>0</th>\n",
       "      <td>744f9707a59fbbffe75dad22aee7</td>\n",
       "      <td>3964636138646135303062353333306434653430346464...</td>\n",
       "      <td>2018-10-21T20:19:05.000Z</td>\n",
       "      <td>36.0195</td>\n",
       "      <td>refeicao</td>\n",
       "      <td>NaN</td>\n",
       "      <td>NaN</td>\n",
       "    </tr>\n",
       "    <tr>\n",
       "      <th>1</th>\n",
       "      <td>a74a729c7a3d3c0a6c6f59bb07c5</td>\n",
       "      <td>3932366231346262393563353231623732316462366666...</td>\n",
       "      <td>2018-11-08T19:57:51.000Z</td>\n",
       "      <td>20.0224</td>\n",
       "      <td>gasolina c aditivada</td>\n",
       "      <td>NaN</td>\n",
       "      <td>NaN</td>\n",
       "    </tr>\n",
       "    <tr>\n",
       "      <th>2</th>\n",
       "      <td>cd406b5d1bca06e7ea9cdc74e14b</td>\n",
       "      <td>3263653564613138363163653066613462656331303864...</td>\n",
       "      <td>2018-11-24T13:37:09.000Z</td>\n",
       "      <td>18.0298</td>\n",
       "      <td>gasolina comum</td>\n",
       "      <td>NaN</td>\n",
       "      <td>NaN</td>\n",
       "    </tr>\n",
       "    <tr>\n",
       "      <th>3</th>\n",
       "      <td>a74a729c7a3d3c0a6c6f59bb07c5</td>\n",
       "      <td>3834363539663165383136366165363735616339353637...</td>\n",
       "      <td>2018-10-17T17:18:06.000Z</td>\n",
       "      <td>20.0312</td>\n",
       "      <td>gasolina c aditivada</td>\n",
       "      <td>NaN</td>\n",
       "      <td>NaN</td>\n",
       "    </tr>\n",
       "    <tr>\n",
       "      <th>4</th>\n",
       "      <td>744f9707a59fbbffe75dad22aee7</td>\n",
       "      <td>3561303839376431386534306238346232316165386239...</td>\n",
       "      <td>2018-12-27T12:35:26.000Z</td>\n",
       "      <td>24.013</td>\n",
       "      <td>refeicao</td>\n",
       "      <td>NaN</td>\n",
       "      <td>NaN</td>\n",
       "    </tr>\n",
       "  </tbody>\n",
       "</table>\n",
       "</div>"
      ],
      "text/plain": [
       "                 encrypted_cnpj  \\\n",
       "0  744f9707a59fbbffe75dad22aee7   \n",
       "1  a74a729c7a3d3c0a6c6f59bb07c5   \n",
       "2  cd406b5d1bca06e7ea9cdc74e14b   \n",
       "3  a74a729c7a3d3c0a6c6f59bb07c5   \n",
       "4  744f9707a59fbbffe75dad22aee7   \n",
       "\n",
       "                                    encrypted_saleid  \\\n",
       "0  3964636138646135303062353333306434653430346464...   \n",
       "1  3932366231346262393563353231623732316462366666...   \n",
       "2  3263653564613138363163653066613462656331303864...   \n",
       "3  3834363539663165383136366165363735616339353637...   \n",
       "4  3561303839376431386534306238346232316165386239...   \n",
       "\n",
       "                   dateTime productTotal         prod_fullname  \\\n",
       "0  2018-10-21T20:19:05.000Z      36.0195              refeicao   \n",
       "1  2018-11-08T19:57:51.000Z      20.0224  gasolina c aditivada   \n",
       "2  2018-11-24T13:37:09.000Z      18.0298        gasolina comum   \n",
       "3  2018-10-17T17:18:06.000Z      20.0312  gasolina c aditivada   \n",
       "4  2018-12-27T12:35:26.000Z       24.013              refeicao   \n",
       "\n",
       "  encrypted_buyer_cpf encrypted_buyer_cnpj  \n",
       "0                 NaN                  NaN  \n",
       "1                 NaN                  NaN  \n",
       "2                 NaN                  NaN  \n",
       "3                 NaN                  NaN  \n",
       "4                 NaN                  NaN  "
      ]
     },
     "execution_count": 20,
     "metadata": {},
     "output_type": "execute_result"
    }
   ],
   "source": [
    "sales.reset_index()\n",
    "sales.head()"
   ]
  },
  {
   "cell_type": "code",
   "execution_count": 21,
   "metadata": {},
   "outputs": [
    {
     "name": "stdout",
     "output_type": "stream",
     "text": [
      "                      encrypted_cnpj  \\\n",
      "count                        1499989   \n",
      "unique                          1554   \n",
      "top     a74a729c7a3d3c0a6c6f59bb07c5   \n",
      "freq                           16836   \n",
      "\n",
      "                                         encrypted_saleid  \\\n",
      "count                                             1499984   \n",
      "unique                                            1395152   \n",
      "top     3939353762353239323263393465653132383765613030...   \n",
      "freq                                                 1177   \n",
      "\n",
      "                        dateTime  productTotal   prod_fullname  \\\n",
      "count                    1499982    1499982.00         1499982   \n",
      "unique                    530750     161504.00          178665   \n",
      "top     2018-12-22T00:00:00.000Z          0.01  gasolina comum   \n",
      "freq                        8875      58342.00          108289   \n",
      "\n",
      "                                      encrypted_buyer_cpf  \\\n",
      "count                                              525207   \n",
      "unique                                             105635   \n",
      "top     3264383032613763326131653863326564326130623736...   \n",
      "freq                                               349095   \n",
      "\n",
      "                                     encrypted_buyer_cnpj  \n",
      "count                                               38503  \n",
      "unique                                              10991  \n",
      "top     3064393539336534656539383564346636353738653139...  \n",
      "freq                                                 4488  \n"
     ]
    }
   ],
   "source": [
    "print(sales.describe())"
   ]
  },
  {
   "cell_type": "code",
   "execution_count": 22,
   "metadata": {},
   "outputs": [
    {
     "name": "stdout",
     "output_type": "stream",
     "text": [
      "encrypted_cnpj               10\n",
      "encrypted_saleid             15\n",
      "dateTime                     17\n",
      "productTotal                 17\n",
      "prod_fullname                17\n",
      "encrypted_buyer_cpf      974792\n",
      "encrypted_buyer_cnpj    1461496\n",
      "dtype: int64\n"
     ]
    }
   ],
   "source": [
    "print(sales.isnull().sum())"
   ]
  },
  {
   "cell_type": "markdown",
   "metadata": {},
   "source": [
    "#### Vendas por CNPJ\n",
    "Descobrimos o CNPJ que mais vende, em qual região ele fica e a qual CNAE pertence"
   ]
  },
  {
   "cell_type": "code",
   "execution_count": 23,
   "metadata": {},
   "outputs": [
    {
     "name": "stdout",
     "output_type": "stream",
     "text": [
      "                              productTotal\n",
      "encrypted_cnpj                            \n",
      "1dcc4997ba5d4f628a2606bb17eb  4.109914e+07\n",
      "87db6a9e5895a9b0bb0be8b22694  1.300370e+06\n",
      "36f6ec5f76de55a9137968fd0fde  9.768599e+05\n",
      "06adb7c8f614e7536089d058198f  9.266674e+05\n",
      "a74a729c7a3d3c0a6c6f59bb07c5  9.037905e+05\n"
     ]
    }
   ],
   "source": [
    "# soma das vendas por cnpj\n",
    "# cnpj que mais vendem\n",
    "sales['productTotal'] = pd.to_numeric(sales['productTotal'], errors='coerce')\n",
    "\n",
    "vendas_cnpj = pd.DataFrame(sales.groupby(\"encrypted_cnpj\").productTotal.sum())\n",
    "vendas_cnpj.reset_index()\n",
    "vendas_cnpj = vendas_cnpj.drop(vendas_cnpj.index[[0,1,2]])\n",
    "vendas_cnpj=vendas_cnpj.sort_values(by='productTotal', ascending=False)\n",
    "print(vendas_cnpj.head(5))"
   ]
  },
  {
   "cell_type": "code",
   "execution_count": 24,
   "metadata": {},
   "outputs": [
    {
     "data": {
      "text/html": [
       "<div>\n",
       "<style scoped>\n",
       "    .dataframe tbody tr th:only-of-type {\n",
       "        vertical-align: middle;\n",
       "    }\n",
       "\n",
       "    .dataframe tbody tr th {\n",
       "        vertical-align: top;\n",
       "    }\n",
       "\n",
       "    .dataframe thead th {\n",
       "        text-align: right;\n",
       "    }\n",
       "</style>\n",
       "<table border=\"1\" class=\"dataframe\">\n",
       "  <thead>\n",
       "    <tr style=\"text-align: right;\">\n",
       "      <th></th>\n",
       "      <th>cnae_code</th>\n",
       "      <th>encrypted_cnpj</th>\n",
       "      <th>cnae_desc</th>\n",
       "    </tr>\n",
       "  </thead>\n",
       "  <tbody>\n",
       "    <tr>\n",
       "      <th>23</th>\n",
       "      <td>4731800.0</td>\n",
       "      <td>36f6ec5f76de55a9137968fd0fde</td>\n",
       "      <td>Comércio varejista de combustíveis para veícul...</td>\n",
       "    </tr>\n",
       "    <tr>\n",
       "      <th>86</th>\n",
       "      <td>4731800.0</td>\n",
       "      <td>a74a729c7a3d3c0a6c6f59bb07c5</td>\n",
       "      <td>Comércio varejista de combustíveis para veícul...</td>\n",
       "    </tr>\n",
       "    <tr>\n",
       "      <th>114</th>\n",
       "      <td>6463800.0</td>\n",
       "      <td>87db6a9e5895a9b0bb0be8b22694</td>\n",
       "      <td>Outras sociedades de participação, exceto hold...</td>\n",
       "    </tr>\n",
       "    <tr>\n",
       "      <th>258</th>\n",
       "      <td>4731800.0</td>\n",
       "      <td>06adb7c8f614e7536089d058198f</td>\n",
       "      <td>Comércio varejista de combustíveis para veícul...</td>\n",
       "    </tr>\n",
       "    <tr>\n",
       "      <th>517</th>\n",
       "      <td>4729699.0</td>\n",
       "      <td>1dcc4997ba5d4f628a2606bb17eb</td>\n",
       "      <td>Comércio varejista de produtos alimentícios em...</td>\n",
       "    </tr>\n",
       "  </tbody>\n",
       "</table>\n",
       "</div>"
      ],
      "text/plain": [
       "     cnae_code                encrypted_cnpj  \\\n",
       "23   4731800.0  36f6ec5f76de55a9137968fd0fde   \n",
       "86   4731800.0  a74a729c7a3d3c0a6c6f59bb07c5   \n",
       "114  6463800.0  87db6a9e5895a9b0bb0be8b22694   \n",
       "258  4731800.0  06adb7c8f614e7536089d058198f   \n",
       "517  4729699.0  1dcc4997ba5d4f628a2606bb17eb   \n",
       "\n",
       "                                             cnae_desc  \n",
       "23   Comércio varejista de combustíveis para veícul...  \n",
       "86   Comércio varejista de combustíveis para veícul...  \n",
       "114  Outras sociedades de participação, exceto hold...  \n",
       "258  Comércio varejista de combustíveis para veícul...  \n",
       "517  Comércio varejista de produtos alimentícios em...  "
      ]
     },
     "execution_count": 24,
     "metadata": {},
     "output_type": "execute_result"
    }
   ],
   "source": [
    "# top vendas por cnae\n",
    "stores[['cnae_code','encrypted_cnpj', 'cnae_desc']].loc[stores['encrypted_cnpj'].isin(['1dcc4997ba5d4f628a2606bb17eb',\\\n",
    "                                                                                       '87db6a9e5895a9b0bb0be8b22694',\\\n",
    "                                                                                       '36f6ec5f76de55a9137968fd0fde',\\\n",
    "                                                                                       '06adb7c8f614e7536089d058198f',\\\n",
    "                                                                                       'a74a729c7a3d3c0a6c6f59bb07c5'])]\n"
   ]
  },
  {
   "cell_type": "markdown",
   "metadata": {},
   "source": [
    "\n",
    "#### Merge dos dataframe de vendas e lojas"
   ]
  },
  {
   "cell_type": "code",
   "execution_count": 25,
   "metadata": {},
   "outputs": [],
   "source": [
    "sales_store = pd.merge(sales, stores, on='encrypted_cnpj', how='inner')\n",
    "sales_store = sales_store[['encrypted_cnpj','encrypted_5_zipcode','cnae_code', 'cnae_desc', 'dateTime', \\\n",
    "                           'productTotal', 'prod_fullname']]\n"
   ]
  },
  {
   "cell_type": "code",
   "execution_count": 26,
   "metadata": {},
   "outputs": [
    {
     "data": {
      "text/html": [
       "<div>\n",
       "<style scoped>\n",
       "    .dataframe tbody tr th:only-of-type {\n",
       "        vertical-align: middle;\n",
       "    }\n",
       "\n",
       "    .dataframe tbody tr th {\n",
       "        vertical-align: top;\n",
       "    }\n",
       "\n",
       "    .dataframe thead th {\n",
       "        text-align: right;\n",
       "    }\n",
       "</style>\n",
       "<table border=\"1\" class=\"dataframe\">\n",
       "  <thead>\n",
       "    <tr style=\"text-align: right;\">\n",
       "      <th></th>\n",
       "      <th>encrypted_cnpj</th>\n",
       "      <th>encrypted_5_zipcode</th>\n",
       "      <th>cnae_code</th>\n",
       "      <th>cnae_desc</th>\n",
       "      <th>dateTime</th>\n",
       "      <th>productTotal</th>\n",
       "      <th>prod_fullname</th>\n",
       "    </tr>\n",
       "  </thead>\n",
       "  <tbody>\n",
       "    <tr>\n",
       "      <th>0</th>\n",
       "      <td>744f9707a59fbbffe75dad22aee7</td>\n",
       "      <td>3232346266373830376161656536613931303034323632...</td>\n",
       "      <td>5611201.0</td>\n",
       "      <td>Restaurantes e similares</td>\n",
       "      <td>2018-10-21T20:19:05.000Z</td>\n",
       "      <td>36.0195</td>\n",
       "      <td>refeicao</td>\n",
       "    </tr>\n",
       "    <tr>\n",
       "      <th>1</th>\n",
       "      <td>744f9707a59fbbffe75dad22aee7</td>\n",
       "      <td>3232346266373830376161656536613931303034323632...</td>\n",
       "      <td>5611201.0</td>\n",
       "      <td>Restaurantes e similares</td>\n",
       "      <td>2018-12-27T12:35:26.000Z</td>\n",
       "      <td>24.0130</td>\n",
       "      <td>refeicao</td>\n",
       "    </tr>\n",
       "    <tr>\n",
       "      <th>2</th>\n",
       "      <td>744f9707a59fbbffe75dad22aee7</td>\n",
       "      <td>3232346266373830376161656536613931303034323632...</td>\n",
       "      <td>5611201.0</td>\n",
       "      <td>Restaurantes e similares</td>\n",
       "      <td>2018-10-24T11:34:53.000Z</td>\n",
       "      <td>51.9200</td>\n",
       "      <td>refeicao</td>\n",
       "    </tr>\n",
       "    <tr>\n",
       "      <th>3</th>\n",
       "      <td>744f9707a59fbbffe75dad22aee7</td>\n",
       "      <td>3232346266373830376161656536613931303034323632...</td>\n",
       "      <td>5611201.0</td>\n",
       "      <td>Restaurantes e similares</td>\n",
       "      <td>2018-10-02T22:20:51.000Z</td>\n",
       "      <td>32.4500</td>\n",
       "      <td>refeicao</td>\n",
       "    </tr>\n",
       "    <tr>\n",
       "      <th>4</th>\n",
       "      <td>744f9707a59fbbffe75dad22aee7</td>\n",
       "      <td>3232346266373830376161656536613931303034323632...</td>\n",
       "      <td>5611201.0</td>\n",
       "      <td>Restaurantes e similares</td>\n",
       "      <td>2018-12-18T17:32:48.000Z</td>\n",
       "      <td>38.2910</td>\n",
       "      <td>refeicao</td>\n",
       "    </tr>\n",
       "  </tbody>\n",
       "</table>\n",
       "</div>"
      ],
      "text/plain": [
       "                 encrypted_cnpj  \\\n",
       "0  744f9707a59fbbffe75dad22aee7   \n",
       "1  744f9707a59fbbffe75dad22aee7   \n",
       "2  744f9707a59fbbffe75dad22aee7   \n",
       "3  744f9707a59fbbffe75dad22aee7   \n",
       "4  744f9707a59fbbffe75dad22aee7   \n",
       "\n",
       "                                 encrypted_5_zipcode  cnae_code  \\\n",
       "0  3232346266373830376161656536613931303034323632...  5611201.0   \n",
       "1  3232346266373830376161656536613931303034323632...  5611201.0   \n",
       "2  3232346266373830376161656536613931303034323632...  5611201.0   \n",
       "3  3232346266373830376161656536613931303034323632...  5611201.0   \n",
       "4  3232346266373830376161656536613931303034323632...  5611201.0   \n",
       "\n",
       "                  cnae_desc                  dateTime  productTotal  \\\n",
       "0  Restaurantes e similares  2018-10-21T20:19:05.000Z       36.0195   \n",
       "1  Restaurantes e similares  2018-12-27T12:35:26.000Z       24.0130   \n",
       "2  Restaurantes e similares  2018-10-24T11:34:53.000Z       51.9200   \n",
       "3  Restaurantes e similares  2018-10-02T22:20:51.000Z       32.4500   \n",
       "4  Restaurantes e similares  2018-12-18T17:32:48.000Z       38.2910   \n",
       "\n",
       "  prod_fullname  \n",
       "0      refeicao  \n",
       "1      refeicao  \n",
       "2      refeicao  \n",
       "3      refeicao  \n",
       "4      refeicao  "
      ]
     },
     "execution_count": 26,
     "metadata": {},
     "output_type": "execute_result"
    }
   ],
   "source": [
    "sales_store.head(5)"
   ]
  },
  {
   "cell_type": "code",
   "execution_count": 27,
   "metadata": {},
   "outputs": [],
   "source": [
    "sales_store[\"dateTime\"] = pd.to_datetime(sales_store[\"dateTime\"])"
   ]
  },
  {
   "cell_type": "code",
   "execution_count": 332,
   "metadata": {},
   "outputs": [],
   "source": [
    "'''sales_store['data'] = sales_store['dateTime'].str.extract('(....-..-..)', expand=True)\n",
    "sales_store['hora'] = sales_store['dateTime'].str.extract('(\\d\\d\\:\\d\\d\\:\\d\\d)', expand=True)\n",
    "#sales_store['dateTime'] = sales_store['data'] +' '+ sales_store['hora']'''"
   ]
  },
  {
   "cell_type": "code",
   "execution_count": null,
   "metadata": {},
   "outputs": [],
   "source": [
    "'''sales_store['dateTime'].astype('datetime64')\n",
    "sales_store['data'].astype('datetime64')\n",
    "sales_store['hora'].astype('datetime64')\n",
    "#sales_store = sales_store.drop(['data'], axis=1)\n",
    "#sales_store = sales_store.drop(['hora'], axis=1)\n",
    "#sales_store = sales_store.drop(['dateTime'], axis=1)\n",
    "#sales_store['dateTime'].head(5)'''"
   ]
  },
  {
   "cell_type": "code",
   "execution_count": 28,
   "metadata": {},
   "outputs": [
    {
     "data": {
      "text/html": [
       "<div>\n",
       "<style scoped>\n",
       "    .dataframe tbody tr th:only-of-type {\n",
       "        vertical-align: middle;\n",
       "    }\n",
       "\n",
       "    .dataframe tbody tr th {\n",
       "        vertical-align: top;\n",
       "    }\n",
       "\n",
       "    .dataframe thead th {\n",
       "        text-align: right;\n",
       "    }\n",
       "</style>\n",
       "<table border=\"1\" class=\"dataframe\">\n",
       "  <thead>\n",
       "    <tr style=\"text-align: right;\">\n",
       "      <th></th>\n",
       "      <th>encrypted_cnpj</th>\n",
       "      <th>encrypted_5_zipcode</th>\n",
       "      <th>cnae_code</th>\n",
       "      <th>cnae_desc</th>\n",
       "      <th>dateTime</th>\n",
       "      <th>productTotal</th>\n",
       "      <th>prod_fullname</th>\n",
       "    </tr>\n",
       "  </thead>\n",
       "  <tbody>\n",
       "    <tr>\n",
       "      <th>0</th>\n",
       "      <td>744f9707a59fbbffe75dad22aee7</td>\n",
       "      <td>3232346266373830376161656536613931303034323632...</td>\n",
       "      <td>5611201.0</td>\n",
       "      <td>Restaurantes e similares</td>\n",
       "      <td>2018-10-21 20:19:05</td>\n",
       "      <td>36.0195</td>\n",
       "      <td>refeicao</td>\n",
       "    </tr>\n",
       "    <tr>\n",
       "      <th>1</th>\n",
       "      <td>744f9707a59fbbffe75dad22aee7</td>\n",
       "      <td>3232346266373830376161656536613931303034323632...</td>\n",
       "      <td>5611201.0</td>\n",
       "      <td>Restaurantes e similares</td>\n",
       "      <td>2018-12-27 12:35:26</td>\n",
       "      <td>24.0130</td>\n",
       "      <td>refeicao</td>\n",
       "    </tr>\n",
       "    <tr>\n",
       "      <th>2</th>\n",
       "      <td>744f9707a59fbbffe75dad22aee7</td>\n",
       "      <td>3232346266373830376161656536613931303034323632...</td>\n",
       "      <td>5611201.0</td>\n",
       "      <td>Restaurantes e similares</td>\n",
       "      <td>2018-10-24 11:34:53</td>\n",
       "      <td>51.9200</td>\n",
       "      <td>refeicao</td>\n",
       "    </tr>\n",
       "    <tr>\n",
       "      <th>3</th>\n",
       "      <td>744f9707a59fbbffe75dad22aee7</td>\n",
       "      <td>3232346266373830376161656536613931303034323632...</td>\n",
       "      <td>5611201.0</td>\n",
       "      <td>Restaurantes e similares</td>\n",
       "      <td>2018-10-02 22:20:51</td>\n",
       "      <td>32.4500</td>\n",
       "      <td>refeicao</td>\n",
       "    </tr>\n",
       "    <tr>\n",
       "      <th>4</th>\n",
       "      <td>744f9707a59fbbffe75dad22aee7</td>\n",
       "      <td>3232346266373830376161656536613931303034323632...</td>\n",
       "      <td>5611201.0</td>\n",
       "      <td>Restaurantes e similares</td>\n",
       "      <td>2018-12-18 17:32:48</td>\n",
       "      <td>38.2910</td>\n",
       "      <td>refeicao</td>\n",
       "    </tr>\n",
       "  </tbody>\n",
       "</table>\n",
       "</div>"
      ],
      "text/plain": [
       "                 encrypted_cnpj  \\\n",
       "0  744f9707a59fbbffe75dad22aee7   \n",
       "1  744f9707a59fbbffe75dad22aee7   \n",
       "2  744f9707a59fbbffe75dad22aee7   \n",
       "3  744f9707a59fbbffe75dad22aee7   \n",
       "4  744f9707a59fbbffe75dad22aee7   \n",
       "\n",
       "                                 encrypted_5_zipcode  cnae_code  \\\n",
       "0  3232346266373830376161656536613931303034323632...  5611201.0   \n",
       "1  3232346266373830376161656536613931303034323632...  5611201.0   \n",
       "2  3232346266373830376161656536613931303034323632...  5611201.0   \n",
       "3  3232346266373830376161656536613931303034323632...  5611201.0   \n",
       "4  3232346266373830376161656536613931303034323632...  5611201.0   \n",
       "\n",
       "                  cnae_desc            dateTime  productTotal prod_fullname  \n",
       "0  Restaurantes e similares 2018-10-21 20:19:05       36.0195      refeicao  \n",
       "1  Restaurantes e similares 2018-12-27 12:35:26       24.0130      refeicao  \n",
       "2  Restaurantes e similares 2018-10-24 11:34:53       51.9200      refeicao  \n",
       "3  Restaurantes e similares 2018-10-02 22:20:51       32.4500      refeicao  \n",
       "4  Restaurantes e similares 2018-12-18 17:32:48       38.2910      refeicao  "
      ]
     },
     "execution_count": 28,
     "metadata": {},
     "output_type": "execute_result"
    }
   ],
   "source": [
    "sales_store.head(5)"
   ]
  },
  {
   "cell_type": "code",
   "execution_count": 29,
   "metadata": {},
   "outputs": [
    {
     "name": "stdout",
     "output_type": "stream",
     "text": [
      "encrypted_cnpj            0\n",
      "encrypted_5_zipcode    1330\n",
      "cnae_code              3176\n",
      "cnae_desc              3176\n",
      "dateTime                  0\n",
      "productTotal              0\n",
      "prod_fullname             0\n",
      "dtype: int64\n"
     ]
    }
   ],
   "source": [
    "print(sales_store.isnull().sum())"
   ]
  },
  {
   "cell_type": "code",
   "execution_count": 30,
   "metadata": {},
   "outputs": [
    {
     "name": "stdout",
     "output_type": "stream",
     "text": [
      "<class 'pandas.core.frame.DataFrame'>\n",
      "Int64Index: 1496642 entries, 0 to 1496641\n",
      "Data columns (total 7 columns):\n",
      "encrypted_cnpj         1496642 non-null object\n",
      "encrypted_5_zipcode    1495312 non-null object\n",
      "cnae_code              1493466 non-null float64\n",
      "cnae_desc              1493466 non-null object\n",
      "dateTime               1496642 non-null datetime64[ns]\n",
      "productTotal           1496642 non-null float64\n",
      "prod_fullname          1496642 non-null object\n",
      "dtypes: datetime64[ns](1), float64(2), object(4)\n",
      "memory usage: 91.3+ MB\n"
     ]
    }
   ],
   "source": [
    "sales_store.info()"
   ]
  },
  {
   "cell_type": "code",
   "execution_count": 31,
   "metadata": {},
   "outputs": [
    {
     "data": {
      "text/plain": [
       "0    2018\n",
       "1    2018\n",
       "2    2018\n",
       "3    2018\n",
       "4    2018\n",
       "Name: dateTime, dtype: int64"
      ]
     },
     "execution_count": 31,
     "metadata": {},
     "output_type": "execute_result"
    }
   ],
   "source": [
    "sales_store['dateTime'].dt.year.head(5)"
   ]
  },
  {
   "cell_type": "markdown",
   "metadata": {},
   "source": [
    "#### Produtos vendidos por zipcode"
   ]
  },
  {
   "cell_type": "code",
   "execution_count": 32,
   "metadata": {},
   "outputs": [
    {
     "data": {
      "text/plain": [
       "encrypted_5_zipcode\n",
       "3661373961316338373765313836633138653865316230333366376264313365    9\n",
       "6136366337303334396538323639333830343332303730393530303630356534    9\n",
       "6235363135623233353934386564393939383164336661366566643234656538    7\n",
       "3535646465643131353832613261393632653535653636643231343731633531    6\n",
       "3733653366393732613964356161633836643736393764336430303637613332    5\n",
       "Name: cnae_code, dtype: int64"
      ]
     },
     "execution_count": 32,
     "metadata": {},
     "output_type": "execute_result"
    }
   ],
   "source": [
    "zipcode_prod = sales_store.groupby('encrypted_5_zipcode').cnae_code.nunique()\n",
    "zipcode_prod=zipcode_prod.sort_values( ascending=False)\n",
    "zipcode_prod.head(5)"
   ]
  },
  {
   "cell_type": "code",
   "execution_count": 33,
   "metadata": {
    "scrolled": false
   },
   "outputs": [
    {
     "data": {
      "text/plain": [
       "encrypted_5_zipcode                                               cnae_desc                                                                                                                     \n",
       "6338656164303830383033643564373138346432646634353536383538626632  Comércio varejista de produtos alimentícios em geral ou especializado em produtos alimentícios não especificados anteriormente    4.109914e+07\n",
       "6532386131313566376538326464313662326666393761643534623965373830  Outras sociedades de participação, exceto holdings                                                                                1.300370e+06\n",
       "3734313233666565613437366162343231366233323463356265313263663039  Comércio varejista de combustíveis para veículos automotores                                                                      9.768599e+05\n",
       "3539336562303239613336346466626436383638623961306238616138316662  Comércio varejista de combustíveis para veículos automotores                                                                      9.266674e+05\n",
       "3730346266653165373162313463336666386466656465336666613163613263  Comércio varejista de combustíveis para veículos automotores                                                                      9.037905e+05\n",
       "3634373563373161666138333063616139393830323735316230313563643261  Comércio varejista de combustíveis para veículos automotores                                                                      8.173649e+05\n",
       "3530396462386337336264366364393134356636363065363931316264343664  Comércio varejista de mercadorias em lojas de conveniência                                                                        7.432313e+05\n",
       "3263613164633364346634346232353630633862353634363461313933313439  Comércio varejista de combustíveis para veículos automotores                                                                      6.238366e+05\n",
       "6164373539383236633730343132383831373736643661653938326636613835  Comércio varejista de combustíveis para veículos automotores                                                                      5.145400e+05\n",
       "3432653630633734663933356261346363646662343761656265303035656535  Comércio varejista de material elétrico                                                                                           4.834110e+05\n",
       "Name: productTotal, dtype: float64"
      ]
     },
     "execution_count": 33,
     "metadata": {},
     "output_type": "execute_result"
    }
   ],
   "source": [
    "#CEP que mais vende por CNAE\n",
    "zipcode_prod = sales_store.groupby(['encrypted_5_zipcode', 'cnae_desc']).productTotal.sum()\n",
    "zipcode_prod=zipcode_prod.sort_values(ascending=False)\n",
    "zipcode_prod.head(10)"
   ]
  },
  {
   "cell_type": "code",
   "execution_count": 34,
   "metadata": {},
   "outputs": [
    {
     "data": {
      "text/plain": [
       "encrypted_5_zipcode\n",
       "6338656164303830383033643564373138346432646634353536383538626632    4.109914e+07\n",
       "6532386131313566376538326464313662326666393761643534623965373830    1.300370e+06\n",
       "3734313233666565613437366162343231366233323463356265313263663039    9.768599e+05\n",
       "3539336562303239613336346466626436383638623961306238616138316662    9.281872e+05\n",
       "3730346266653165373162313463336666386466656465336666613163613263    9.037905e+05\n",
       "3634373563373161666138333063616139393830323735316230313563643261    8.173649e+05\n",
       "3530396462386337336264366364393134356636363065363931316264343664    7.432313e+05\n",
       "6235363135623233353934386564393939383164336661366566643234656538    7.142385e+05\n",
       "3263613164633364346634346232353630633862353634363461313933313439    6.238366e+05\n",
       "6164373539383236633730343132383831373736643661653938326636613835    5.145400e+05\n",
       "Name: productTotal, dtype: float64"
      ]
     },
     "execution_count": 34,
     "metadata": {},
     "output_type": "execute_result"
    }
   ],
   "source": [
    "#CEP que mais vende por produto\n",
    "zipcode_prod = sales_store.groupby(['encrypted_5_zipcode']).productTotal.sum()\n",
    "zipcode_prod=zipcode_prod.sort_values(ascending=False)\n",
    "zipcode_prod.head(10)"
   ]
  },
  {
   "cell_type": "code",
   "execution_count": 35,
   "metadata": {},
   "outputs": [],
   "source": [
    "cep = sales_store.loc[sales_store['encrypted_5_zipcode'].isin(['6338656164303830383033643564373138346432646634353536383538626632'])]\n"
   ]
  },
  {
   "cell_type": "code",
   "execution_count": 36,
   "metadata": {},
   "outputs": [
    {
     "data": {
      "text/plain": [
       "array(['1dcc4997ba5d4f628a2606bb17eb'], dtype=object)"
      ]
     },
     "execution_count": 36,
     "metadata": {},
     "output_type": "execute_result"
    }
   ],
   "source": [
    "cep['encrypted_cnpj'].unique()"
   ]
  },
  {
   "cell_type": "code",
   "execution_count": 37,
   "metadata": {},
   "outputs": [
    {
     "data": {
      "text/plain": [
       "array(['Comércio varejista de produtos alimentícios em geral ou especializado em produtos alimentícios não especificados anteriormente'],\n",
       "      dtype=object)"
      ]
     },
     "execution_count": 37,
     "metadata": {},
     "output_type": "execute_result"
    }
   ],
   "source": [
    "cep['cnae_desc'].unique()"
   ]
  },
  {
   "cell_type": "code",
   "execution_count": 38,
   "metadata": {},
   "outputs": [
    {
     "data": {
      "text/plain": [
       "41099141.5924"
      ]
     },
     "execution_count": 38,
     "metadata": {},
     "output_type": "execute_result"
    }
   ],
   "source": [
    "cep['productTotal'].sum()"
   ]
  },
  {
   "cell_type": "code",
   "execution_count": 110,
   "metadata": {},
   "outputs": [
    {
     "data": {
      "text/plain": [
       "prod_fullname\n",
       "##far chia 200g sabor da terra (5) sabor da terra                22.900000\n",
       "#sh.s.line cach.dos sonh.300ml                                   19.000000\n",
       "%tripack baby sortidos 19 a 22 (981370) sortidos 15 a 18          0.020000\n",
       "&joy barra protein coco 35g &joy                                  0.060000\n",
       "( fora de limha) caminhonete scorpion si 2500 special color      32.900000\n",
       "(1567)cesto multiuso (flexivel)15 lts azul tifany                16.900000\n",
       "(1567)cesto multiuso (flexivel)15 lts royal                      16.900000\n",
       "(1568)cesto multiuso (flexivel) 20 lts laran                     19.900000\n",
       "(1589)cesto quadrado 18 lts royal                                19.900000\n",
       "(19,90) bife acebolado, chips e arroz                            39.800000\n",
       "(400)aparador aico cuticulas colorido 7898035001467               3.450000\n",
       "(5001)cesto flexivel telado 3,4 lts rosa                         17.800000\n",
       "(5043)caixa 1 rattan 520ml  13x9x6  rosa                          9.800000\n",
       "(5044)caixa rattan 1,74 lts 18x13x9 bege                         12.900000\n",
       "(5044)caixa rattan 1,74 lts 18x13x9 tifany                       12.900000\n",
       "(5045)caixa rattan 4,5 lts 27,5x18x12 bege                       45.800000\n",
       "(5045)caixa rattan 4,5 lts 27,5x18x12 tifany                     22.900000\n",
       "(5045)caixa rattan 4,5 lts 27,5x18x12 vermelho                  114.500000\n",
       "(5052)lixeira p/pia by arthi vermelho                            34.990000\n",
       "(i) agua sao lourenco c/gas 510ml                                33.890000\n",
       "(i) aurora salsicha longa 500g                                    7.990000\n",
       "(i) bisc.mini oreo 35g                                           14.820000\n",
       "(i) biscoito tortinha chocolate suico 160g                        2.990000\n",
       "(i) carvao vegetal corupa 3kg                                     9.990000\n",
       "(i) cerv. brahma extra weiss ln 355ml                             9.980000\n",
       "(i) cerv. provincia amber ln 355ml                                9.980000\n",
       "(i) cerv. provincia lager ln 355ml                               14.970000\n",
       "(i) cerv.brahma extra lager ln 355ml                             49.900000\n",
       "(i) cerveja budweiser long neck 343ml                           635.380000\n",
       "(i) cerveja itaipava 269ml                                      284.570000\n",
       "                                                                  ...     \n",
       "óleo barba limye limye barber shop oleo barba 30ml               29.900000\n",
       "óleo citronela 10ml geral - loja                                 25.500000\n",
       "óleo copaíba 30ml     força da terra                             33.440000\n",
       "óleo de arnica 30ml força da terra                               17.800000\n",
       "óleo de calêndula 100ml geral - loja                             38.600000\n",
       "óleo de coco extra virgem  200ml    qualicoco                    19.900000\n",
       "óleo de coco extra virgem 200ml  mundo verde                    234.020000\n",
       "óleo de coco extra virgem 200ml mv geral - loja                 188.627700\n",
       "óleo de coco extra virgem 500ml mundo verde                     364.518500\n",
       "óleo de coco extra virgem 500ml mv geral - loja                 570.721000\n",
       "óleo de coco sem sabor 200ml   qualicoco                         31.800000\n",
       "óleo de germe de trigo 60ml  phytoterapica-solua                 26.900000\n",
       "óleo de hortelã pimenta 10ml    phytoterapica-solua              42.900000\n",
       "óleo de lavanda 10ml  phytoterapica-solua                        84.800000\n",
       "óleo de limao tahiti 10 ml      phytoterapica-solua              51.200000\n",
       "óleo de melaleuca tea tree 10ml  phytoterapica-solua             33.900000\n",
       "óleo de primula 60caps  cha mais                                 29.800000\n",
       "óleo de prímula 60caps  vital natus                              25.900000\n",
       "óleo diesel b s10 - aditivado rendmax                          6058.149016\n",
       "óleo essêncial tomilho branco 10ml. phytoterápica                40.800000\n",
       "óleo laranja 10ml geral - loja                                   20.900000\n",
       "óleo lavanda 10ml geral - loja                                  131.700000\n",
       "óleo linhaça flaxseed oil 100caps    performance                 75.800000\n",
       "óleo malaleuca tea tree 11ml geral - loja                        39.500000\n",
       "óleo maxon 5w30 sintetico                                        25.990000\n",
       "óleo maxon premium mineral oil 20w50                            157.900000\n",
       "óleo maxon supra 15w40 diesel gasolina etanol gnv                74.000000\n",
       "óleo melaleuca-tea tree 10ml geral - loja                        77.710000\n",
       "óleo patchouli 10ml geral - loja                                 57.500000\n",
       "ônibus bus kid em plástico e cx em cartonado com 5 bonecos       47.900000\n",
       "Name: productTotal, Length: 178453, dtype: float64"
      ]
     },
     "execution_count": 110,
     "metadata": {},
     "output_type": "execute_result"
    }
   ],
   "source": [
    "#Produto\n",
    "#sales.head(5)\n",
    "sales_store.groupby(['prod_fullname']).productTotal.sum()"
   ]
  },
  {
   "cell_type": "markdown",
   "metadata": {},
   "source": [
    "#### Removendo o CNPJ 1dcc4997ba5d4f628a2606bb17eb\n",
    "Esse CNPJ representa 50% da base"
   ]
  },
  {
   "cell_type": "code",
   "execution_count": 39,
   "metadata": {},
   "outputs": [
    {
     "data": {
      "text/plain": [
       "encrypted_cnpj         1496642\n",
       "encrypted_5_zipcode    1495312\n",
       "cnae_code              1493466\n",
       "cnae_desc              1493466\n",
       "dateTime               1496642\n",
       "productTotal           1496642\n",
       "prod_fullname          1496642\n",
       "dtype: int64"
      ]
     },
     "execution_count": 39,
     "metadata": {},
     "output_type": "execute_result"
    }
   ],
   "source": [
    "# Total\n",
    "sales_store.count()"
   ]
  },
  {
   "cell_type": "code",
   "execution_count": 40,
   "metadata": {},
   "outputs": [
    {
     "data": {
      "text/plain": [
       "encrypted_cnpj         1073\n",
       "encrypted_5_zipcode    1073\n",
       "cnae_code              1073\n",
       "cnae_desc              1073\n",
       "dateTime               1073\n",
       "productTotal           1073\n",
       "prod_fullname          1073\n",
       "dtype: int64"
      ]
     },
     "execution_count": 40,
     "metadata": {},
     "output_type": "execute_result"
    }
   ],
   "source": [
    "#Somente cnpj 1dcc4997ba5d4f628a2606bb17eb\n",
    "sales_store2 = sales_store\n",
    "sales_store2 = sales_store2[sales_store2.encrypted_cnpj == '1dcc4997ba5d4f628a2606bb17eb']\n",
    "sales_store2.count()"
   ]
  },
  {
   "cell_type": "code",
   "execution_count": 41,
   "metadata": {},
   "outputs": [
    {
     "data": {
      "text/plain": [
       "encrypted_cnpj         1495569\n",
       "encrypted_5_zipcode    1494239\n",
       "cnae_code              1492393\n",
       "cnae_desc              1492393\n",
       "dateTime               1495569\n",
       "productTotal           1495569\n",
       "prod_fullname          1495569\n",
       "dtype: int64"
      ]
     },
     "execution_count": 41,
     "metadata": {},
     "output_type": "execute_result"
    }
   ],
   "source": [
    "# Outros cnpj\n",
    "sales_store3 = sales_store\n",
    "sales_store3 = sales_store3[sales_store3.encrypted_cnpj != '1dcc4997ba5d4f628a2606bb17eb']\n",
    "sales_store3.count()"
   ]
  },
  {
   "cell_type": "code",
   "execution_count": 42,
   "metadata": {},
   "outputs": [
    {
     "data": {
      "text/html": [
       "<div>\n",
       "<style scoped>\n",
       "    .dataframe tbody tr th:only-of-type {\n",
       "        vertical-align: middle;\n",
       "    }\n",
       "\n",
       "    .dataframe tbody tr th {\n",
       "        vertical-align: top;\n",
       "    }\n",
       "\n",
       "    .dataframe thead th {\n",
       "        text-align: right;\n",
       "    }\n",
       "</style>\n",
       "<table border=\"1\" class=\"dataframe\">\n",
       "  <thead>\n",
       "    <tr style=\"text-align: right;\">\n",
       "      <th></th>\n",
       "      <th>encrypted_cnpj</th>\n",
       "      <th>encrypted_5_zipcode</th>\n",
       "      <th>cnae_code</th>\n",
       "      <th>cnae_desc</th>\n",
       "      <th>dateTime</th>\n",
       "      <th>productTotal</th>\n",
       "      <th>prod_fullname</th>\n",
       "    </tr>\n",
       "  </thead>\n",
       "  <tbody>\n",
       "    <tr>\n",
       "      <th>0</th>\n",
       "      <td>744f9707a59fbbffe75dad22aee7</td>\n",
       "      <td>3232346266373830376161656536613931303034323632...</td>\n",
       "      <td>5611201.0</td>\n",
       "      <td>Restaurantes e similares</td>\n",
       "      <td>2018-10-21 20:19:05</td>\n",
       "      <td>36.0195</td>\n",
       "      <td>refeicao</td>\n",
       "    </tr>\n",
       "    <tr>\n",
       "      <th>1</th>\n",
       "      <td>744f9707a59fbbffe75dad22aee7</td>\n",
       "      <td>3232346266373830376161656536613931303034323632...</td>\n",
       "      <td>5611201.0</td>\n",
       "      <td>Restaurantes e similares</td>\n",
       "      <td>2018-12-27 12:35:26</td>\n",
       "      <td>24.0130</td>\n",
       "      <td>refeicao</td>\n",
       "    </tr>\n",
       "    <tr>\n",
       "      <th>2</th>\n",
       "      <td>744f9707a59fbbffe75dad22aee7</td>\n",
       "      <td>3232346266373830376161656536613931303034323632...</td>\n",
       "      <td>5611201.0</td>\n",
       "      <td>Restaurantes e similares</td>\n",
       "      <td>2018-10-24 11:34:53</td>\n",
       "      <td>51.9200</td>\n",
       "      <td>refeicao</td>\n",
       "    </tr>\n",
       "    <tr>\n",
       "      <th>3</th>\n",
       "      <td>744f9707a59fbbffe75dad22aee7</td>\n",
       "      <td>3232346266373830376161656536613931303034323632...</td>\n",
       "      <td>5611201.0</td>\n",
       "      <td>Restaurantes e similares</td>\n",
       "      <td>2018-10-02 22:20:51</td>\n",
       "      <td>32.4500</td>\n",
       "      <td>refeicao</td>\n",
       "    </tr>\n",
       "    <tr>\n",
       "      <th>4</th>\n",
       "      <td>744f9707a59fbbffe75dad22aee7</td>\n",
       "      <td>3232346266373830376161656536613931303034323632...</td>\n",
       "      <td>5611201.0</td>\n",
       "      <td>Restaurantes e similares</td>\n",
       "      <td>2018-12-18 17:32:48</td>\n",
       "      <td>38.2910</td>\n",
       "      <td>refeicao</td>\n",
       "    </tr>\n",
       "  </tbody>\n",
       "</table>\n",
       "</div>"
      ],
      "text/plain": [
       "                 encrypted_cnpj  \\\n",
       "0  744f9707a59fbbffe75dad22aee7   \n",
       "1  744f9707a59fbbffe75dad22aee7   \n",
       "2  744f9707a59fbbffe75dad22aee7   \n",
       "3  744f9707a59fbbffe75dad22aee7   \n",
       "4  744f9707a59fbbffe75dad22aee7   \n",
       "\n",
       "                                 encrypted_5_zipcode  cnae_code  \\\n",
       "0  3232346266373830376161656536613931303034323632...  5611201.0   \n",
       "1  3232346266373830376161656536613931303034323632...  5611201.0   \n",
       "2  3232346266373830376161656536613931303034323632...  5611201.0   \n",
       "3  3232346266373830376161656536613931303034323632...  5611201.0   \n",
       "4  3232346266373830376161656536613931303034323632...  5611201.0   \n",
       "\n",
       "                  cnae_desc            dateTime  productTotal prod_fullname  \n",
       "0  Restaurantes e similares 2018-10-21 20:19:05       36.0195      refeicao  \n",
       "1  Restaurantes e similares 2018-12-27 12:35:26       24.0130      refeicao  \n",
       "2  Restaurantes e similares 2018-10-24 11:34:53       51.9200      refeicao  \n",
       "3  Restaurantes e similares 2018-10-02 22:20:51       32.4500      refeicao  \n",
       "4  Restaurantes e similares 2018-12-18 17:32:48       38.2910      refeicao  "
      ]
     },
     "execution_count": 42,
     "metadata": {},
     "output_type": "execute_result"
    }
   ],
   "source": [
    "sales_store3.head(5)"
   ]
  },
  {
   "cell_type": "code",
   "execution_count": 43,
   "metadata": {},
   "outputs": [],
   "source": [
    "# total de vendas por dia/mes, cep e cnae\n",
    "# sem o cnpj Big\n",
    "total = sales_store3[['encrypted_5_zipcode', 'cnae_code','dateTime','productTotal']]\n"
   ]
  },
  {
   "cell_type": "code",
   "execution_count": 44,
   "metadata": {},
   "outputs": [
    {
     "name": "stderr",
     "output_type": "stream",
     "text": [
      "/Users/pamela/anaconda3/lib/python3.7/site-packages/ipykernel_launcher.py:1: SettingWithCopyWarning: \n",
      "A value is trying to be set on a copy of a slice from a DataFrame.\n",
      "Try using .loc[row_indexer,col_indexer] = value instead\n",
      "\n",
      "See the caveats in the documentation: http://pandas.pydata.org/pandas-docs/stable/indexing.html#indexing-view-versus-copy\n",
      "  \"\"\"Entry point for launching an IPython kernel.\n",
      "/Users/pamela/anaconda3/lib/python3.7/site-packages/ipykernel_launcher.py:2: SettingWithCopyWarning: \n",
      "A value is trying to be set on a copy of a slice from a DataFrame.\n",
      "Try using .loc[row_indexer,col_indexer] = value instead\n",
      "\n",
      "See the caveats in the documentation: http://pandas.pydata.org/pandas-docs/stable/indexing.html#indexing-view-versus-copy\n",
      "  \n",
      "/Users/pamela/anaconda3/lib/python3.7/site-packages/ipykernel_launcher.py:3: SettingWithCopyWarning: \n",
      "A value is trying to be set on a copy of a slice from a DataFrame.\n",
      "Try using .loc[row_indexer,col_indexer] = value instead\n",
      "\n",
      "See the caveats in the documentation: http://pandas.pydata.org/pandas-docs/stable/indexing.html#indexing-view-versus-copy\n",
      "  This is separate from the ipykernel package so we can avoid doing imports until\n"
     ]
    }
   ],
   "source": [
    "total[\"dateTime\"] = pd.to_datetime(total[\"dateTime\"])\n",
    "total['year'] = total['dateTime'].dt.year\n",
    "total['month'] = total['dateTime'].dt.month\n",
    "total['day'] = total['dateTime'].dt.day"
   ]
  },
  {
   "cell_type": "code",
   "execution_count": 45,
   "metadata": {},
   "outputs": [],
   "source": [
    "x = total.groupby(['dateTime','year','month', 'day','cnae_code','encrypted_5_zipcode'], as_index=False).productTotal.mean()\n"
   ]
  },
  {
   "cell_type": "code",
   "execution_count": 46,
   "metadata": {},
   "outputs": [
    {
     "data": {
      "text/html": [
       "<div>\n",
       "<style scoped>\n",
       "    .dataframe tbody tr th:only-of-type {\n",
       "        vertical-align: middle;\n",
       "    }\n",
       "\n",
       "    .dataframe tbody tr th {\n",
       "        vertical-align: top;\n",
       "    }\n",
       "\n",
       "    .dataframe thead th {\n",
       "        text-align: right;\n",
       "    }\n",
       "</style>\n",
       "<table border=\"1\" class=\"dataframe\">\n",
       "  <thead>\n",
       "    <tr style=\"text-align: right;\">\n",
       "      <th></th>\n",
       "      <th>dateTime</th>\n",
       "      <th>year</th>\n",
       "      <th>month</th>\n",
       "      <th>day</th>\n",
       "      <th>cnae_code</th>\n",
       "      <th>encrypted_5_zipcode</th>\n",
       "      <th>productTotal</th>\n",
       "    </tr>\n",
       "  </thead>\n",
       "  <tbody>\n",
       "    <tr>\n",
       "      <th>896801</th>\n",
       "      <td>2018-12-28 18:19:00</td>\n",
       "      <td>2018</td>\n",
       "      <td>12</td>\n",
       "      <td>28</td>\n",
       "      <td>6463800.0</td>\n",
       "      <td>6532386131313566376538326464313662326666393761...</td>\n",
       "      <td>899273.914100</td>\n",
       "    </tr>\n",
       "    <tr>\n",
       "      <th>669117</th>\n",
       "      <td>2018-12-08 08:04:16</td>\n",
       "      <td>2018</td>\n",
       "      <td>12</td>\n",
       "      <td>8</td>\n",
       "      <td>4731800.0</td>\n",
       "      <td>6565386262366530383631643635623332313635363034...</td>\n",
       "      <td>28400.000000</td>\n",
       "    </tr>\n",
       "    <tr>\n",
       "      <th>718978</th>\n",
       "      <td>2018-12-13 09:34:03</td>\n",
       "      <td>2018</td>\n",
       "      <td>12</td>\n",
       "      <td>13</td>\n",
       "      <td>4731800.0</td>\n",
       "      <td>6565386262366530383631643635623332313635363034...</td>\n",
       "      <td>28400.000000</td>\n",
       "    </tr>\n",
       "    <tr>\n",
       "      <th>57737</th>\n",
       "      <td>2018-10-06 08:00:52</td>\n",
       "      <td>2018</td>\n",
       "      <td>10</td>\n",
       "      <td>6</td>\n",
       "      <td>4731800.0</td>\n",
       "      <td>6565386262366530383631643635623332313635363034...</td>\n",
       "      <td>23520.000000</td>\n",
       "    </tr>\n",
       "    <tr>\n",
       "      <th>570444</th>\n",
       "      <td>2018-11-27 18:40:00</td>\n",
       "      <td>2018</td>\n",
       "      <td>11</td>\n",
       "      <td>27</td>\n",
       "      <td>5611203.0</td>\n",
       "      <td>6564373937636565623438336132633139353761323463...</td>\n",
       "      <td>18101.600000</td>\n",
       "    </tr>\n",
       "    <tr>\n",
       "      <th>26288</th>\n",
       "      <td>2018-10-03 13:07:38</td>\n",
       "      <td>2018</td>\n",
       "      <td>10</td>\n",
       "      <td>3</td>\n",
       "      <td>4731800.0</td>\n",
       "      <td>3539336562303239613336346466626436383638623961...</td>\n",
       "      <td>17556.000000</td>\n",
       "    </tr>\n",
       "    <tr>\n",
       "      <th>766324</th>\n",
       "      <td>2018-12-17 16:37:34</td>\n",
       "      <td>2018</td>\n",
       "      <td>12</td>\n",
       "      <td>17</td>\n",
       "      <td>4731800.0</td>\n",
       "      <td>3436376566353461313638643564383339323966373536...</td>\n",
       "      <td>17000.000000</td>\n",
       "    </tr>\n",
       "    <tr>\n",
       "      <th>309479</th>\n",
       "      <td>2018-10-30 00:00:00</td>\n",
       "      <td>2018</td>\n",
       "      <td>10</td>\n",
       "      <td>30</td>\n",
       "      <td>5611201.0</td>\n",
       "      <td>6439613063346465346138373833306639333136643031...</td>\n",
       "      <td>14269.888231</td>\n",
       "    </tr>\n",
       "    <tr>\n",
       "      <th>629459</th>\n",
       "      <td>2018-12-04 10:30:00</td>\n",
       "      <td>2018</td>\n",
       "      <td>12</td>\n",
       "      <td>4</td>\n",
       "      <td>4781400.0</td>\n",
       "      <td>3636333066306662323164353831646135616337613535...</td>\n",
       "      <td>12759.780000</td>\n",
       "    </tr>\n",
       "    <tr>\n",
       "      <th>88624</th>\n",
       "      <td>2018-10-09 09:16:00</td>\n",
       "      <td>2018</td>\n",
       "      <td>10</td>\n",
       "      <td>9</td>\n",
       "      <td>4755501.0</td>\n",
       "      <td>3535346334343234356337333763343731376565663934...</td>\n",
       "      <td>12236.480000</td>\n",
       "    </tr>\n",
       "  </tbody>\n",
       "</table>\n",
       "</div>"
      ],
      "text/plain": [
       "                  dateTime  year  month  day  cnae_code  \\\n",
       "896801 2018-12-28 18:19:00  2018     12   28  6463800.0   \n",
       "669117 2018-12-08 08:04:16  2018     12    8  4731800.0   \n",
       "718978 2018-12-13 09:34:03  2018     12   13  4731800.0   \n",
       "57737  2018-10-06 08:00:52  2018     10    6  4731800.0   \n",
       "570444 2018-11-27 18:40:00  2018     11   27  5611203.0   \n",
       "26288  2018-10-03 13:07:38  2018     10    3  4731800.0   \n",
       "766324 2018-12-17 16:37:34  2018     12   17  4731800.0   \n",
       "309479 2018-10-30 00:00:00  2018     10   30  5611201.0   \n",
       "629459 2018-12-04 10:30:00  2018     12    4  4781400.0   \n",
       "88624  2018-10-09 09:16:00  2018     10    9  4755501.0   \n",
       "\n",
       "                                      encrypted_5_zipcode   productTotal  \n",
       "896801  6532386131313566376538326464313662326666393761...  899273.914100  \n",
       "669117  6565386262366530383631643635623332313635363034...   28400.000000  \n",
       "718978  6565386262366530383631643635623332313635363034...   28400.000000  \n",
       "57737   6565386262366530383631643635623332313635363034...   23520.000000  \n",
       "570444  6564373937636565623438336132633139353761323463...   18101.600000  \n",
       "26288   3539336562303239613336346466626436383638623961...   17556.000000  \n",
       "766324  3436376566353461313638643564383339323966373536...   17000.000000  \n",
       "309479  6439613063346465346138373833306639333136643031...   14269.888231  \n",
       "629459  3636333066306662323164353831646135616337613535...   12759.780000  \n",
       "88624   3535346334343234356337333763343731376565663934...   12236.480000  "
      ]
     },
     "execution_count": 46,
     "metadata": {},
     "output_type": "execute_result"
    }
   ],
   "source": [
    "x.sort_values(by=['productTotal'], ascending=False).head(10)"
   ]
  },
  {
   "cell_type": "code",
   "execution_count": 47,
   "metadata": {},
   "outputs": [
    {
     "name": "stdout",
     "output_type": "stream",
     "text": [
      "<class 'pandas.core.frame.DataFrame'>\n",
      "Int64Index: 925868 entries, 0 to 925867\n",
      "Data columns (total 7 columns):\n",
      "dateTime               925868 non-null datetime64[ns]\n",
      "year                   925868 non-null int64\n",
      "month                  925868 non-null int64\n",
      "day                    925868 non-null int64\n",
      "cnae_code              925868 non-null float64\n",
      "encrypted_5_zipcode    925868 non-null object\n",
      "productTotal           925868 non-null float64\n",
      "dtypes: datetime64[ns](1), float64(2), int64(3), object(1)\n",
      "memory usage: 56.5+ MB\n"
     ]
    }
   ],
   "source": [
    "x.info()"
   ]
  },
  {
   "cell_type": "code",
   "execution_count": 53,
   "metadata": {},
   "outputs": [
    {
     "data": {
      "text/plain": [
       "Text(-8.825,0.5,'Count')"
      ]
     },
     "execution_count": 53,
     "metadata": {},
     "output_type": "execute_result"
    },
    {
     "data": {
      "image/png": "[encoded data removed]",
      "text/plain": [
       "<Figure size 1728x576 with 1 Axes>"
      ]
     },
     "metadata": {
      "needs_background": "light"
     },
     "output_type": "display_data"
    }
   ],
   "source": [
    "import matplotlib.pyplot as plt\n",
    "from matplotlib.pyplot import figure\n",
    "\n",
    "# Sales by day of the week\n",
    "sns.catplot(x='day',\n",
    "           kind='count',\n",
    "            height=8, \n",
    "            aspect=3,\n",
    "           data=x)\n",
    "plt.xticks(size=30)\n",
    "plt.yticks(size=30)\n",
    "plt.xlabel('')\n",
    "plt.ylabel('Count', fontsize=40)"
   ]
  },
  {
   "cell_type": "code",
   "execution_count": 58,
   "metadata": {},
   "outputs": [
    {
     "data": {
      "text/plain": [
       "Text(-15.075,0.5,'Count')"
      ]
     },
     "execution_count": 58,
     "metadata": {},
     "output_type": "execute_result"
    },
    {
     "data": {
      "image/png": "[encoded data removed]",
      "text/plain": [
       "<Figure size 1728x576 with 1 Axes>"
      ]
     },
     "metadata": {
      "needs_background": "light"
     },
     "output_type": "display_data"
    }
   ],
   "source": [
    "# Sales by month \n",
    "import numpy as np\n",
    "months = ['Oct','Nov','Dec']\n",
    "sns.catplot(x='month',\n",
    "           kind='count',\n",
    "            height=8, \n",
    "            aspect=3,\n",
    "           data=x)\n",
    "plt.xticks(np.arange(3), months, size=30)\n",
    "plt.yticks(size=30)\n",
    "plt.xlabel('')\n",
    "plt.ylabel('Count', fontsize=40)"
   ]
  },
  {
   "cell_type": "code",
   "execution_count": 67,
   "metadata": {},
   "outputs": [
    {
     "data": {
      "text/html": [
       "<div>\n",
       "<style scoped>\n",
       "    .dataframe tbody tr th:only-of-type {\n",
       "        vertical-align: middle;\n",
       "    }\n",
       "\n",
       "    .dataframe tbody tr th {\n",
       "        vertical-align: top;\n",
       "    }\n",
       "\n",
       "    .dataframe thead th {\n",
       "        text-align: right;\n",
       "    }\n",
       "</style>\n",
       "<table border=\"1\" class=\"dataframe\">\n",
       "  <thead>\n",
       "    <tr style=\"text-align: right;\">\n",
       "      <th></th>\n",
       "      <th>dateTime</th>\n",
       "      <th>year</th>\n",
       "      <th>month</th>\n",
       "      <th>day</th>\n",
       "      <th>cnae_code</th>\n",
       "      <th>encrypted_5_zipcode</th>\n",
       "      <th>productTotal</th>\n",
       "    </tr>\n",
       "  </thead>\n",
       "  <tbody>\n",
       "    <tr>\n",
       "      <th>0</th>\n",
       "      <td>2018-10-01</td>\n",
       "      <td>2018</td>\n",
       "      <td>10</td>\n",
       "      <td>1</td>\n",
       "      <td>0.0</td>\n",
       "      <td>3535613366376232343430356562326230663963393234...</td>\n",
       "      <td>8.342857</td>\n",
       "    </tr>\n",
       "    <tr>\n",
       "      <th>1</th>\n",
       "      <td>2018-10-01</td>\n",
       "      <td>2018</td>\n",
       "      <td>10</td>\n",
       "      <td>1</td>\n",
       "      <td>0.0</td>\n",
       "      <td>6330383364323962653833643562323038363834343739...</td>\n",
       "      <td>4.857143</td>\n",
       "    </tr>\n",
       "    <tr>\n",
       "      <th>2</th>\n",
       "      <td>2018-10-01</td>\n",
       "      <td>2018</td>\n",
       "      <td>10</td>\n",
       "      <td>1</td>\n",
       "      <td>1053800.0</td>\n",
       "      <td>3132323463643963666632353930626461333261336230...</td>\n",
       "      <td>4.750000</td>\n",
       "    </tr>\n",
       "    <tr>\n",
       "      <th>3</th>\n",
       "      <td>2018-10-01</td>\n",
       "      <td>2018</td>\n",
       "      <td>10</td>\n",
       "      <td>1</td>\n",
       "      <td>1053800.0</td>\n",
       "      <td>3862336364303630373962626135393934316164613466...</td>\n",
       "      <td>5.175000</td>\n",
       "    </tr>\n",
       "    <tr>\n",
       "      <th>4</th>\n",
       "      <td>2018-10-01</td>\n",
       "      <td>2018</td>\n",
       "      <td>10</td>\n",
       "      <td>1</td>\n",
       "      <td>1091102.0</td>\n",
       "      <td>6237326130373938346132616630336631326136383262...</td>\n",
       "      <td>10.476338</td>\n",
       "    </tr>\n",
       "  </tbody>\n",
       "</table>\n",
       "</div>"
      ],
      "text/plain": [
       "    dateTime  year  month  day  cnae_code  \\\n",
       "0 2018-10-01  2018     10    1        0.0   \n",
       "1 2018-10-01  2018     10    1        0.0   \n",
       "2 2018-10-01  2018     10    1  1053800.0   \n",
       "3 2018-10-01  2018     10    1  1053800.0   \n",
       "4 2018-10-01  2018     10    1  1091102.0   \n",
       "\n",
       "                                 encrypted_5_zipcode  productTotal  \n",
       "0  3535613366376232343430356562326230663963393234...      8.342857  \n",
       "1  6330383364323962653833643562323038363834343739...      4.857143  \n",
       "2  3132323463643963666632353930626461333261336230...      4.750000  \n",
       "3  3862336364303630373962626135393934316164613466...      5.175000  \n",
       "4  6237326130373938346132616630336631326136383262...     10.476338  "
      ]
     },
     "execution_count": 67,
     "metadata": {},
     "output_type": "execute_result"
    }
   ],
   "source": [
    "x.head(5)"
   ]
  },
  {
   "cell_type": "code",
   "execution_count": 107,
   "metadata": {},
   "outputs": [
    {
     "data": {
      "text/html": [
       "<div>\n",
       "<style scoped>\n",
       "    .dataframe tbody tr th:only-of-type {\n",
       "        vertical-align: middle;\n",
       "    }\n",
       "\n",
       "    .dataframe tbody tr th {\n",
       "        vertical-align: top;\n",
       "    }\n",
       "\n",
       "    .dataframe thead th {\n",
       "        text-align: right;\n",
       "    }\n",
       "</style>\n",
       "<table border=\"1\" class=\"dataframe\">\n",
       "  <thead>\n",
       "    <tr style=\"text-align: right;\">\n",
       "      <th></th>\n",
       "      <th>year</th>\n",
       "      <th>month</th>\n",
       "      <th>day</th>\n",
       "      <th>cnae_code</th>\n",
       "      <th>productTotal</th>\n",
       "    </tr>\n",
       "  </thead>\n",
       "  <tbody>\n",
       "    <tr>\n",
       "      <th>year</th>\n",
       "      <td>NaN</td>\n",
       "      <td>NaN</td>\n",
       "      <td>NaN</td>\n",
       "      <td>NaN</td>\n",
       "      <td>NaN</td>\n",
       "    </tr>\n",
       "    <tr>\n",
       "      <th>month</th>\n",
       "      <td>NaN</td>\n",
       "      <td>1.000000</td>\n",
       "      <td>0.026003</td>\n",
       "      <td>-0.011206</td>\n",
       "      <td>0.000826</td>\n",
       "    </tr>\n",
       "    <tr>\n",
       "      <th>day</th>\n",
       "      <td>NaN</td>\n",
       "      <td>0.026003</td>\n",
       "      <td>1.000000</td>\n",
       "      <td>-0.004533</td>\n",
       "      <td>0.001011</td>\n",
       "    </tr>\n",
       "    <tr>\n",
       "      <th>cnae_code</th>\n",
       "      <td>NaN</td>\n",
       "      <td>-0.011206</td>\n",
       "      <td>-0.004533</td>\n",
       "      <td>1.000000</td>\n",
       "      <td>-0.002869</td>\n",
       "    </tr>\n",
       "    <tr>\n",
       "      <th>productTotal</th>\n",
       "      <td>NaN</td>\n",
       "      <td>0.000826</td>\n",
       "      <td>0.001011</td>\n",
       "      <td>-0.002869</td>\n",
       "      <td>1.000000</td>\n",
       "    </tr>\n",
       "  </tbody>\n",
       "</table>\n",
       "</div>"
      ],
      "text/plain": [
       "              year     month       day  cnae_code  productTotal\n",
       "year           NaN       NaN       NaN        NaN           NaN\n",
       "month          NaN  1.000000  0.026003  -0.011206      0.000826\n",
       "day            NaN  0.026003  1.000000  -0.004533      0.001011\n",
       "cnae_code      NaN -0.011206 -0.004533   1.000000     -0.002869\n",
       "productTotal   NaN  0.000826  0.001011  -0.002869      1.000000"
      ]
     },
     "execution_count": 107,
     "metadata": {},
     "output_type": "execute_result"
    }
   ],
   "source": [
    "x.corr()"
   ]
  },
  {
   "cell_type": "markdown",
   "metadata": {},
   "source": [
    "#### Predição"
   ]
  },
  {
   "cell_type": "code",
   "execution_count": 105,
   "metadata": {},
   "outputs": [],
   "source": [
    "#arrumando os dados\n",
    "\n",
    "dados = x[['month', 'cnae_code']]\n",
    "resultados = x[['productTotal']]\n",
    "#resultados = np.array(resultados.productTotal).reshape(-1,1)\n",
    "resultados=resultados.astype('int')"
   ]
  },
  {
   "cell_type": "code",
   "execution_count": 106,
   "metadata": {},
   "outputs": [
    {
     "name": "stderr",
     "output_type": "stream",
     "text": [
      "/Users/pamela/anaconda3/lib/python3.7/site-packages/sklearn/utils/validation.py:578: DataConversionWarning: A column-vector y was passed when a 1d array was expected. Please change the shape of y to (n_samples, ), for example using ravel().\n",
      "  y = column_or_1d(y, warn=True)\n"
     ]
    },
    {
     "name": "stdout",
     "output_type": "stream",
     "text": [
      "[5 5 5 ... 5 5 5]\n",
      "        productTotal\n",
      "111899            22\n",
      "24218              4\n",
      "907803            25\n",
      "501103            32\n",
      "640174             2\n",
      "224270             0\n",
      "872652            40\n",
      "922238            29\n",
      "85231              3\n",
      "464942             3\n",
      "471107            10\n",
      "148154            70\n",
      "181300            71\n",
      "801851             4\n",
      "63253             60\n",
      "733668            12\n",
      "116245            47\n",
      "367890            59\n",
      "182512           100\n",
      "419387            79\n",
      "691761             5\n",
      "332688             4\n",
      "748356            13\n",
      "338569            75\n",
      "375130           249\n",
      "543832            39\n",
      "740381             9\n",
      "55126            109\n",
      "190646           189\n",
      "79043             49\n",
      "...              ...\n",
      "705748           124\n",
      "801862             4\n",
      "642304            13\n",
      "613461            40\n",
      "733950           138\n",
      "129284            20\n",
      "638527            22\n",
      "313083             3\n",
      "637782            30\n",
      "911097            50\n",
      "139351            12\n",
      "782618            92\n",
      "697998            10\n",
      "112002            12\n",
      "604324            12\n",
      "631623             2\n",
      "589855             8\n",
      "906835             4\n",
      "16135              7\n",
      "125758             8\n",
      "648592            20\n",
      "402809            10\n",
      "232023            50\n",
      "268622             9\n",
      "453130           100\n",
      "422530             5\n",
      "445440           160\n",
      "63401              3\n",
      "121104            30\n",
      "111981            14\n",
      "\n",
      "[231467 rows x 1 columns]\n"
     ]
    }
   ],
   "source": [
    "from sklearn.naive_bayes import MultinomialNB\n",
    "from sklearn.model_selection import train_test_split\n",
    "\n",
    "clf = MultinomialNB()\n",
    "treino_dados, teste_dados, treino_resultados, teste_resultados = train_test_split(dados, resultados) # 75% para treino e 25% para teste\n",
    "\n",
    "clf.fit (treino_dados, treino_resultados)\n",
    "pred = clf.predict (teste_dados)\n",
    "\n",
    "print(pred) \n",
    "print(teste_resultados) \n"
   ]
  },
  {
   "cell_type": "code",
   "execution_count": null,
   "metadata": {},
   "outputs": [],
   "source": []
  },
  {
   "cell_type": "markdown",
   "metadata": {},
   "source": [
    "#### Perfil dos compradores\n",
    "a loja pode ser considerada “premium”, “média” ou “popular” de acordo com o perfil de produtos que são vendidos. Lojas “premium” contam tickets médios mais altos nas categorias de produtos que atendem, marcas mais sofisticadas e compras feitas com cartão de crédito. Também tendem a ficar em áreas mais nobres de grandes cidades. Em contrapartida, lojas “populares” são mais orientadas a preços competitivos nas categorias de produtos e tendem a estar localizadas em regiões menos abastadas do espaço urbano"
   ]
  },
  {
   "cell_type": "code",
   "execution_count": 85,
   "metadata": {},
   "outputs": [
    {
     "data": {
      "text/plain": [
       "array(['Comércio varejista de combustíveis para veículos automotores',\n",
       "       'Lanchonetes, casas de chá, de sucos e similares',\n",
       "       'Comércio varejista de suvenires, bijuterias e artesanatos',\n",
       "       'Restaurantes e similares',\n",
       "       'Comércio varejista de mercadorias em geral, com predominância de produtos alimentícios - supermercados',\n",
       "       'Comércio varejista de produtos alimentícios em geral ou especializado em produtos alimentícios não especificados anteriormente',\n",
       "       'Comércio varejista de material elétrico',\n",
       "       'Comércio varejista de mercadorias em geral, com predominância de produtos alimentícios - minimercados, mercearias e armazéns',\n",
       "       'Holdings de instituições não-financeiras',\n",
       "       'Comércio varejista de artigos do vestuário e acessórios',\n",
       "       'Comércio atacadista de livros, jornais e outras publicações',\n",
       "       'Outras sociedades de participação, exceto holdings',\n",
       "       'Comércio varejista de artigos de papelaria',\n",
       "       'Comércio atacadista de mercadorias em geral, sem predominância de alimentos ou de insumos agropecuários',\n",
       "       'Comércio varejista especializado de equipamentos e suprimentos de informática',\n",
       "       'Comércio varejista de cosméticos, produtos de perfumaria e de higiene pessoal',\n",
       "       'Confecção de peças de vestuário, exceto roupas íntimas e as confeccionadas sob medida',\n",
       "       'Atividades de produção de fotografias, exceto aérea e submarina',\n",
       "       'Comércio varejista de artigos de viagem',\n",
       "       'Comércio varejista de tecidos',\n",
       "       'Gestão de ativos intangíveis não-financeiros',\n",
       "       'Comércio varejista especializado de equipamentos de telefonia e comunicação',\n",
       "       'Lojas de variedades, exceto lojas de departamentos ou magazines',\n",
       "       'Comércio varejista de produtos farmacêuticos, sem manipulação de fórmulas',\n",
       "       'Comércio varejista de mercadorias em lojas de conveniência',\n",
       "       'Comércio varejista de animais vivos e de artigos e alimentos para animais de estimação',\n",
       "       'Comércio varejista de calçados',\n",
       "       'Comércio atacadista de artigos do vestuário e acessórios, exceto profissionais e de segurança',\n",
       "       'Atividades de consultoria em gestão empresarial, exceto consultoria técnica específica',\n",
       "       'Comércio varejista de outros produtos não especificados anteriormente',\n",
       "       'Padaria e confeitaria com predominância de revenda',\n",
       "       'Comércio varejista de artigos esportivos',\n",
       "       'Comércio varejista de artigos de joalheria',\n",
       "       'Bares e outros estabelecimentos especializados em servir bebidas',\n",
       "       'Atividades de estética e outros serviços de cuidados com a beleza',\n",
       "       'Tabacaria',\n",
       "       'Fornecimento de alimentos preparados preponderantemente para empresas',\n",
       "       'Suporte técnico, manutenção e outros serviços em tecnologia da informação',\n",
       "       'Fabricação de produtos de padaria e confeitaria com predominância de produção própria',\n",
       "       'Fabricação de sorvetes e outros gelados comestíveis',\n",
       "       'Fabricação de gelo comum', '********',\n",
       "       'Lojas de departamentos ou magazines',\n",
       "       'Comércio varejista de artigos de óptica',\n",
       "       'Comércio atacadista de lubrificantes',\n",
       "       'Reparação e manutenção de computadores e de equipamentos periféricos',\n",
       "       'Representantes comerciais e agentes do comércio de produtos alimentícios, bebidas e fumo',\n",
       "       'Comércio atacadista de produtos alimentícios em geral',\n",
       "       'Comércio varejista de brinquedos e artigos recreativos',\n",
       "       'Comércio varejista de bebidas',\n",
       "       'Comércio varejista de artigos de tapeçaria, cortinas e persianas',\n",
       "       'Comércio varejista de outros artigos de uso pessoal e doméstico não especificados anteriormente',\n",
       "       'Comércio varejista de doces, balas, bombons e semelhantes',\n",
       "       'Comércio varejista de móveis',\n",
       "       'Fornecimento de alimentos preparados preponderantemente para consumo domiciliar',\n",
       "       'Comércio varejista de objetos de arte',\n",
       "       'Comercio varejista de artigos de armarinho',\n",
       "       'Comércio varejista de produtos saneantes domissanitários',\n",
       "       'Transporte rodoviário de carga, exceto produtos perigosos e mudanças, intermunicipal, interestadual e internacional',\n",
       "       'Comercio varejista de artigos de cama, mesa e banho',\n",
       "       'Promoção de vendas', nan], dtype=object)"
      ]
     },
     "execution_count": 85,
     "metadata": {},
     "output_type": "execute_result"
    }
   ],
   "source": [
    "stores.cnae_desc.unique()"
   ]
  },
  {
   "cell_type": "code",
   "execution_count": null,
   "metadata": {},
   "outputs": [],
   "source": []
  }
 ],
 "metadata": {
  "kernelspec": {
   "display_name": "Python 3",
   "language": "python",
   "name": "python3"
  },
  "language_info": {
   "codemirror_mode": {
    "name": "ipython",
    "version": 3
   },
   "file_extension": ".py",
   "mimetype": "text/x-python",
   "name": "python",
   "nbconvert_exporter": "python",
   "pygments_lexer": "ipython3",
   "version": "3.7.2"
  }
 },
 "nbformat": 4,
 "nbformat_minor": 2
}

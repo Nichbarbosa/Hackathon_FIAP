{
 "cells": [
  {
   "cell_type": "code",
   "execution_count": 11,
   "metadata": {},
   "outputs": [
    {
     "name": "stdout",
     "output_type": "stream",
     "text": [
      "(1499980, 3)\n",
      "                                             dominio  \\\n",
      "0  6139646137356433363237396637323937336161383832...   \n",
      "1  6139646137356433363237396637323937336161383832...   \n",
      "2  6139646137356433363237396637323937336161383832...   \n",
      "\n",
      "                        empresa             datahora  \n",
      "0  21404ebaa0106ca20ae283c89271  2018-11-19 16:40:45  \n",
      "1  510766392a95afd41c6bd526381a  2018-12-07 09:56:37  \n",
      "2  21404ebaa0106ca20ae283c89271  2018-10-18 08:29:47  \n"
     ]
    }
   ],
   "source": [
    "# importar arquivo como csv\n",
    "\n",
    "import pandas as pd\n",
    "\n",
    "combined_csv = pd.read_csv(\"combined_csv_datas_corretas.csv\", skiprows = 1, names =[\"index\",\"dominio\",\"empresa\",\"datahora\"])\n",
    "\n",
    "combined_csv.drop(\"index\", inplace=True, axis=1)\n",
    "\n",
    "print(combined_csv.shape)\n",
    "print(combined_csv.head(3))"
   ]
  },
  {
   "cell_type": "code",
   "execution_count": 12,
   "metadata": {},
   "outputs": [
    {
     "name": "stdout",
     "output_type": "stream",
     "text": [
      "                                             dominio  \\\n",
      "0  6139646137356433363237396637323937336161383832...   \n",
      "1  6139646137356433363237396637323937336161383832...   \n",
      "2  6139646137356433363237396637323937336161383832...   \n",
      "3  6139646137356433363237396637323937336161383832...   \n",
      "\n",
      "                        empresa            datahora  dia  \n",
      "0  21404ebaa0106ca20ae283c89271 2018-11-19 16:40:45   19  \n",
      "1  510766392a95afd41c6bd526381a 2018-12-07 09:56:37    7  \n",
      "2  21404ebaa0106ca20ae283c89271 2018-10-18 08:29:47   18  \n",
      "3  8ef4d40b852168ea8e3bbc4c89a0 2018-10-15 09:18:55   15  \n",
      "(1499980, 3)\n",
      "                                             dominio  \\\n",
      "0  6139646137356433363237396637323937336161383832...   \n",
      "1  6139646137356433363237396637323937336161383832...   \n",
      "2  6139646137356433363237396637323937336161383832...   \n",
      "3  6139646137356433363237396637323937336161383832...   \n",
      "\n",
      "                        empresa  dia  \n",
      "0  21404ebaa0106ca20ae283c89271   19  \n",
      "1  510766392a95afd41c6bd526381a    7  \n",
      "2  21404ebaa0106ca20ae283c89271   18  \n",
      "3  8ef4d40b852168ea8e3bbc4c89a0   15  \n"
     ]
    }
   ],
   "source": [
    "# transformando em dia\n",
    "\n",
    "from datetime import datetime\n",
    "\n",
    "data_e_hora_parsed = pd.to_datetime(combined_csv.loc[:, \"datahora\"], format=\"%Y-%m-%d %H:%M:%S\",errors=\"coerce\")\n",
    "combined_csv[\"datahora\"] = data_e_hora_parsed\n",
    "\n",
    "df_dias_transacoes = combined_csv[\"datahora\"].dt.day\n",
    "\n",
    "combined_csv[\"dia\"] = df_dias_transacoes\n",
    "combined_csv.drop(\"datahora\", inplace=True, axis=1)\n",
    "\n",
    "print(combined_csv.shape)\n",
    "print(combined_csv.head(4))"
   ]
  },
  {
   "cell_type": "code",
   "execution_count": 42,
   "metadata": {},
   "outputs": [
    {
     "name": "stdout",
     "output_type": "stream",
     "text": [
      "['dominio', 'Erros', 'Total', '1', '2', '3', '4', '5', '6', '7', '8', '9', '10', '11', '12', '13', '14', '15', '16', '17', '18', '19', '20', '21', '22', '23', '24', '25', '26', '27', '28', '29', '30', '31']\n",
      "                             dominio Erros Total  1  2  3  4  5  6  7  ... 22  \\\n",
      "21404ebaa0106ca20ae283c89271       0     0     0  0  0  0  0  0  0  0  ...  0   \n",
      "510766392a95afd41c6bd526381a       0     0     0  0  0  0  0  0  0  0  ...  0   \n",
      "8ef4d40b852168ea8e3bbc4c89a0       0     0     0  0  0  0  0  0  0  0  ...  0   \n",
      "\n",
      "                             23 24 25 26 27 28 29 30 31  \n",
      "21404ebaa0106ca20ae283c89271  0  0  0  0  0  0  0  0  0  \n",
      "510766392a95afd41c6bd526381a  0  0  0  0  0  0  0  0  0  \n",
      "8ef4d40b852168ea8e3bbc4c89a0  0  0  0  0  0  0  0  0  0  \n",
      "\n",
      "[3 rows x 34 columns]\n"
     ]
    }
   ],
   "source": [
    "# Agrupando as empresas e criando um dataframe de horário por cada transação\n",
    "\n",
    "empresas = combined_csv.empresa.unique()\n",
    "\n",
    "COLUNAS = ['dominio','Erros','Total']\n",
    "\n",
    "dias = []\n",
    "\n",
    "for data in range(1,32):\n",
    "    dias.append(str(data))\n",
    "\n",
    "COLUNAS =  COLUNAS + dias\n",
    "\n",
    "print(COLUNAS)\n",
    "\n",
    "frequencia_dias_empresas = pd.DataFrame(columns=COLUNAS,index=empresas)\n",
    "\n",
    "for col in frequencia_dias_empresas.columns:\n",
    "    frequencia_dias_empresas[col].values[:] = 0\n",
    "    \n",
    "print(frequencia_dias_empresas.head(3))"
   ]
  },
  {
   "cell_type": "code",
   "execution_count": 43,
   "metadata": {},
   "outputs": [
    {
     "name": "stdout",
     "output_type": "stream",
     "text": [
      "0\n",
      "100000\n",
      "200000\n",
      "300000\n",
      "400000\n",
      "500000\n",
      "600000\n",
      "700000\n",
      "800000\n",
      "900000\n",
      "1000000\n",
      "1100000\n",
      "1200000\n",
      "1300000\n",
      "1400000\n"
     ]
    }
   ],
   "source": [
    "# populando o dataframe de frequencias de horario por empresa\n",
    "\n",
    "for index, row in combined_csv.iterrows():\n",
    "    if index % 100000 == 0:\n",
    "        print(index)\n",
    "    if row.dia == 1:\n",
    "        frequencia_dias_empresas.loc[row.empresa, \"1\"] += 1\n",
    "    elif row.dia == 2:\n",
    "        frequencia_dias_empresas.loc[row.empresa, \"2\"] += 1\n",
    "    elif row.dia == 3:\n",
    "        frequencia_dias_empresas.loc[row.empresa, \"3\"] += 1\n",
    "    elif row.dia == 4:\n",
    "        frequencia_dias_empresas.loc[row.empresa, \"4\"] += 1\n",
    "    elif row.dia == 5:\n",
    "        frequencia_dias_empresas.loc[row.empresa, \"5\"] += 1\n",
    "    elif row.dia == 6:\n",
    "        frequencia_dias_empresas.loc[row.empresa, \"6\"] += 1\n",
    "    elif row.dia == 7:\n",
    "        frequencia_dias_empresas.loc[row.empresa, \"7\"] += 1\n",
    "    elif row.dia == 8:\n",
    "        frequencia_dias_empresas.loc[row.empresa, \"8\"] += 1\n",
    "    elif row.dia == 9:\n",
    "        frequencia_dias_empresas.loc[row.empresa, \"9\"] += 1\n",
    "    elif row.dia == 10:\n",
    "        frequencia_dias_empresas.loc[row.empresa, \"10\"] += 1\n",
    "    elif row.dia == 11:\n",
    "        frequencia_dias_empresas.loc[row.empresa, \"11\"] += 1\n",
    "    elif row.dia == 12:\n",
    "        frequencia_dias_empresas.loc[row.empresa, \"12\"] += 1\n",
    "    elif row.dia == 13:\n",
    "        frequencia_dias_empresas.loc[row.empresa, \"13\"] += 1\n",
    "    elif row.dia == 14:\n",
    "        frequencia_dias_empresas.loc[row.empresa, \"14\"] += 1\n",
    "    elif row.dia == 15:\n",
    "        frequencia_dias_empresas.loc[row.empresa, \"15\"] += 1\n",
    "    elif row.dia == 16:\n",
    "        frequencia_dias_empresas.loc[row.empresa, \"16\"] += 1\n",
    "    elif row.dia == 17:\n",
    "        frequencia_dias_empresas.loc[row.empresa, \"17\"] += 1\n",
    "    elif row.dia == 18:\n",
    "        frequencia_dias_empresas.loc[row.empresa, \"18\"] += 1\n",
    "    elif row.dia == 19:\n",
    "        frequencia_dias_empresas.loc[row.empresa, \"19\"] += 1\n",
    "    elif row.dia == 20:\n",
    "        frequencia_dias_empresas.loc[row.empresa, \"20\"] += 1\n",
    "    elif row.dia == 21:\n",
    "        frequencia_dias_empresas.loc[row.empresa, \"21\"] += 1\n",
    "    elif row.dia == 22:\n",
    "        frequencia_dias_empresas.loc[row.empresa, \"22\"] += 1\n",
    "    elif row.dia == 23:\n",
    "        frequencia_dias_empresas.loc[row.empresa, \"23\"] += 1\n",
    "    elif row.dia == 24:\n",
    "        frequencia_dias_empresas.loc[row.empresa, \"24\"] += 1\n",
    "    elif row.dia == 25:\n",
    "        frequencia_dias_empresas.loc[row.empresa, \"25\"] += 1\n",
    "    elif row.dia == 26:\n",
    "        frequencia_dias_empresas.loc[row.empresa, \"26\"] += 1\n",
    "    elif row.dia == 27:\n",
    "        frequencia_dias_empresas.loc[row.empresa, \"27\"] += 1\n",
    "    elif row.dia == 28:\n",
    "        frequencia_dias_empresas.loc[row.empresa, \"28\"] += 1\n",
    "    elif row.dia == 29:\n",
    "        frequencia_dias_empresas.loc[row.empresa, \"29\"] += 1\n",
    "    elif row.dia == 30:\n",
    "        frequencia_dias_empresas.loc[row.empresa, \"30\"] += 1\n",
    "    elif row.dia == 31:\n",
    "        frequencia_dias_empresas.loc[row.empresa, \"31\"] += 1\n",
    "    else:\n",
    "        frequencia_dias_empresas.loc[row.empresa, \"Erros\"] += 1\n",
    "        \n",
    "    frequencia_dias_empresas.loc[row.empresa, \"Total\"] += 1\n",
    "        "
   ]
  },
  {
   "cell_type": "code",
   "execution_count": 44,
   "metadata": {},
   "outputs": [
    {
     "name": "stdout",
     "output_type": "stream",
     "text": [
      "1499980\n",
      "0\n"
     ]
    }
   ],
   "source": [
    "# Checando se resultado bate com valor total\n",
    "\n",
    "total = 0\n",
    "erros = 0\n",
    "\n",
    "for index, row in frequencia_dias_empresas.iterrows():\n",
    "    total += row[\"Total\"]\n",
    "    erros += row[\"Erros\"]\n",
    "    \n",
    "print(total)\n",
    "print(erros)"
   ]
  },
  {
   "cell_type": "code",
   "execution_count": 50,
   "metadata": {},
   "outputs": [
    {
     "name": "stdout",
     "output_type": "stream",
     "text": [
      "                                                                        dominio  \\\n",
      "21404ebaa0106ca20ae283c89271  6139646137356433363237396637323937336161383832...   \n",
      "510766392a95afd41c6bd526381a  6139646137356433363237396637323937336161383832...   \n",
      "\n",
      "                              Total    1    2    3    4    5    6    7    8  \\\n",
      "21404ebaa0106ca20ae283c89271  11098  423  354  359  361  390  421  431  380   \n",
      "510766392a95afd41c6bd526381a   4761  239  174  151  146  148  154  155  162   \n",
      "\n",
      "                              ...   22   23   24   25   26   27   28   29  \\\n",
      "21404ebaa0106ca20ae283c89271  ...  393  366  318  295  335  348  334  262   \n",
      "510766392a95afd41c6bd526381a  ...  149  154  167  143  179  142  140  163   \n",
      "\n",
      "                               30   31  \n",
      "21404ebaa0106ca20ae283c89271  328  266  \n",
      "510766392a95afd41c6bd526381a  169  121  \n",
      "\n",
      "[2 rows x 33 columns]\n"
     ]
    }
   ],
   "source": [
    "# Colocando valor de dominio\n",
    "\n",
    "combined_csv_indexed = combined_csv.set_index(\"empresa\")\n",
    "combined_csv_indexed_string = combined_csv_indexed.copy()\n",
    "combined_csv_indexed_string[\"dominio\"] = combined_csv_indexed_string[\"dominio\"].apply(lambda x: str(x))\n",
    "\n",
    "frequencia_dias_empresas_string = frequencia_dias_empresas.copy()\n",
    "frequencia_dias_empresas_string[\"dominio\"] = frequencia_dias_empresas_string[\"dominio\"].apply(lambda x: str(x))\n",
    "\n",
    "for index, row in frequencia_dias_empresas_string.iterrows():\n",
    "    something = combined_csv_indexed_string.loc[row.name][\"dominio\"]\n",
    "    if(type(something) is str):\n",
    "        frequencia_dias_empresas_string.loc[index,\"dominio\"] = str(something)\n",
    "    else:\n",
    "        frequencia_dias_empresas_string.loc[index,\"dominio\"] = str(something.iat[0])\n",
    "\n",
    "print(frequencia_dias_empresas_string.head(2))"
   ]
  },
  {
   "cell_type": "code",
   "execution_count": 55,
   "metadata": {},
   "outputs": [
    {
     "name": "stdout",
     "output_type": "stream",
     "text": [
      "(1548, 33)\n"
     ]
    }
   ],
   "source": [
    "# Exportando arquivo de frequencias\n",
    "\n",
    "#frequencia_dias_empresas_string.drop(\"Erros\", inplace=True, axis=1)\n",
    "\n",
    "export_csv = frequencia_dias_empresas_string.to_csv (r'frequencia_dias_transacoes_por_empresa.csv', index_label = \"index\")\n",
    "\n",
    "print(frequencia_dias_empresas.shape)"
   ]
  },
  {
   "cell_type": "code",
   "execution_count": 56,
   "metadata": {
    "scrolled": true
   },
   "outputs": [],
   "source": [
    "\n",
    "porcentagem_frequencia_dias_empresas = frequencia_dias_empresas_string.copy()\n",
    "\n",
    "for index, row in frequencia_dias_empresas.iterrows():\n",
    "    porcentagem_frequencia_dias_empresas.loc[index,[\"1\"]]  = row[\"1\"]  / row[\"Total\"]\n",
    "    porcentagem_frequencia_dias_empresas.loc[index,[\"2\"]]  = row[\"2\"]  / row[\"Total\"]\n",
    "    porcentagem_frequencia_dias_empresas.loc[index,[\"3\"]]  = row[\"3\"]  / row[\"Total\"]\n",
    "    porcentagem_frequencia_dias_empresas.loc[index,[\"4\"]]  = row[\"4\"]  / row[\"Total\"]\n",
    "    porcentagem_frequencia_dias_empresas.loc[index,[\"5\"]]  = row[\"5\"]  / row[\"Total\"]\n",
    "    porcentagem_frequencia_dias_empresas.loc[index,[\"6\"]]  = row[\"6\"]  / row[\"Total\"]\n",
    "    porcentagem_frequencia_dias_empresas.loc[index,[\"7\"]]  = row[\"7\"]  / row[\"Total\"]\n",
    "    porcentagem_frequencia_dias_empresas.loc[index,[\"8\"]]  = row[\"8\"]  / row[\"Total\"]\n",
    "    porcentagem_frequencia_dias_empresas.loc[index,[\"9\"]]  = row[\"9\"]  / row[\"Total\"]\n",
    "    porcentagem_frequencia_dias_empresas.loc[index,[\"10\"]] = row[\"10\"] / row[\"Total\"]\n",
    "    porcentagem_frequencia_dias_empresas.loc[index,[\"11\"]] = row[\"11\"] / row[\"Total\"]\n",
    "    porcentagem_frequencia_dias_empresas.loc[index,[\"12\"]] = row[\"12\"] / row[\"Total\"]\n",
    "    porcentagem_frequencia_dias_empresas.loc[index,[\"13\"]] = row[\"13\"] / row[\"Total\"]\n",
    "    porcentagem_frequencia_dias_empresas.loc[index,[\"14\"]] = row[\"14\"] / row[\"Total\"]\n",
    "    porcentagem_frequencia_dias_empresas.loc[index,[\"15\"]] = row[\"15\"] / row[\"Total\"]\n",
    "    porcentagem_frequencia_dias_empresas.loc[index,[\"16\"]] = row[\"16\"] / row[\"Total\"]\n",
    "    porcentagem_frequencia_dias_empresas.loc[index,[\"17\"]] = row[\"17\"] / row[\"Total\"]\n",
    "    porcentagem_frequencia_dias_empresas.loc[index,[\"18\"]] = row[\"18\"] / row[\"Total\"]\n",
    "    porcentagem_frequencia_dias_empresas.loc[index,[\"19\"]] = row[\"19\"] / row[\"Total\"]\n",
    "    porcentagem_frequencia_dias_empresas.loc[index,[\"20\"]] = row[\"20\"] / row[\"Total\"]\n",
    "    porcentagem_frequencia_dias_empresas.loc[index,[\"21\"]] = row[\"21\"] / row[\"Total\"]\n",
    "    porcentagem_frequencia_dias_empresas.loc[index,[\"22\"]] = row[\"22\"] / row[\"Total\"]\n",
    "    porcentagem_frequencia_dias_empresas.loc[index,[\"23\"]] = row[\"23\"] / row[\"Total\"]\n",
    "    porcentagem_frequencia_dias_empresas.loc[index,[\"24\"]] = row[\"24\"] / row[\"Total\"]\n",
    "    porcentagem_frequencia_dias_empresas.loc[index,[\"25\"]] = row[\"25\"] / row[\"Total\"]\n",
    "    porcentagem_frequencia_dias_empresas.loc[index,[\"26\"]] = row[\"26\"] / row[\"Total\"]\n",
    "    porcentagem_frequencia_dias_empresas.loc[index,[\"27\"]] = row[\"27\"] / row[\"Total\"]\n",
    "    porcentagem_frequencia_dias_empresas.loc[index,[\"28\"]] = row[\"28\"] / row[\"Total\"]\n",
    "    porcentagem_frequencia_dias_empresas.loc[index,[\"29\"]] = row[\"29\"] / row[\"Total\"]\n",
    "    porcentagem_frequencia_dias_empresas.loc[index,[\"30\"]] = row[\"30\"] / row[\"Total\"]\n",
    "    porcentagem_frequencia_dias_empresas.loc[index,[\"31\"]] = row[\"31\"] / row[\"Total\"]\n"
   ]
  },
  {
   "cell_type": "code",
   "execution_count": 58,
   "metadata": {
    "scrolled": true
   },
   "outputs": [
    {
     "name": "stdout",
     "output_type": "stream",
     "text": [
      "                                                                        dominio  \\\n",
      "21404ebaa0106ca20ae283c89271  6139646137356433363237396637323937336161383832...   \n",
      "510766392a95afd41c6bd526381a  6139646137356433363237396637323937336161383832...   \n",
      "\n",
      "                              Total    1    2    3    4    5    6    7    8  \\\n",
      "21404ebaa0106ca20ae283c89271  11098  423  354  359  361  390  421  431  380   \n",
      "510766392a95afd41c6bd526381a   4761  239  174  151  146  148  154  155  162   \n",
      "\n",
      "                              ...   22   23   24   25   26   27   28   29  \\\n",
      "21404ebaa0106ca20ae283c89271  ...  393  366  318  295  335  348  334  262   \n",
      "510766392a95afd41c6bd526381a  ...  149  154  167  143  179  142  140  163   \n",
      "\n",
      "                               30   31  \n",
      "21404ebaa0106ca20ae283c89271  328  266  \n",
      "510766392a95afd41c6bd526381a  169  121  \n",
      "\n",
      "[2 rows x 33 columns]\n",
      "                                                                        dominio  \\\n",
      "21404ebaa0106ca20ae283c89271  6139646137356433363237396637323937336161383832...   \n",
      "510766392a95afd41c6bd526381a  6139646137356433363237396637323937336161383832...   \n",
      "\n",
      "                              Total         1         2         3         4  \\\n",
      "21404ebaa0106ca20ae283c89271  11098  0.038115  0.031898  0.032348  0.032528   \n",
      "510766392a95afd41c6bd526381a   4761  0.050200  0.036547  0.031716  0.030666   \n",
      "\n",
      "                                     5         6         7         8  ...  \\\n",
      "21404ebaa0106ca20ae283c89271  0.035141  0.037935  0.038836  0.034240  ...   \n",
      "510766392a95afd41c6bd526381a  0.031086  0.032346  0.032556  0.034026  ...   \n",
      "\n",
      "                                    22        23        24        25  \\\n",
      "21404ebaa0106ca20ae283c89271  0.035412  0.032979  0.028654  0.026581   \n",
      "510766392a95afd41c6bd526381a  0.031296  0.032346  0.035077  0.030036   \n",
      "\n",
      "                                    26        27        28        29  \\\n",
      "21404ebaa0106ca20ae283c89271  0.030186  0.031357  0.030096  0.023608   \n",
      "510766392a95afd41c6bd526381a  0.037597  0.029826  0.029406  0.034237   \n",
      "\n",
      "                                    30        31  \n",
      "21404ebaa0106ca20ae283c89271  0.029555  0.023968  \n",
      "510766392a95afd41c6bd526381a  0.035497  0.025415  \n",
      "\n",
      "[2 rows x 33 columns]\n"
     ]
    }
   ],
   "source": [
    "print(frequencia_dias_empresas_string.head(2))    \n",
    "print(porcentagem_frequencia_dias_empresas.head(2))"
   ]
  },
  {
   "cell_type": "code",
   "execution_count": 59,
   "metadata": {},
   "outputs": [
    {
     "name": "stdout",
     "output_type": "stream",
     "text": [
      "(1548, 33)\n"
     ]
    }
   ],
   "source": [
    "# Exportando arquivo de frequencias\n",
    "\n",
    "export_csv = porcentagem_frequencia_dias_empresas.to_csv (r'porcentagem_dias_transacoes_por_empresa.csv', index_label = \"index\")\n",
    "\n",
    "print(porcentagem_frequencia_dias_empresas.shape)"
   ]
  },
  {
   "cell_type": "code",
   "execution_count": null,
   "metadata": {},
   "outputs": [],
   "source": []
  }
 ],
 "metadata": {
  "kernelspec": {
   "display_name": "Python 3",
   "language": "python",
   "name": "python3"
  },
  "language_info": {
   "codemirror_mode": {
    "name": "ipython",
    "version": 3
   },
   "file_extension": ".py",
   "mimetype": "text/x-python",
   "name": "python",
   "nbconvert_exporter": "python",
   "pygments_lexer": "ipython3",
   "version": "3.7.3"
  }
 },
 "nbformat": 4,
 "nbformat_minor": 2
}

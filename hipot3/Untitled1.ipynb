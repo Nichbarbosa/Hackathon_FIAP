{
 "cells": [
  {
   "cell_type": "code",
   "execution_count": 1,
   "metadata": {},
   "outputs": [],
   "source": [
    "import seaborn as sns; sns.set()\n",
    "import matplotlib.pyplot as plt\n",
    "from sklearn.cluster import KMeans\n",
    "import numpy as np\n",
    "from sklearn.decomposition import PCA \n",
    "from sklearn.preprocessing import StandardScaler\n",
    "import pylab as pl\n",
    "from mpl_toolkits import mplot3d\n",
    "import plotly.graph_objs as go\n",
    "from sklearn.cluster import SpectralClustering\n",
    "import plotly as py\n",
    "import pandas as pd"
   ]
  },
  {
   "cell_type": "code",
   "execution_count": 5,
   "metadata": {},
   "outputs": [
    {
     "name": "stdout",
     "output_type": "stream",
     "text": [
      "             hair  feathers  eggs  milk  airborne  aquatic  predator  toothed  \\\n",
      "animal_name                                                                     \n",
      "aardvark        1         0     0     1         0        0         1        1   \n",
      "antelope        1         0     0     1         0        0         0        1   \n",
      "bass            0         0     1     0         0        1         1        1   \n",
      "bear            1         0     0     1         0        0         1        1   \n",
      "boar            1         0     0     1         0        0         1        1   \n",
      "\n",
      "             backbone  breathes  venomous  fins  legs  tail  domestic  catsize  \n",
      "animal_name                                                                     \n",
      "aardvark            1         1         0     0     4     0         0        1  \n",
      "antelope            1         1         0     0     4     1         0        1  \n",
      "bass                1         0         0     1     0     1         0        0  \n",
      "bear                1         1         0     0     4     0         0        1  \n",
      "boar                1         1         0     0     4     1         0        1  \n"
     ]
    },
    {
     "data": {
      "text/plain": [
       "hair        int64\n",
       "feathers    int64\n",
       "eggs        int64\n",
       "milk        int64\n",
       "airborne    int64\n",
       "aquatic     int64\n",
       "predator    int64\n",
       "toothed     int64\n",
       "backbone    int64\n",
       "breathes    int64\n",
       "venomous    int64\n",
       "fins        int64\n",
       "legs        int64\n",
       "tail        int64\n",
       "domestic    int64\n",
       "catsize     int64\n",
       "dtype: object"
      ]
     },
     "execution_count": 5,
     "metadata": {},
     "output_type": "execute_result"
    }
   ],
   "source": [
    "zoo_data = pd.read_csv(\"zoo_data.csv\", encoding = 'utf-8', \n",
    "                              index_col = [\"animal_name\"]) \n",
    "  \n",
    "# print first 5 rows of zoo data  \n",
    "print(zoo_data.head())\n",
    "zoo_data.dtypes"
   ]
  },
  {
   "cell_type": "code",
   "execution_count": 4,
   "metadata": {},
   "outputs": [
    {
     "name": "stdout",
     "output_type": "stream",
     "text": [
      "[2 2 0 2 2 2 2 0 0 2 2 3 0 0 1 5 3 2 0 0 3 3 2 3 5 1 1 6 2 6 5 2 6 3 0 2 2\n",
      " 3 0 5 5 3 5 3 2 2 5 2 2 2 2 5 1 4 2 2 3 3 3 3 0 0 0 2 2 2 0 2 2 2 2 3 4 0\n",
      " 0 6 0 0 3 3 0 0 0 3 6 1 0 3 5 1 1 1 0 6 2 3 6 5 2 0 3]\n"
     ]
    }
   ],
   "source": [
    "clusters = 7\n",
    "  \n",
    "kmeans = KMeans(n_clusters = clusters) \n",
    "kmeans.fit(zoo_data) \n",
    "  \n",
    "print(kmeans.labels_)"
   ]
  },
  {
   "cell_type": "code",
   "execution_count": null,
   "metadata": {},
   "outputs": [],
   "source": []
  }
 ],
 "metadata": {
  "kernelspec": {
   "display_name": "Python 3",
   "language": "python",
   "name": "python3"
  },
  "language_info": {
   "codemirror_mode": {
    "name": "ipython",
    "version": 3
   },
   "file_extension": ".py",
   "mimetype": "text/x-python",
   "name": "python",
   "nbconvert_exporter": "python",
   "pygments_lexer": "ipython3",
   "version": "3.6.4"
  }
 },
 "nbformat": 4,
 "nbformat_minor": 2
}
